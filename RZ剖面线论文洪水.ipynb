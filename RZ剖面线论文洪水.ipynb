{
 "cells": [
  {
   "cell_type": "code",
   "execution_count": 1,
   "id": "95cece10",
   "metadata": {},
   "outputs": [
    {
     "name": "stdout",
     "output_type": "stream",
     "text": [
      "本地自定义模块 z_flood_robust 已成功导入！\n"
     ]
    }
   ],
   "source": [
    "import ee\n",
    "import geemap\n",
    "# 不再需要 import sys, import os (除非其他地方用到)\n",
    "# 也不再需要任何 sys.path.append(...)\n",
    "\n",
    "# 初始化GEE\n",
    "ee.Initialize(project='geemap-441216') # 替换为您的项目ID\n",
    "\n",
    "# Python会自动在当前文件夹下寻找模块，所以可以直接导入！\n",
    "try:\n",
    "    import z_flood_robust\n",
    "    from z_flood_robust import zscore # 甚至可以这样导入\n",
    "    zscore.calc_basemad # 尝试访问\n",
    "    print(\"本地自定义模块 z_flood_robust 已成功导入！\")\n",
    "except ImportError as e:\n",
    "    print(f\"导入模块失败: {e}\")\n",
    "    print(\"请确保'z_flood_robust'文件夹与您的Jupyter笔记本在同一个目录下。\")"
   ]
  },
  {
   "cell_type": "markdown",
   "id": "709e2d38",
   "metadata": {},
   "source": [
    "# 1.导入依赖-数据管理模块"
   ]
  },
  {
   "cell_type": "code",
   "execution_count": 3,
   "id": "f6e5cbb6",
   "metadata": {},
   "outputs": [
    {
     "data": {
      "text/html": [
       "\n",
       "            <style>\n",
       "                .geemap-dark {\n",
       "                    --jp-widgets-color: white;\n",
       "                    --jp-widgets-label-color: white;\n",
       "                    --jp-ui-font-color1: white;\n",
       "                    --jp-layout-color2: #454545;\n",
       "                    background-color: #383838;\n",
       "                }\n",
       "\n",
       "                .geemap-dark .jupyter-button {\n",
       "                    --jp-layout-color3: #383838;\n",
       "                }\n",
       "\n",
       "                .geemap-colab {\n",
       "                    background-color: var(--colab-primary-surface-color, white);\n",
       "                }\n",
       "\n",
       "                .geemap-colab .jupyter-button {\n",
       "                    --jp-layout-color3: var(--colab-primary-surface-color, white);\n",
       "                }\n",
       "            </style>\n",
       "            "
      ],
      "text/plain": [
       "<IPython.core.display.HTML object>"
      ]
     },
     "metadata": {},
     "output_type": "display_data"
    }
   ],
   "source": [
    "import pandas as pd\n",
    "from datetime import datetime\n",
    "import matplotlib.pyplot as plt\n",
    "from matplotlib.patches import Rectangle #用于在图表中添加形状(例如矩形)\n",
    "import re #正则表达式模块\n",
    "from z_flood_robust import calc_basemedian, calc_basemad, calc_median_anomaly, calc_robust_zscore, calc_basemean,calc_basestd,calc_zscore\n",
    "from z_flood_robust import mapFloods,floodPalette\n",
    "\n",
    "from ipywidgets import Label #用于创建交互式控件\n",
    "\n"
   ]
  },
  {
   "cell_type": "markdown",
   "id": "d276e6e1",
   "metadata": {},
   "source": [
    "# 2.定义交互式地图以选择感兴趣区域-界面与交互模块"
   ]
  },
  {
   "cell_type": "code",
   "execution_count": 4,
   "id": "24facd87",
   "metadata": {},
   "outputs": [
    {
     "data": {
      "text/html": [
       "\n",
       "            <style>\n",
       "                .geemap-dark {\n",
       "                    --jp-widgets-color: white;\n",
       "                    --jp-widgets-label-color: white;\n",
       "                    --jp-ui-font-color1: white;\n",
       "                    --jp-layout-color2: #454545;\n",
       "                    background-color: #383838;\n",
       "                }\n",
       "\n",
       "                .geemap-dark .jupyter-button {\n",
       "                    --jp-layout-color3: #383838;\n",
       "                }\n",
       "\n",
       "                .geemap-colab {\n",
       "                    background-color: var(--colab-primary-surface-color, white);\n",
       "                }\n",
       "\n",
       "                .geemap-colab .jupyter-button {\n",
       "                    --jp-layout-color3: var(--colab-primary-surface-color, white);\n",
       "                }\n",
       "            </style>\n",
       "            "
      ],
      "text/plain": [
       "<IPython.core.display.HTML object>"
      ]
     },
     "metadata": {},
     "output_type": "display_data"
    },
    {
     "data": {
      "text/plain": [
       "1"
      ]
     },
     "metadata": {},
     "output_type": "display_data"
    },
    {
     "name": "stdout",
     "output_type": "stream",
     "text": [
      "请点击地图以选择你要监测的区域\n"
     ]
    },
    {
     "data": {
      "application/vnd.jupyter.widget-view+json": {
       "model_id": "61f901a8a0d84d71812e7ab747ce3009",
       "version_major": 2,
       "version_minor": 0
      },
      "text/plain": [
       "Map(center=[0, 0], controls=(WidgetControl(options=['position', 'transparent_bg'], position='topright', transp…"
      ]
     },
     "execution_count": 4,
     "metadata": {},
     "output_type": "execute_result"
    }
   ],
   "source": [
    "#解析用户点击地图时生成的坐标字符串，提取经纬度并返回\n",
    "def parseClickedCoordinates(label):\n",
    "  #利用正则表达式，从label.value提取出坐标：一个可能带有负号的浮点数 这里为【经度，纬度】\n",
    "  #正则表达式： r'(?:-)?[0-9]+.[0-9]+'\n",
    "  #r'表示原始字符，(?:-)是非捕获组，?:表示负号是可选的，[0-9]+表示匹配一个数字，+表示可以出现一次或多次，.匹配小数点，最后再次匹配一个或多个数字\n",
    "  coords = [float(c) for c in re.findall(r'(?:-)?[0-9]+.[0-9]+', label.value)]\n",
    "  coords.reverse() #反转为【纬度，经度】，符合GEE坐标格式\n",
    "  return coords\n",
    "\n",
    "#创建一个Lable，用于显示用户点击的目标\n",
    "l = Label()\n",
    "display(1)\n",
    "#处理用户与地图的交互事件，当用户点击地图时，将点击的坐标存储到Label控件中\n",
    "def handle_interaction(**kwargs):\n",
    "  #kwargs包含交互事件的参数 kwargs.get('type'):获取事件类型为鼠标点击 kwargs.get('coordinates')：获取点击的坐标，转换为字符串并存储到Label控件中\n",
    "  if kwargs.get('type') == 'click':\n",
    "    l.value = str(kwargs.get('coordinates'))\n",
    "\n",
    "print('请点击地图以选择你要监测的区域')\n",
    "#创建交互式地图\n",
    "Map = geemap.Map()\n",
    "Map.on_interaction(handle_interaction)\n",
    "Map"
   ]
  },
  {
   "cell_type": "markdown",
   "id": "ab455c54",
   "metadata": {},
   "source": [
    "# 3.定义几何范围并展示-界面与交互模块"
   ]
  },
  {
   "cell_type": "markdown",
   "id": "1741afe9",
   "metadata": {},
   "source": [
    "## 1.确定研究区域"
   ]
  },
  {
   "cell_type": "code",
   "execution_count": 5,
   "id": "e674dcb9",
   "metadata": {},
   "outputs": [
    {
     "data": {
      "text/html": [
       "\n",
       "            <style>\n",
       "                .geemap-dark {\n",
       "                    --jp-widgets-color: white;\n",
       "                    --jp-widgets-label-color: white;\n",
       "                    --jp-ui-font-color1: white;\n",
       "                    --jp-layout-color2: #454545;\n",
       "                    background-color: #383838;\n",
       "                }\n",
       "\n",
       "                .geemap-dark .jupyter-button {\n",
       "                    --jp-layout-color3: #383838;\n",
       "                }\n",
       "\n",
       "                .geemap-colab {\n",
       "                    background-color: var(--colab-primary-surface-color, white);\n",
       "                }\n",
       "\n",
       "                .geemap-colab .jupyter-button {\n",
       "                    --jp-layout-color3: var(--colab-primary-surface-color, white);\n",
       "                }\n",
       "            </style>\n",
       "            "
      ],
      "text/plain": [
       "<IPython.core.display.HTML object>"
      ]
     },
     "metadata": {},
     "output_type": "display_data"
    },
    {
     "data": {
      "application/vnd.jupyter.widget-view+json": {
       "model_id": "61f901a8a0d84d71812e7ab747ce3009",
       "version_major": 2,
       "version_minor": 0
      },
      "text/plain": [
       "Map(bottom=100185.00457112455, center=[39.32048277967292, -0.09546865082594948], controls=(WidgetControl(optio…"
      ]
     },
     "execution_count": 5,
     "metadata": {},
     "output_type": "execute_result"
    }
   ],
   "source": [
    "lon,lat = parseClickedCoordinates(l)\n",
    "w,h = 2,2 #矩形宽度与高度（单位：度）\n",
    "\n",
    "geometry = ee.Geometry.Polygon(\n",
    "    [[[lon-w,lat-h],\n",
    "     [lon-w,lat+h],\n",
    "     [lon+w,lat+h],\n",
    "     [lon+w,lat-h]]]\n",
    ")\n",
    "\n",
    "#将几何范围添加到地图\n",
    "Map.addLayer(\n",
    "    geometry,\n",
    "    {'color':'red','fillColor':'00000000'},\n",
    "    'AOI'\n",
    ")\n",
    "Map"
   ]
  },
  {
   "cell_type": "code",
   "execution_count": 6,
   "id": "d0b8ad8e",
   "metadata": {},
   "outputs": [
    {
     "data": {
      "text/html": [
       "\n",
       "            <style>\n",
       "                .geemap-dark {\n",
       "                    --jp-widgets-color: white;\n",
       "                    --jp-widgets-label-color: white;\n",
       "                    --jp-ui-font-color1: white;\n",
       "                    --jp-layout-color2: #454545;\n",
       "                    background-color: #383838;\n",
       "                }\n",
       "\n",
       "                .geemap-dark .jupyter-button {\n",
       "                    --jp-layout-color3: #383838;\n",
       "                }\n",
       "\n",
       "                .geemap-colab {\n",
       "                    background-color: var(--colab-primary-surface-color, white);\n",
       "                }\n",
       "\n",
       "                .geemap-colab .jupyter-button {\n",
       "                    --jp-layout-color3: var(--colab-primary-surface-color, white);\n",
       "                }\n",
       "            </style>\n",
       "            "
      ],
      "text/plain": [
       "<IPython.core.display.HTML object>"
      ]
     },
     "metadata": {},
     "output_type": "display_data"
    },
    {
     "name": "stdout",
     "output_type": "stream",
     "text": [
      "ROI 类型：Polygon\n",
      "ROI 坐标：[[[-0.533837, 39.309646], [-0.533837, 39.54726], [-0.330545, 39.54726], [-0.330545, 39.309646], [-0.533837, 39.309646]]]\n"
     ]
    }
   ],
   "source": [
    "#USE MAP RECTANGLE 选择区域\n",
    "#获取感兴趣区域（用于论文绘图)\n",
    "roi_choose1 = Map.user_roi\n",
    "\n",
    "if roi_choose1 is not None:\n",
    "  #获取ROI类型\n",
    "  roi_type = roi_choose1.type().getInfo()\n",
    "  print(f\"ROI 类型：{roi_type}\")\n",
    "\n",
    "  #如果是Polygon，获取坐标\n",
    "  if roi_type == 'Polygon':\n",
    "    coords = roi_choose1.coordinates().getInfo()\n",
    "    print(f\"ROI 坐标：{coords}\")"
   ]
  },
  {
   "cell_type": "markdown",
   "id": "5a5f0b33",
   "metadata": {},
   "source": []
  },
  {
   "cell_type": "markdown",
   "id": "ceb5a71e",
   "metadata": {},
   "source": [
    "## 2.显示影像数量图"
   ]
  },
  {
   "cell_type": "code",
   "execution_count": null,
   "id": "d664f7db",
   "metadata": {},
   "outputs": [
    {
     "data": {
      "text/html": [
       "\n",
       "            <style>\n",
       "                .geemap-dark {\n",
       "                    --jp-widgets-color: white;\n",
       "                    --jp-widgets-label-color: white;\n",
       "                    --jp-ui-font-color1: white;\n",
       "                    --jp-layout-color2: #454545;\n",
       "                    background-color: #383838;\n",
       "                }\n",
       "\n",
       "                .geemap-dark .jupyter-button {\n",
       "                    --jp-layout-color3: #383838;\n",
       "                }\n",
       "\n",
       "                .geemap-colab {\n",
       "                    background-color: var(--colab-primary-surface-color, white);\n",
       "                }\n",
       "\n",
       "                .geemap-colab .jupyter-button {\n",
       "                    --jp-layout-color3: var(--colab-primary-surface-color, white);\n",
       "                }\n",
       "            </style>\n",
       "            "
      ],
      "text/plain": [
       "<IPython.core.display.HTML object>"
      ]
     },
     "metadata": {},
     "output_type": "display_data"
    },
    {
     "name": "stdout",
     "output_type": "stream",
     "text": [
      "\n",
      "--- [再次修正版] 开始生成研究区Sentinel-1影像覆盖密度图 ---\n"
     ]
    }
   ],
   "source": [
    "# ==============================================================================\n",
    "# 3.1: (再次修正版) 生成并可视化Sentinel-1影像覆盖密度图\n",
    "# ==============================================================================\n",
    "from datetime import datetime\n",
    "\n",
    "print(\"\\n--- [再次修正版] 开始生成研究区Sentinel-1影像覆盖密度图 ---\")\n",
    "\n",
    "# --- 1. 定义时间范围和影像集合 ---\n",
    "end_date_ee = ee.Date('2024-10-31') \n",
    "start_date_ee = end_date_ee.advance(-2, 'year')\n",
    "\n",
    "print(f\"时间范围: {start_date_ee.format('YYYY-MM-dd').getInfo()} 到 {end_date_ee.format('YYYY-MM-dd').getInfo()}\")\n",
    "\n",
    "s1_collection_for_count = ee.ImageCollection(\"COPERNICUS/S1_GRD\") \\\n",
    "    .filterBounds(geometry) \\\n",
    "    .filterDate(start_date_ee, end_date_ee) \\\n",
    "    .filter(ee.Filter.equals(\"instrumentMode\", \"IW\"))\n",
    "\n",
    "collection_size = s1_collection_for_count.size().getInfo()\n",
    "print(f\"在指定时间范围和区域内，共找到 {collection_size} 景Sentinel-1影像。\")\n",
    "\n",
    "\n",
    "# --- 只有在找到影像时，才执行后续的计算和可视化 ---\n",
    "if collection_size > 0:\n",
    "\n",
    "    # --- 2. 计算每个像素的影像覆盖数量 ---\n",
    "    # 这一步生成的image_count是多波段的\n",
    "    image_count = s1_collection_for_count.count()\n",
    "\n",
    "    # --- 3. 动态确定可视化的最大/最小值 ---\n",
    "    # 我们在VV波段上计算统计值\n",
    "    min_max_values = image_count.select('VV').reduceRegion(\n",
    "        reducer=ee.Reducer.minMax(),\n",
    "        geometry=geometry,\n",
    "        scale=100,\n",
    "        maxPixels=1e9\n",
    "    ).getInfo()\n",
    "\n",
    "    # .get('VV_min') / .get('VV_max') 因为reduceRegion会自动重命名波段\n",
    "    if min_max_values and 'VV_max' in min_max_values:\n",
    "        min_count = int(min_max_values.get('VV_min', 0))\n",
    "        max_count = int(min_max_values.get('VV_max', 1))\n",
    "    else:\n",
    "        min_count, max_count = 0, 100\n",
    "        print(\"警告：未能动态计算范围，使用默认值 0-100。\")\n",
    "    \n",
    "    if min_count == max_count:\n",
    "        max_count = min_count + 1\n",
    "\n",
    "    print(f\"影像覆盖数量范围: 最小={min_count}, 最大={max_count}\")\n",
    "\n",
    "    # --- 4. 定义可视化参数 ---\n",
    "    density_palette = [\n",
    "        '#FFFFE0', '#FBC699', '#E88482', '#B95290', '#6A2A7A', '#2D0B59'\n",
    "    ]\n",
    "    vis_params_count = {\n",
    "        'min': min_count,\n",
    "        'max': max_count,\n",
    "        'palette': density_palette,\n",
    "        'opacity':0.7\n",
    "    }\n",
    "\n",
    "    # --- 5. 在地图上显示结果 ---\n",
    "    CountMap = geemap.Map()\n",
    "    \n",
    "    # (核心修正) 在添加到图层前，使用 .select('VV') 来选择单个波段\n",
    "    CountMap.addLayer(\n",
    "        image_count.select('VV').clip(geometry), \n",
    "        vis_params_count, \n",
    "        'Sentinel-1 Image Count (VV)' # 图层名可以更具体\n",
    "    )\n",
    "    \n",
    "    CountMap.addLayer(\n",
    "        geometry,\n",
    "        {'color':'black','fillColor':'00000000'},\n",
    "        'AOI Outline'\n",
    "    )\n",
    "    CountMap.add_colorbar(vis_params_count, label=\"Image Count\")\n",
    "    CountMap.centerObject(geometry, 10)\n",
    "    display(CountMap)\n",
    "\n",
    "else:\n",
    "    print(\"\\n错误：在指定的研究区和时间范围内未找到任何Sentinel-1影像。\")\n",
    "    print(\"请尝试：\\n1. 检查您选择的AOI是否在陆地区域。\\n2. 扩大时间范围或更换研究区。\")"
   ]
  },
  {
   "cell_type": "code",
   "execution_count": 8,
   "id": "2dc24735",
   "metadata": {},
   "outputs": [
    {
     "data": {
      "text/html": [
       "\n",
       "            <style>\n",
       "                .geemap-dark {\n",
       "                    --jp-widgets-color: white;\n",
       "                    --jp-widgets-label-color: white;\n",
       "                    --jp-ui-font-color1: white;\n",
       "                    --jp-layout-color2: #454545;\n",
       "                    background-color: #383838;\n",
       "                }\n",
       "\n",
       "                .geemap-dark .jupyter-button {\n",
       "                    --jp-layout-color3: #383838;\n",
       "                }\n",
       "\n",
       "                .geemap-colab {\n",
       "                    background-color: var(--colab-primary-surface-color, white);\n",
       "                }\n",
       "\n",
       "                .geemap-colab .jupyter-button {\n",
       "                    --jp-layout-color3: var(--colab-primary-surface-color, white);\n",
       "                }\n",
       "            </style>\n",
       "            "
      ],
      "text/plain": [
       "<IPython.core.display.HTML object>"
      ]
     },
     "metadata": {},
     "output_type": "display_data"
    },
    {
     "name": "stdout",
     "output_type": "stream",
     "text": [
      "\n",
      "--- [新增步骤] 正在提交影像覆盖密度图的导出任务 ---\n",
      "成功提交任务！\n",
      "请前往 GEE Code Editor 的 'Tasks' 标签页, 找到名为 'Export_S1_Image_Count' 的任务并点击 'RUN'。\n",
      "任务完成后，文件 'Valencia_s1_Count.tif' 将会出现在您Google Drive的 'image_count' 文件夹中。\n"
     ]
    }
   ],
   "source": [
    "\n",
    "# ==============================================================================\n",
    "# 3.2: (新增) 导出影像覆盖密度图到 Google Drive\n",
    "# ==============================================================================\n",
    "\n",
    "# 只有在影像集合不为空时，才执行导出操作\n",
    "if 'image_count' in globals():\n",
    "    print(\"\\n--- [新增步骤] 正在提交影像覆盖密度图的导出任务 ---\")\n",
    "\n",
    "    # 定义导出的文件名和文件夹\n",
    "    export_folder = 'image_count'\n",
    "    export_filename = 'Valencia_s1_Count'\n",
    "\n",
    "    # 准备导出任务\n",
    "    task = ee.batch.Export.image.toDrive(\n",
    "        image=image_count.select('VV').clip(geometry), # 确保选择单波段并裁剪\n",
    "        description='Valencia_Export_S1_Image_Count', # GEE Tasks面板中显示的任务名\n",
    "        folder=export_folder,      # 在Google Drive中要保存到的文件夹名\n",
    "        fileNamePrefix=export_filename, # 最终的文件名\n",
    "        region=geometry,\n",
    "        scale=100,  # 对于区域概览图，不需要10米全分辨率，100米足够清晰且文件小\n",
    "        fileFormat='GeoTIFF',\n",
    "        maxPixels=1e13\n",
    "    )\n",
    "\n",
    "    # 启动任务\n",
    "    task.start()\n",
    "\n",
    "    print(f\"成功提交任务！\")\n",
    "    print(f\"请前往 GEE Code Editor 的 'Tasks' 标签页, 找到名为 'Export_S1_Image_Count' 的任务并点击 'RUN'。\")\n",
    "    print(f\"任务完成后，文件 '{export_filename}.tif' 将会出现在您Google Drive的 '{export_folder}' 文件夹中。\")\n",
    "\n",
    "else:\n",
    "    print(\"\\n'image_count' 影像不存在，跳过导出步骤。\")"
   ]
  },
  {
   "cell_type": "markdown",
   "id": "a9b7a0f7",
   "metadata": {},
   "source": [
    "# 4.过滤Sentinel-1数据-数据管理模块"
   ]
  },
  {
   "cell_type": "markdown",
   "id": "339cc544",
   "metadata": {},
   "source": [
    "# 4.1 过滤影像计算数量（以下是西班牙巴伦西亚区域）"
   ]
  },
  {
   "cell_type": "code",
   "execution_count": 8,
   "id": "ac04352a",
   "metadata": {},
   "outputs": [
    {
     "data": {
      "text/html": [
       "\n",
       "            <style>\n",
       "                .geemap-dark {\n",
       "                    --jp-widgets-color: white;\n",
       "                    --jp-widgets-label-color: white;\n",
       "                    --jp-ui-font-color1: white;\n",
       "                    --jp-layout-color2: #454545;\n",
       "                    background-color: #383838;\n",
       "                }\n",
       "\n",
       "                .geemap-dark .jupyter-button {\n",
       "                    --jp-layout-color3: #383838;\n",
       "                }\n",
       "\n",
       "                .geemap-colab {\n",
       "                    background-color: var(--colab-primary-surface-color, white);\n",
       "                }\n",
       "\n",
       "                .geemap-colab .jupyter-button {\n",
       "                    --jp-layout-color3: var(--colab-primary-surface-color, white);\n",
       "                }\n",
       "            </style>\n",
       "            "
      ],
      "text/plain": [
       "<IPython.core.display.HTML object>"
      ]
     },
     "metadata": {},
     "output_type": "display_data"
    },
    {
     "name": "stdout",
     "output_type": "stream",
     "text": [
      "找到满足条件的 Sentinel-1 影像数量: 133\n",
      "['2022-08-26T17:54:58', '2022-08-31T18:02:53', '2022-09-07T17:54:59', '2022-09-12T18:02:54', '2022-09-19T17:54:59', '2022-09-24T18:02:54', '2022-10-01T17:54:59', '2022-10-06T18:02:54', '2022-10-13T17:54:59', '2022-10-25T17:55:00', '2022-10-30T18:02:54', '2022-11-06T17:54:59', '2022-11-11T18:02:54', '2022-11-18T17:54:59', '2022-11-23T18:02:54', '2022-11-30T17:54:58', '2022-12-05T18:02:53', '2022-12-12T17:54:58', '2022-12-17T18:02:52', '2022-12-24T17:54:57', '2022-12-29T18:02:52', '2023-01-05T17:54:57', '2023-01-10T18:02:51', '2023-01-17T17:54:56', '2023-01-22T18:02:51', '2023-01-29T17:54:56', '2023-02-03T18:02:51', '2023-02-10T17:54:55', '2023-02-15T18:02:50', '2023-02-22T17:54:55', '2023-02-27T18:02:50', '2023-03-06T17:54:55', '2023-03-11T18:02:50', '2023-03-18T17:54:55', '2023-03-23T18:02:50', '2023-03-30T17:54:55', '2023-04-04T18:02:50', '2023-04-11T17:54:56', '2023-04-16T18:02:51', '2023-04-23T17:54:56', '2023-04-28T18:02:51', '2023-05-05T17:54:57', '2023-05-10T18:02:52', '2023-05-17T17:54:58', '2023-05-22T18:02:53', '2023-05-29T17:54:58', '2023-06-03T18:02:53', '2023-06-10T17:54:59', '2023-06-15T18:02:54', '2023-06-22T17:54:59', '2023-06-27T18:02:54', '2023-07-04T17:55:00', '2023-07-09T18:02:55', '2023-07-16T17:55:01', '2023-07-21T18:02:56', '2023-07-28T17:55:02', '2023-08-02T18:02:56', '2023-08-09T17:55:01', '2023-08-14T18:02:57', '2023-08-21T17:55:03', '2023-08-26T18:02:58', '2023-09-02T17:55:04', '2023-09-07T18:02:59', '2023-09-14T17:55:04', '2023-09-19T18:02:59', '2023-09-26T17:55:04', '2023-10-01T18:02:59', '2023-10-08T17:55:04', '2023-10-13T18:02:59', '2023-10-20T17:55:05', '2023-10-25T18:02:59', '2023-11-01T17:55:04', '2023-11-06T18:02:59', '2023-11-13T17:55:04', '2023-11-18T18:02:59', '2023-11-25T17:55:03', '2023-11-30T18:02:58', '2023-12-07T17:55:03', '2023-12-12T18:02:58', '2023-12-19T17:55:02', '2023-12-24T18:02:57', '2023-12-31T17:55:02', '2024-01-05T18:02:56', '2024-01-12T17:55:01', '2024-01-17T18:02:56', '2024-01-24T17:55:01', '2024-01-29T18:02:56', '2024-02-05T17:55:00', '2024-02-10T18:02:55', '2024-02-17T17:55:00', '2024-02-22T18:02:55', '2024-02-29T17:55:00', '2024-03-05T18:02:55', '2024-03-12T17:55:00', '2024-03-17T18:02:55', '2024-03-24T17:55:01', '2024-03-29T18:02:56', '2024-04-05T17:55:01', '2024-04-10T18:02:55', '2024-04-17T17:55:01', '2024-04-22T18:02:56', '2024-04-29T17:55:02', '2024-05-04T18:02:57', '2024-05-11T17:55:02', '2024-05-16T18:02:57', '2024-05-23T17:55:02', '2024-05-28T18:02:56', '2024-06-04T17:55:01', '2024-06-09T18:02:56', '2024-06-16T17:55:01', '2024-06-21T18:02:55', '2024-06-28T17:55:00', '2024-07-03T18:02:55', '2024-07-10T17:55:00', '2024-07-15T18:02:54', '2024-07-22T17:54:59', '2024-07-27T18:02:54', '2024-08-03T17:54:59', '2024-08-08T18:02:54', '2024-08-15T17:54:59', '2024-08-20T18:02:54', '2024-08-27T17:55:00', '2024-09-01T18:02:54', '2024-09-08T17:55:00', '2024-09-13T18:02:55', '2024-09-20T17:55:00', '2024-09-25T18:02:55', '2024-10-02T17:55:00', '2024-10-07T18:02:56', '2024-10-14T17:55:01', '2024-10-19T18:02:56', '2024-10-26T17:55:01', '2024-10-31T18:02:56']\n"
     ]
    }
   ],
   "source": [
    "targdate = '2024-10-31'   # 目标日期 (需要根据实际数据可用性验证或微调)\n",
    "basestart = '2023-11-20'  # 基线开始日期\n",
    "baseend = '2024-09-10'   # 基线结束日期\n",
    "\n",
    "# !!! (可选) 替换硬编码的 aoi2 !!!\n",
    "# 如果你决定使用固定的 valencia_aoi，在这里替换：\n",
    "#aoi3 = ee.Geometry.Rectangle([-0.55, 39.35, -0.30, 39.50]) # 新的巴伦西亚AOI\n",
    "# !!! 更好的做法是完全不用 aoi2，下面 filterBounds 直接用 analysis_aoi !!!\n",
    "\n",
    "filters = [\n",
    "    ee.Filter.listContains(\"transmitterReceiverPolarisation\", \"VV\"),\n",
    "    ee.Filter.listContains(\"transmitterReceiverPolarisation\", \"VH\"), # 如果需要VH也取消注释\n",
    "    ee.Filter.equals(\"instrumentMode\", \"IW\"),\n",
    "    # !!! 重要：检查轨道方向 !!!\n",
    "    # 需要确认 targdate 前后过境巴伦西亚的 S1 影像是升轨还是降轨\n",
    "    # 可能需要改为 'DESCENDING'，或不加这个过滤器以获取所有轨道\n",
    "    ee.Filter.equals(\"orbitProperties_pass\", \"ASCENDING\"), # <--- 可能需要修改或移除!\n",
    "    # 时间过滤器现在是动态的，覆盖基线期和目标期，无需修改\n",
    "    ee.Filter.date('2022-08-21', ee.Date(targdate).advance(1, 'day'))\n",
    "]\n",
    "\n",
    "# 加载S1数据并计算Z分数\n",
    "s1 = ee.ImageCollection(\"COPERNICUS/S1_GRD\") \\\n",
    "    .filter(filters) \\\n",
    "    .filterBounds(roi_choose1) # !!! 使用统一的 analysis_aoi !!!\n",
    "\n",
    "\n",
    "\n",
    "# 检查是否有影像满足条件\n",
    "s1_size = s1.size().getInfo()\n",
    "print(f\"找到满足条件的 Sentinel-1 影像数量: {s1_size}\")\n",
    "if s1_size == 0:\n",
    "    print(\"警告：未找到满足条件的影像，请检查时间范围、AOI 或轨道方向过滤器！\")\n",
    "print(s1.aggregate_array('system:time_start').map(lambda t: ee.Date(t).format()).getInfo())\n",
    "\n",
    "# Z 分数计算 (轨道方向参数需要与上面 filter 保持一致)\n",
    "# orbit_direction = \"ASCENDING\" # <--- 如果上面修改了这里也要改\n",
    "orbit_direction = \"ASCENDING\" if ee.Filter.equals(\"orbitProperties_pass\", \"ASCENDING\") in filters else \"DESCENDING\" #或者更灵活的方式\n",
    "z = calc_zscore(s1, basestart, baseend, 'IW', orbit_direction)\n",
    "rz = calc_robust_zscore(s1, basestart, baseend, 'IW', orbit_direction)\n",
    "\n",
    "\n",
    "MAD = calc_basemad(s1, basestart, baseend, 'IW', orbit_direction)"
   ]
  },
  {
   "cell_type": "markdown",
   "id": "c934fe6d",
   "metadata": {},
   "source": [
    "## 4.1 导出VH影像"
   ]
  },
  {
   "cell_type": "code",
   "execution_count": 12,
   "id": "c1cc6c41",
   "metadata": {},
   "outputs": [
    {
     "data": {
      "text/html": [
       "\n",
       "            <style>\n",
       "                .geemap-dark {\n",
       "                    --jp-widgets-color: white;\n",
       "                    --jp-widgets-label-color: white;\n",
       "                    --jp-ui-font-color1: white;\n",
       "                    --jp-layout-color2: #454545;\n",
       "                    background-color: #383838;\n",
       "                }\n",
       "\n",
       "                .geemap-dark .jupyter-button {\n",
       "                    --jp-layout-color3: #383838;\n",
       "                }\n",
       "\n",
       "                .geemap-colab {\n",
       "                    background-color: var(--colab-primary-surface-color, white);\n",
       "                }\n",
       "\n",
       "                .geemap-colab .jupyter-button {\n",
       "                    --jp-layout-color3: var(--colab-primary-surface-color, white);\n",
       "                }\n",
       "            </style>\n",
       "            "
      ],
      "text/plain": [
       "<IPython.core.display.HTML object>"
      ]
     },
     "metadata": {},
     "output_type": "display_data"
    },
    {
     "name": "stdout",
     "output_type": "stream",
     "text": [
      "成功提交 VH 影像导出任务！\n"
     ]
    }
   ],
   "source": [
    "# 导出VH影像（用于研究区域伪彩色合成）\n",
    "export_folder = f\"valencia_GEE_Flood_Analysis_{targdate}\" # 与最终导出文件夹保持一致\n",
    "export_filename = f\"0_vh_Image_{targdate}\"\n",
    "vh_pol_image = s1.mosaic().select('VH').toFloat().clip(roi_choose1)\n",
    "\n",
    "task = ee.batch.Export.image.toDrive(\n",
    "    image = vh_pol_image,\n",
    "    description=f'Export_{export_filename}', # 任务面板中显示的名字\n",
    "    folder=export_folder,\n",
    "    fileNamePrefix=export_filename,\n",
    "    region=roi_choose1,\n",
    "    scale=10, # Sentinel-1 的标准分辨率\n",
    "    fileFormat='GeoTIFF',\n",
    "    maxPixels=1e13\n",
    ")\n",
    "\n",
    "task.start()\n",
    "\n",
    "print(f\"成功提交 VH 影像导出任务！\")\n",
    "\n"
   ]
  },
  {
   "cell_type": "markdown",
   "id": "e1cb8d52",
   "metadata": {},
   "source": [
    "# 5.显示Z分数图层-洪水分析模块"
   ]
  },
  {
   "cell_type": "code",
   "execution_count": 7,
   "id": "0be13486",
   "metadata": {},
   "outputs": [
    {
     "data": {
      "text/html": [
       "\n",
       "            <style>\n",
       "                .geemap-dark {\n",
       "                    --jp-widgets-color: white;\n",
       "                    --jp-widgets-label-color: white;\n",
       "                    --jp-ui-font-color1: white;\n",
       "                    --jp-layout-color2: #454545;\n",
       "                    background-color: #383838;\n",
       "                }\n",
       "\n",
       "                .geemap-dark .jupyter-button {\n",
       "                    --jp-layout-color3: #383838;\n",
       "                }\n",
       "\n",
       "                .geemap-colab {\n",
       "                    background-color: var(--colab-primary-surface-color, white);\n",
       "                }\n",
       "\n",
       "                .geemap-colab .jupyter-button {\n",
       "                    --jp-layout-color3: var(--colab-primary-surface-color, white);\n",
       "                }\n",
       "            </style>\n",
       "            "
      ],
      "text/plain": [
       "<IPython.core.display.HTML object>"
      ]
     },
     "metadata": {},
     "output_type": "display_data"
    },
    {
     "data": {
      "application/vnd.jupyter.widget-view+json": {
       "model_id": "5d1d912db1774e1d9397c26bf87ac42e",
       "version_major": 2,
       "version_minor": 0
      },
      "text/plain": [
       "Map(center=[39.42792019389194, -0.41806226988355016], controls=(WidgetControl(options=['position', 'transparen…"
      ]
     },
     "execution_count": 7,
     "metadata": {},
     "output_type": "execute_result"
    }
   ],
   "source": [
    "Map = geemap.Map()\n",
    "Map.setCenter(lon,lat,11)\n",
    "#{0}表示占位符，表示在字符串该位置中插入一个变量(将目标日期格式化)\n",
    "Map.addLayer(s1.mosaic().clip(roi_choose1).select('VV'), {'min': -25, 'max': 0}, 'VV Backscatter (dB); {0}'.format(targdate))\n",
    "\n",
    "#z分数的颜色\n",
    "zpalette = ['#b2182b','#ef8a62','#fddbc7','#f7f7f7','#d1e5f0','#67a9cf','#2166ac']\n",
    "clipped_rz = rz.map(lambda image: image.clip(roi_choose1))\n",
    "clipped_z = z.map(lambda image: image.clip(roi_choose1))\n",
    "\n",
    "#MAD图层的颜色\n",
    "clipped_MAD = MAD.clip(roi_choose1)\n",
    "mad_palette = mad_palette = [\n",
    "    '#FFFFFF',  # 白色（低值）\n",
    "    '#FFCCCC',  # 浅粉红\n",
    "    '#FF9999',  # 较浅红\n",
    "    '#FF6666',  # 中等红\n",
    "    '#FF3333',  # 较深红\n",
    "    '#CC0000',  # 深红\n",
    "    '#8B0000'   # 非常深的红（高值）\n",
    "]\n",
    "\n",
    "#添加图层\n",
    "Map.addLayer(clipped_rz.mosaic().select('VV'), {'min': -5, 'max': 5, 'palette': zpalette}, 'VV RZ-score; {0}'.format(targdate))\n",
    "Map.addLayer(clipped_z.mosaic().select('VV'), {'min': -5, 'max': 5, 'palette': zpalette},'VV Z-score; {0}'.format(targdate))\n",
    "Map.addLayer(clipped_MAD.select('VV'), {'min': 0, 'max': 10, 'palette': mad_palette}, 'VV MAD; {0}'.format(targdate))\n",
    "\n",
    "#用于点击地图某一点，生成Z分数时间序列图的点击函数(点击地图传递坐标)\n",
    "label = Label()\n",
    "def handle_interaction(**kwargs):\n",
    "  if kwargs.get('type') == 'click':\n",
    "    coords = kwargs.get('coordinates')\n",
    "    label.value = str(coords)\n",
    "\n",
    "Map.on_interaction(handle_interaction)\n",
    "Map\n"
   ]
  },
  {
   "cell_type": "code",
   "execution_count": 8,
   "id": "c615150a",
   "metadata": {},
   "outputs": [
    {
     "data": {
      "text/html": [
       "\n",
       "            <style>\n",
       "                .geemap-dark {\n",
       "                    --jp-widgets-color: white;\n",
       "                    --jp-widgets-label-color: white;\n",
       "                    --jp-ui-font-color1: white;\n",
       "                    --jp-layout-color2: #454545;\n",
       "                    background-color: #383838;\n",
       "                }\n",
       "\n",
       "                .geemap-dark .jupyter-button {\n",
       "                    --jp-layout-color3: #383838;\n",
       "                }\n",
       "\n",
       "                .geemap-colab {\n",
       "                    background-color: var(--colab-primary-surface-color, white);\n",
       "                }\n",
       "\n",
       "                .geemap-colab .jupyter-button {\n",
       "                    --jp-layout-color3: var(--colab-primary-surface-color, white);\n",
       "                }\n",
       "            </style>\n",
       "            "
      ],
      "text/plain": [
       "<IPython.core.display.HTML object>"
      ]
     },
     "metadata": {},
     "output_type": "display_data"
    }
   ],
   "source": [
    "#计算各类影像\n",
    "s1_1101 = ee.ImageCollection(\"COPERNICUS/S1_GRD\") \\\n",
    "    .filter(filters) \\\n",
    "    .filterBounds(roi_choose1)\n",
    "\n",
    "#1.洪水影像(2024-11-01)\n",
    "flood_image = s1_1101.mosaic().clip(roi_choose1)\n",
    "flood_image = flood_image.select('VV') #只保留vv波段\n",
    "\n",
    "#2.基线期中值影像\n",
    "baseline_median = calc_basemedian(s1, basestart, baseend, 'IW', 'ASCENDING').clip(roi_choose1)\n",
    "baseline_median = baseline_median.select('VV')  # 只保留 VV 波段\n",
    "\n",
    "#3.Robust-ZScore影像\n",
    "rz_1101 = rz.mosaic().clip(roi_choose1).select('VV')"
   ]
  },
  {
   "cell_type": "markdown",
   "id": "c1c0e89d",
   "metadata": {},
   "source": [
    "# 6:自动阈值分割"
   ]
  },
  {
   "cell_type": "code",
   "execution_count": 9,
   "id": "38e8d543",
   "metadata": {},
   "outputs": [
    {
     "data": {
      "text/html": [
       "\n",
       "            <style>\n",
       "                .geemap-dark {\n",
       "                    --jp-widgets-color: white;\n",
       "                    --jp-widgets-label-color: white;\n",
       "                    --jp-ui-font-color1: white;\n",
       "                    --jp-layout-color2: #454545;\n",
       "                    background-color: #383838;\n",
       "                }\n",
       "\n",
       "                .geemap-dark .jupyter-button {\n",
       "                    --jp-layout-color3: #383838;\n",
       "                }\n",
       "\n",
       "                .geemap-colab {\n",
       "                    background-color: var(--colab-primary-surface-color, white);\n",
       "                }\n",
       "\n",
       "                .geemap-colab .jupyter-button {\n",
       "                    --jp-layout-color3: var(--colab-primary-surface-color, white);\n",
       "                }\n",
       "            </style>\n",
       "            "
      ],
      "text/plain": [
       "<IPython.core.display.HTML object>"
      ]
     },
     "metadata": {},
     "output_type": "display_data"
    }
   ],
   "source": [
    "import matplotlib.pyplot as plt\n",
    "import numpy as np"
   ]
  },
  {
   "cell_type": "markdown",
   "id": "19a6398f",
   "metadata": {},
   "source": [
    "## 1.准备输入影像"
   ]
  },
  {
   "cell_type": "code",
   "execution_count": 10,
   "id": "320fc487",
   "metadata": {},
   "outputs": [
    {
     "data": {
      "text/html": [
       "\n",
       "            <style>\n",
       "                .geemap-dark {\n",
       "                    --jp-widgets-color: white;\n",
       "                    --jp-widgets-label-color: white;\n",
       "                    --jp-ui-font-color1: white;\n",
       "                    --jp-layout-color2: #454545;\n",
       "                    background-color: #383838;\n",
       "                }\n",
       "\n",
       "                .geemap-dark .jupyter-button {\n",
       "                    --jp-layout-color3: #383838;\n",
       "                }\n",
       "\n",
       "                .geemap-colab {\n",
       "                    background-color: var(--colab-primary-surface-color, white);\n",
       "                }\n",
       "\n",
       "                .geemap-colab .jupyter-button {\n",
       "                    --jp-layout-color3: var(--colab-primary-surface-color, white);\n",
       "                }\n",
       "            </style>\n",
       "            "
      ],
      "text/plain": [
       "<IPython.core.display.HTML object>"
      ]
     },
     "metadata": {},
     "output_type": "display_data"
    },
    {
     "name": "stdout",
     "output_type": "stream",
     "text": [
      "---开始基于SAR影像进行分块阈值预处理 --\n"
     ]
    }
   ],
   "source": [
    "#确保rz_1101是单波段'VV'的RZ-Score影像 且已裁剪到AOI\n",
    "rz_image = rz_1101\n",
    "sar_image = flood_image\n",
    "print(\"---开始基于SAR影像进行分块阈值预处理 --\")\n",
    "#计算OTSU阈值函数\n",
    "\n",
    "#斑点滤波（非必要）\n",
    "kernel_radius = 2\n",
    "filtered_flood_image = flood_image.focal_mean(radius=kernel_radius, units='pixels')"
   ]
  },
  {
   "cell_type": "markdown",
   "id": "95f4928b",
   "metadata": {},
   "source": [
    "## 2.计算Otsu阈值"
   ]
  },
  {
   "cell_type": "code",
   "execution_count": 11,
   "id": "97bbe480",
   "metadata": {},
   "outputs": [
    {
     "data": {
      "text/html": [
       "\n",
       "            <style>\n",
       "                .geemap-dark {\n",
       "                    --jp-widgets-color: white;\n",
       "                    --jp-widgets-label-color: white;\n",
       "                    --jp-ui-font-color1: white;\n",
       "                    --jp-layout-color2: #454545;\n",
       "                    background-color: #383838;\n",
       "                }\n",
       "\n",
       "                .geemap-dark .jupyter-button {\n",
       "                    --jp-layout-color3: #383838;\n",
       "                }\n",
       "\n",
       "                .geemap-colab {\n",
       "                    background-color: var(--colab-primary-surface-color, white);\n",
       "                }\n",
       "\n",
       "                .geemap-colab .jupyter-button {\n",
       "                    --jp-layout-color3: var(--colab-primary-surface-color, white);\n",
       "                }\n",
       "            </style>\n",
       "            "
      ],
      "text/plain": [
       "<IPython.core.display.HTML object>"
      ]
     },
     "metadata": {},
     "output_type": "display_data"
    }
   ],
   "source": [
    "#统计直方图，并将数据存储在一个字典中\n",
    "band = 'VV'\n",
    "histogramReducer = ee.Reducer.histogram(255,0.1)\n",
    "\n",
    "globalHistogram = ee.Dictionary(\n",
    "    filtered_flood_image.select(band).reduceRegion(\n",
    "        reducer = histogramReducer,\n",
    "        geometry = roi_choose1,\n",
    "        scale = 30,\n",
    "        maxPixels = 1e10\n",
    "    ).get(band)\n",
    ")\n",
    "\n",
    "#提取直方图的桶和每个桶的计数\n",
    "x = ee.List(globalHistogram.get('bucketMeans')) #从字典中提取直方图的桶中心值\n",
    "y = ee.List(globalHistogram.get('histogram')) #提取每个桶对应的像素计数\n",
    "\n",
    "#定义绘直方图的值\n",
    "dataCol = ee.Array.cat([x,y],1).toList()\n",
    "\n"
   ]
  },
  {
   "cell_type": "code",
   "execution_count": 12,
   "id": "48559fe8",
   "metadata": {},
   "outputs": [
    {
     "data": {
      "text/html": [
       "\n",
       "            <style>\n",
       "                .geemap-dark {\n",
       "                    --jp-widgets-color: white;\n",
       "                    --jp-widgets-label-color: white;\n",
       "                    --jp-ui-font-color1: white;\n",
       "                    --jp-layout-color2: #454545;\n",
       "                    background-color: #383838;\n",
       "                }\n",
       "\n",
       "                .geemap-dark .jupyter-button {\n",
       "                    --jp-layout-color3: #383838;\n",
       "                }\n",
       "\n",
       "                .geemap-colab {\n",
       "                    background-color: var(--colab-primary-surface-color, white);\n",
       "                }\n",
       "\n",
       "                .geemap-colab .jupyter-button {\n",
       "                    --jp-layout-color3: var(--colab-primary-surface-color, white);\n",
       "                }\n",
       "            </style>\n",
       "            "
      ],
      "text/plain": [
       "<IPython.core.display.HTML object>"
      ]
     },
     "metadata": {},
     "output_type": "display_data"
    },
    {
     "data": {
      "application/vnd.jupyter.widget-view+json": {
       "model_id": "6393fcfce5124bd8b21312424f3a925c",
       "version_major": 2,
       "version_minor": 0
      },
      "text/plain": [
       "Figure(axes=[Axis(label='Backscatter [dB]', scale=LinearScale(max=15.0, min=-35.0), tick_format='0.0f'), Axis(…"
      ]
     },
     "execution_count": 12,
     "metadata": {},
     "output_type": "execute_result"
    }
   ],
   "source": [
    "#绘制直方图\n",
    "import bqplot as bq\n",
    "import numpy as np\n",
    "x_np = x.getInfo()\n",
    "y_np = y.getInfo()\n",
    "\n",
    "# 使用 matplotlib 绘制直方图\n",
    "columnHeader = ee.List([\n",
    "    [\n",
    "        {\n",
    "            'label': 'Backscatter',\n",
    "            'role': 'domain',\n",
    "            'type': 'number'\n",
    "        },\n",
    "        {\n",
    "            'label': 'Values',\n",
    "            'role': 'data',\n",
    "            'type': 'number'\n",
    "        },\n",
    "    ]\n",
    "])\n",
    "\n",
    "# 将列头和数据连接起来\n",
    "dataTable = columnHeader.cat(dataCol)\n",
    "#连接后的数据结构：第一行是列标题，表示数据表的每一列代表什么。\n",
    "#         从第二行开始，每一行代表一个直方图桶，包含两个值：\n",
    "#          第一个值是桶的中心值，也就是 backscatter_value，它是横坐标数据。\n",
    "#         二个值是桶中包含的像素数量，也就是 count，它是纵坐标数据。\n",
    "\n",
    "# 使用 bqplot 绘制直方图\n",
    "def create_histogram(dataTable):\n",
    "    dataTable_client = dataTable.getInfo()\n",
    "    x_data = np.array(dataTable_client[1:])[:, 0]\n",
    "    y_data = np.array(dataTable_client[1:])[:, 1]\n",
    "\n",
    "    x_sc = bq.LinearScale(min=-35,max=15)\n",
    "    y_sc = bq.LinearScale()\n",
    "\n",
    "    bar = bq.Bars(\n",
    "        x=x_data,\n",
    "        y=y_data,\n",
    "        scales={'x': x_sc, 'y': y_sc},\n",
    "        colors=['#cf513e'],\n",
    "        labels=[band],\n",
    "        display_legend=True,\n",
    "    )\n",
    "\n",
    "    ax_x = bq.Axis(scale=x_sc, label='Backscatter [dB]', tick_format='0.0f')\n",
    "    ax_y = bq.Axis(scale=y_sc, orientation='vertical', label='Count', tick_format='0.0f')\n",
    "\n",
    "    fig = bq.Figure(marks=[bar], axes=[ax_x, ax_y], title=f'{band} Global Histogram')\n",
    "    fig.layout.width = '1000px'\n",
    "    fig.layout.height = '400px'\n",
    "    return fig\n",
    "# 创建并显示直方图\n",
    "histogram_fig = create_histogram(dataTable)\n",
    "histogram_fig"
   ]
  },
  {
   "cell_type": "code",
   "execution_count": 13,
   "id": "6f7fd649",
   "metadata": {},
   "outputs": [
    {
     "data": {
      "text/html": [
       "\n",
       "            <style>\n",
       "                .geemap-dark {\n",
       "                    --jp-widgets-color: white;\n",
       "                    --jp-widgets-label-color: white;\n",
       "                    --jp-ui-font-color1: white;\n",
       "                    --jp-layout-color2: #454545;\n",
       "                    background-color: #383838;\n",
       "                }\n",
       "\n",
       "                .geemap-dark .jupyter-button {\n",
       "                    --jp-layout-color3: #383838;\n",
       "                }\n",
       "\n",
       "                .geemap-colab {\n",
       "                    background-color: var(--colab-primary-surface-color, white);\n",
       "                }\n",
       "\n",
       "                .geemap-colab .jupyter-button {\n",
       "                    --jp-layout-color3: var(--colab-primary-surface-color, white);\n",
       "                }\n",
       "            </style>\n",
       "            "
      ],
      "text/plain": [
       "<IPython.core.display.HTML object>"
      ]
     },
     "metadata": {},
     "output_type": "display_data"
    },
    {
     "name": "stdout",
     "output_type": "stream",
     "text": [
      "Global threshold value: -13.49774651169382\n"
     ]
    }
   ],
   "source": [
    "#计算OTSU阈值函数\n",
    "def otsu(histogram):\n",
    "  histogram = ee.Dictionary(histogram);\n",
    "  #提取相关值到数组\n",
    "  counts = ee.Array(histogram.get('histogram')) #落入直方图每个bin的像素数量\n",
    "  means = ee.Array(histogram.get('bucketMeans')) #直方图中每个bin的中心值\n",
    "  #计算单个统计数据\n",
    "  size = means.length().get([0]) #直方图中bin的数量\n",
    "  total = counts.reduce(ee.Reducer.sum(), [0]).get([0]) #将counts数组中的所有计数求和来计算图像中的像素总数\n",
    "  sum = means.multiply(counts).reduce(ee.Reducer.sum(), [0]).get([0]) #图像中所有像素值（每个像素值x像素个数)的总和\n",
    "  mean = sum.divide(total) #总像素值/总像素数 即为平均像素和\n",
    "  # 计算平方和,均值将数据分割\n",
    "  indices = ee.List.sequence(1,size) #从1到size的序列，表示可能的阈值分割点\n",
    "  #定义函数：计算在第i个bin处分割时的类间方差(BSS)\n",
    "  def function(i):\n",
    "    aCounts = counts.slice(0,0,i) #前i个bin的像素数量\n",
    "    aCount = aCounts.reduce(ee.Reducer.sum(), [0]).get([0]) #前i个bin的像素总数\n",
    "    aMeans = means.slice(0,0,i) #前i个bin的中心值\n",
    "    aMean = aMeans.multiply(aCounts).reduce(ee.Reducer.sum(), [0]).get([0]).divide(aCount) #前i个bin的平均像素值\n",
    "    bCount = total.subtract(aCount) #剩余bin的像素总数\n",
    "    bMean = sum.subtract(aCount.multiply(aMean)).divide(bCount) #剩余bin的像素平均值\n",
    "    #BSS=w1⋅(m1−m)^2+w2⋅(m2−m)^2 前景和背景的类间方差像加，即为总类间方差\n",
    "    #w1和w2分别是前景和背景的像素数量，m1和m2分别是前景和背景的平均像素值，m是整个图像的平均像素值\n",
    "    return aCount.multiply(aMean.subtract(mean).pow(2)).add(bCount.multiply(bMean.subtract(mean).pow(2)))\n",
    "  bss = indices.map(function)\n",
    "  #返回最大BSS对应的平均值\n",
    "  return means.sort(bss).get([-1])\n",
    "\n",
    "\n",
    "#应用函数\n",
    "globalThreshold = otsu(globalHistogram)\n",
    "print('Global threshold value:',globalThreshold.getInfo())"
   ]
  },
  {
   "cell_type": "markdown",
   "id": "ba2b769e",
   "metadata": {},
   "source": [
    "## 3 OTSU直方图与阈值可视化"
   ]
  },
  {
   "cell_type": "code",
   "execution_count": 14,
   "id": "40fc3e7f",
   "metadata": {},
   "outputs": [
    {
     "data": {
      "text/html": [
       "\n",
       "            <style>\n",
       "                .geemap-dark {\n",
       "                    --jp-widgets-color: white;\n",
       "                    --jp-widgets-label-color: white;\n",
       "                    --jp-ui-font-color1: white;\n",
       "                    --jp-layout-color2: #454545;\n",
       "                    background-color: #383838;\n",
       "                }\n",
       "\n",
       "                .geemap-dark .jupyter-button {\n",
       "                    --jp-layout-color3: #383838;\n",
       "                }\n",
       "\n",
       "                .geemap-colab {\n",
       "                    background-color: var(--colab-primary-surface-color, white);\n",
       "                }\n",
       "\n",
       "                .geemap-colab .jupyter-button {\n",
       "                    --jp-layout-color3: var(--colab-primary-surface-color, white);\n",
       "                }\n",
       "            </style>\n",
       "            "
      ],
      "text/plain": [
       "<IPython.core.display.HTML object>"
      ]
     },
     "metadata": {},
     "output_type": "display_data"
    },
    {
     "data": {
      "application/vnd.jupyter.widget-view+json": {
       "model_id": "b68ed0acb44240ae835af5e76fc650cb",
       "version_major": 2,
       "version_minor": 0
      },
      "text/plain": [
       "Figure(axes=[Axis(label='Backscatter [dB]', scale=LinearScale(max=15.0, min=-35.0), tick_format='0.0f'), Axis(…"
      ]
     },
     "execution_count": 14,
     "metadata": {},
     "output_type": "execute_result"
    }
   ],
   "source": [
    "#可视化otsu阈值法的直方图，以显示分割的最佳阈值\n",
    "# 使用 bqplot 绘制直方图\n",
    "def create_histogram(dataCol, globalThreshold):\n",
    "    dataCol_client = dataCol.getInfo()\n",
    "    x_data = np.array(dataCol_client)[:, 0]\n",
    "    y_data = np.array(dataCol_client)[:, 1]\n",
    "\n",
    "    x_sc = bq.LinearScale(min=-35, max=15)\n",
    "    y_sc = bq.LinearScale()\n",
    "\n",
    "    bar = bq.Bars(\n",
    "        x=x_data,\n",
    "        y=y_data,\n",
    "        scales={'x': x_sc, 'y': y_sc},\n",
    "        colors=['#cf513e'],\n",
    "        labels=[band],\n",
    "        display_legend=True,\n",
    "    )\n",
    "\n",
    "    # 添加阈值线\n",
    "    threshold_line = bq.Lines(\n",
    "        x=[float(globalThreshold.getInfo()), float(globalThreshold.getInfo())],\n",
    "        y=[0, np.max(y_data)],\n",
    "        scales={'x': x_sc, 'y': y_sc},\n",
    "        colors=['blue'],\n",
    "        stroke_width=2,\n",
    "        labels=['Otsu Threshold'],\n",
    "        display_legend=True,\n",
    "    )\n",
    "\n",
    "    ax_x = bq.Axis(scale=x_sc, label='Backscatter [dB]', tick_format='0.0f')\n",
    "    ax_y = bq.Axis(scale=y_sc, orientation='vertical', label='Count', tick_format='0.0f')\n",
    "\n",
    "    fig = bq.Figure(marks=[bar, threshold_line], axes=[ax_x, ax_y], title=f'{band} Global Histogram with Threshold annotation')\n",
    "    fig.layout.width = '1000px'\n",
    "    fig.layout.height = '400px'\n",
    "    return fig\n",
    "\n",
    "# 创建并显示直方图\n",
    "histogram_fig = create_histogram(dataCol, globalThreshold)\n",
    "histogram_fig"
   ]
  },
  {
   "cell_type": "markdown",
   "id": "3562de03",
   "metadata": {},
   "source": [
    "## 4.将OTSU阈值应用于原始SAR影像"
   ]
  },
  {
   "cell_type": "code",
   "execution_count": 15,
   "id": "525cd17a",
   "metadata": {},
   "outputs": [
    {
     "data": {
      "text/html": [
       "\n",
       "            <style>\n",
       "                .geemap-dark {\n",
       "                    --jp-widgets-color: white;\n",
       "                    --jp-widgets-label-color: white;\n",
       "                    --jp-ui-font-color1: white;\n",
       "                    --jp-layout-color2: #454545;\n",
       "                    background-color: #383838;\n",
       "                }\n",
       "\n",
       "                .geemap-dark .jupyter-button {\n",
       "                    --jp-layout-color3: #383838;\n",
       "                }\n",
       "\n",
       "                .geemap-colab {\n",
       "                    background-color: var(--colab-primary-surface-color, white);\n",
       "                }\n",
       "\n",
       "                .geemap-colab .jupyter-button {\n",
       "                    --jp-layout-color3: var(--colab-primary-surface-color, white);\n",
       "                }\n",
       "            </style>\n",
       "            "
      ],
      "text/plain": [
       "<IPython.core.display.HTML object>"
      ]
     },
     "metadata": {},
     "output_type": "display_data"
    }
   ],
   "source": [
    "globalThreshold = ee.Number(-13.5)\n",
    "globalWater = sar_image.lt(globalThreshold)\n",
    "#Map.addLayer(globalWater.selfMask(), { 'palette': ['blue']}, 'Global Water')\n",
    "#Map"
   ]
  },
  {
   "cell_type": "markdown",
   "id": "39caa072",
   "metadata": {},
   "source": [
    "## 5.腐蚀"
   ]
  },
  {
   "cell_type": "code",
   "execution_count": 16,
   "id": "15e0b90d",
   "metadata": {},
   "outputs": [
    {
     "data": {
      "text/html": [
       "\n",
       "            <style>\n",
       "                .geemap-dark {\n",
       "                    --jp-widgets-color: white;\n",
       "                    --jp-widgets-label-color: white;\n",
       "                    --jp-ui-font-color1: white;\n",
       "                    --jp-layout-color2: #454545;\n",
       "                    background-color: #383838;\n",
       "                }\n",
       "\n",
       "                .geemap-dark .jupyter-button {\n",
       "                    --jp-layout-color3: #383838;\n",
       "                }\n",
       "\n",
       "                .geemap-colab {\n",
       "                    background-color: var(--colab-primary-surface-color, white);\n",
       "                }\n",
       "\n",
       "                .geemap-colab .jupyter-button {\n",
       "                    --jp-layout-color3: var(--colab-primary-surface-color, white);\n",
       "                }\n",
       "            </style>\n",
       "            "
      ],
      "text/plain": [
       "<IPython.core.display.HTML object>"
      ]
     },
     "metadata": {},
     "output_type": "display_data"
    }
   ],
   "source": [
    "corrosion_kernel = ee.Kernel.circle(radius = 2)\n",
    "eroded_Dark_tagerts = globalWater.focal_min(kernel = corrosion_kernel, iterations = 1).focal_max(kernel = corrosion_kernel, iterations = 1)\n",
    "eroded_Dark_tagerts = eroded_Dark_tagerts.selfMask()\n",
    "#Map.addLayer(eroded_Dark_tagerts.selfMask(), { 'palette': ['red']}, 'Eroded Water')\n",
    "#Map"
   ]
  },
  {
   "cell_type": "markdown",
   "id": "f41a997e",
   "metadata": {},
   "source": [
    "# 7.边缘检测+外包矩形+筛选"
   ]
  },
  {
   "cell_type": "markdown",
   "id": "8664caf3",
   "metadata": {},
   "source": [
    "## 1.边缘检测\n"
   ]
  },
  {
   "cell_type": "code",
   "execution_count": 17,
   "id": "dcc8032d",
   "metadata": {},
   "outputs": [
    {
     "data": {
      "text/html": [
       "\n",
       "            <style>\n",
       "                .geemap-dark {\n",
       "                    --jp-widgets-color: white;\n",
       "                    --jp-widgets-label-color: white;\n",
       "                    --jp-ui-font-color1: white;\n",
       "                    --jp-layout-color2: #454545;\n",
       "                    background-color: #383838;\n",
       "                }\n",
       "\n",
       "                .geemap-dark .jupyter-button {\n",
       "                    --jp-layout-color3: #383838;\n",
       "                }\n",
       "\n",
       "                .geemap-colab {\n",
       "                    background-color: var(--colab-primary-surface-color, white);\n",
       "                }\n",
       "\n",
       "                .geemap-colab .jupyter-button {\n",
       "                    --jp-layout-color3: var(--colab-primary-surface-color, white);\n",
       "                }\n",
       "            </style>\n",
       "            "
      ],
      "text/plain": [
       "<IPython.core.display.HTML object>"
      ]
     },
     "metadata": {},
     "output_type": "display_data"
    }
   ],
   "source": [
    "#定义方法需要的参数\n",
    "connectedPixels = 100 #长度计算的连接像素数\n",
    "edgeLength = 50 #水边缘的长度\n",
    "edgeBuffer = 15 #边缘的缓冲区(单位m)\n",
    "cannyThreshold = 1 #canny边缘检测的阈值\n",
    "cannySigma = 1 #Canny 边缘检测中高斯滤波器的 Sigma 值\n",
    "cannyLt = 0.05 #canny边缘检测的更限制的阈值"
   ]
  },
  {
   "cell_type": "code",
   "execution_count": 18,
   "id": "d37969b6",
   "metadata": {},
   "outputs": [
    {
     "data": {
      "text/html": [
       "\n",
       "            <style>\n",
       "                .geemap-dark {\n",
       "                    --jp-widgets-color: white;\n",
       "                    --jp-widgets-label-color: white;\n",
       "                    --jp-ui-font-color1: white;\n",
       "                    --jp-layout-color2: #454545;\n",
       "                    background-color: #383838;\n",
       "                }\n",
       "\n",
       "                .geemap-dark .jupyter-button {\n",
       "                    --jp-layout-color3: #383838;\n",
       "                }\n",
       "\n",
       "                .geemap-colab {\n",
       "                    background-color: var(--colab-primary-surface-color, white);\n",
       "                }\n",
       "\n",
       "                .geemap-colab .jupyter-button {\n",
       "                    --jp-layout-color3: var(--colab-primary-surface-color, white);\n",
       "                }\n",
       "            </style>\n",
       "            "
      ],
      "text/plain": [
       "<IPython.core.display.HTML object>"
      ]
     },
     "metadata": {},
     "output_type": "display_data"
    },
    {
     "name": "stdout",
     "output_type": "stream",
     "text": [
      "0.00013474729261792824\n"
     ]
    }
   ],
   "source": [
    "#获取投影信息，以将缓冲区的尺寸转换成像素\n",
    "imageProj = flood_image.projection()\n",
    "\n",
    "#canny边缘检测\n",
    "canny = ee.Algorithms.CannyEdgeDetector(\n",
    "    image = eroded_Dark_tagerts,\n",
    "    threshold = cannyThreshold,\n",
    "    sigma = cannySigma\n",
    ")\n",
    "\n",
    "#获取边缘（排除强边缘 只要弱边缘 因强边缘会是噪声 即边缘强度小于阈值）\n",
    "#connectedPixelCount()函数计算每个像素的相邻相连像素的数量，即边缘的长度\n",
    "connected = canny.updateMask(canny).lt(cannyLt).connectedPixelCount(connectedPixels,True)\n",
    "\n",
    "#新的像素数量图像中，每个像素值表示原始图像中，与其相连的、且边缘强度小于cannyLt的像素的数量\n",
    "#让短边缘视为噪声\n",
    "edges = connected.gte(edgeLength)\n",
    "\n",
    "#nominalScale()返回投影下一个像素代表的地面距离，单位为m\n",
    "edgeBufferPixel = ee.Number(edgeBuffer).divide(imageProj.nominalScale())\n",
    "print(edgeBufferPixel.getInfo())\n",
    "#基于边缘创建缓冲区，并将缓冲区内的像素标记为true\n",
    "#fastDistanceTransform():快速距离变换函数：计算每个像素到最近的非零像素（边缘像素）的距离\n",
    "bufferedEdges=edges.fastDistanceTransform().lt(edgeBuffer) #这里不用edgeBufferPixel\n",
    "#将缓冲区外的部分掩膜掉\n",
    "edgeImage = flood_image.select(band).updateMask(bufferedEdges)\n"
   ]
  },
  {
   "cell_type": "code",
   "execution_count": 19,
   "id": "8aea56f0",
   "metadata": {},
   "outputs": [
    {
     "data": {
      "text/html": [
       "\n",
       "            <style>\n",
       "                .geemap-dark {\n",
       "                    --jp-widgets-color: white;\n",
       "                    --jp-widgets-label-color: white;\n",
       "                    --jp-ui-font-color1: white;\n",
       "                    --jp-layout-color2: #454545;\n",
       "                    background-color: #383838;\n",
       "                }\n",
       "\n",
       "                .geemap-dark .jupyter-button {\n",
       "                    --jp-layout-color3: #383838;\n",
       "                }\n",
       "\n",
       "                .geemap-colab {\n",
       "                    background-color: var(--colab-primary-surface-color, white);\n",
       "                }\n",
       "\n",
       "                .geemap-colab .jupyter-button {\n",
       "                    --jp-layout-color3: var(--colab-primary-surface-color, white);\n",
       "                }\n",
       "            </style>\n",
       "            "
      ],
      "text/plain": [
       "<IPython.core.display.HTML object>"
      ]
     },
     "metadata": {},
     "output_type": "display_data"
    },
    {
     "data": {
      "application/vnd.jupyter.widget-view+json": {
       "model_id": "5d1d912db1774e1d9397c26bf87ac42e",
       "version_major": 2,
       "version_minor": 0
      },
      "text/plain": [
       "Map(bottom=199868.0, center=[39.42792019389194, -0.41806226988355016], controls=(WidgetControl(options=['posit…"
      ]
     },
     "execution_count": 19,
     "metadata": {},
     "output_type": "execute_result"
    }
   ],
   "source": [
    "#可视化边缘+缓冲区\n",
    "\n",
    "#Map.addLayer(edges,{'palette':'red'},'Detected water edges')\n",
    "edgeVis = {'palette':'yellow','opacity':0.5}\n",
    "#Map.addLayer(bufferedEdges.selfMask(),edgeVis,'Buffered water edges')\n",
    "Map"
   ]
  },
  {
   "cell_type": "markdown",
   "id": "c6074e00",
   "metadata": {},
   "source": [
    "## 2.边缘缓冲区生成外包矩形"
   ]
  },
  {
   "cell_type": "code",
   "execution_count": 20,
   "id": "fba3b49a",
   "metadata": {},
   "outputs": [
    {
     "data": {
      "text/html": [
       "\n",
       "            <style>\n",
       "                .geemap-dark {\n",
       "                    --jp-widgets-color: white;\n",
       "                    --jp-widgets-label-color: white;\n",
       "                    --jp-ui-font-color1: white;\n",
       "                    --jp-layout-color2: #454545;\n",
       "                    background-color: #383838;\n",
       "                }\n",
       "\n",
       "                .geemap-dark .jupyter-button {\n",
       "                    --jp-layout-color3: #383838;\n",
       "                }\n",
       "\n",
       "                .geemap-colab {\n",
       "                    background-color: var(--colab-primary-surface-color, white);\n",
       "                }\n",
       "\n",
       "                .geemap-colab .jupyter-button {\n",
       "                    --jp-layout-color3: var(--colab-primary-surface-color, white);\n",
       "                }\n",
       "            </style>\n",
       "            "
      ],
      "text/plain": [
       "<IPython.core.display.HTML object>"
      ]
     },
     "metadata": {},
     "output_type": "display_data"
    },
    {
     "name": "stdout",
     "output_type": "stream",
     "text": [
      "正在将栅格斑块转换为矢量...\n"
     ]
    },
    {
     "data": {
      "application/vnd.jupyter.widget-view+json": {
       "model_id": "5d1d912db1774e1d9397c26bf87ac42e",
       "version_major": 2,
       "version_minor": 0
      },
      "text/plain": [
       "Map(bottom=199868.0, center=[39.42792019389194, -0.41806226988355016], controls=(WidgetControl(options=['posit…"
      ]
     },
     "execution_count": 20,
     "metadata": {},
     "output_type": "execute_result"
    }
   ],
   "source": [
    "#---\n",
    "# 步骤1 ：将栅格斑块转换为矢量多边形集合(FeatureCollection)\n",
    "#---\n",
    "\n",
    "print(\"正在将栅格斑块转换为矢量...\")\n",
    "bufferVectors = bufferedEdges.selfMask().reduceToVectors(\n",
    "    geometry = roi_choose1,\n",
    "    scale = 30,\n",
    "    geometryType = 'polygon',\n",
    "    eightConnected = True,\n",
    "    labelProperty = 'labels',\n",
    "    maxPixels = 1e10\n",
    ")\n",
    "\n",
    "# 可选：可视化一下转换后的矢量多边形\n",
    "#Map.addLayer(bufferVectors, {'color': 'blue'}, 'Buffer Vectors', False)\n",
    "Map"
   ]
  },
  {
   "cell_type": "code",
   "execution_count": 21,
   "id": "29d1e359",
   "metadata": {},
   "outputs": [
    {
     "data": {
      "text/html": [
       "\n",
       "            <style>\n",
       "                .geemap-dark {\n",
       "                    --jp-widgets-color: white;\n",
       "                    --jp-widgets-label-color: white;\n",
       "                    --jp-ui-font-color1: white;\n",
       "                    --jp-layout-color2: #454545;\n",
       "                    background-color: #383838;\n",
       "                }\n",
       "\n",
       "                .geemap-dark .jupyter-button {\n",
       "                    --jp-layout-color3: #383838;\n",
       "                }\n",
       "\n",
       "                .geemap-colab {\n",
       "                    background-color: var(--colab-primary-surface-color, white);\n",
       "                }\n",
       "\n",
       "                .geemap-colab .jupyter-button {\n",
       "                    --jp-layout-color3: var(--colab-primary-surface-color, white);\n",
       "                }\n",
       "            </style>\n",
       "            "
      ],
      "text/plain": [
       "<IPython.core.display.HTML object>"
      ]
     },
     "metadata": {},
     "output_type": "display_data"
    },
    {
     "name": "stdout",
     "output_type": "stream",
     "text": [
      "正在为每个矢量计算外包矩形\n",
      "将外包矩形添加到地图...\n"
     ]
    },
    {
     "data": {
      "application/vnd.jupyter.widget-view+json": {
       "model_id": "5d1d912db1774e1d9397c26bf87ac42e",
       "version_major": 2,
       "version_minor": 0
      },
      "text/plain": [
       "Map(bottom=199868.0, center=[39.4195598121924, -0.4317165000017293], controls=(WidgetControl(options=['positio…"
      ]
     },
     "execution_count": 21,
     "metadata": {},
     "output_type": "execute_result"
    }
   ],
   "source": [
    "# ---\n",
    "# 步骤 2: 为每个矢量多边形计算外包矩形\n",
    "# ---\n",
    "# 我们使用 map() 函数来遍历 FeatureCollection 中的每一个要素 (feature)\n",
    "# 对每一个要素，我们执行一个操作：获取其几何形状，然后计算其外包矩形。\n",
    "\n",
    "print('正在为每个矢量计算外包矩形')\n",
    "def getBoundingBox(feature):\n",
    "   # feature.geometry() 获取当前要素的几何形状\n",
    "  # .bounds() 计算该几何形状的最小外包矩形\n",
    "  # ee.Feature() 用新的矩形几何体创建一个新的要素，并保留原始属性\n",
    "  return ee.Feature(feature.geometry().bounds()) # Removed feature.properties\n",
    "\n",
    "#将上述函数应用到集合中的每一个要素\n",
    "boundingBoxes = bufferVectors.map(getBoundingBox)\n",
    "\n",
    "# ---\n",
    "# 步骤 4: 可视化外包矩形\n",
    "# ---\n",
    "# 为了只显示边框而不是实心矩形，我们创建一个空的图像，然后将矩形的边框“画”上去。\n",
    "# 这比直接添加 FeatureCollection 并设置样式更稳健。\n",
    "empty = ee.Image().byte() # 创建一个空的8位图像作为画布\n",
    "\n",
    "# 使用 .paint() 函数绘制边框\n",
    "outline = empty.paint(\n",
    "    featureCollection=boundingBoxes, # 要绘制的要素集合\n",
    "    color=1, # 边框的颜色，这里设为1，以便使用统一颜色\n",
    "    width=2  # 边框的宽度（像素）\n",
    ")\n",
    "\n",
    "# 定义一个鲜艳的颜色方案来显示外包矩形\n",
    "bboxVis = {'palette': 'FF00FF'} # 使用亮紫色 (Magenta)\n",
    "\n",
    "print(\"将外包矩形添加到地图...\")\n",
    "Map.addLayer(outline, bboxVis, 'Detected Bounding Boxes')\n",
    "\n",
    "# 将地图中心设置到您的研究区\n",
    "Map.centerObject(roi_choose1, 11)\n",
    "Map"
   ]
  },
  {
   "cell_type": "markdown",
   "id": "b11a8a4b",
   "metadata": {},
   "source": [
    "## 3.外包矩形筛选—去除飞机场、原有水体等"
   ]
  },
  {
   "cell_type": "code",
   "execution_count": 22,
   "id": "4e1f5114",
   "metadata": {},
   "outputs": [
    {
     "data": {
      "text/html": [
       "\n",
       "            <style>\n",
       "                .geemap-dark {\n",
       "                    --jp-widgets-color: white;\n",
       "                    --jp-widgets-label-color: white;\n",
       "                    --jp-ui-font-color1: white;\n",
       "                    --jp-layout-color2: #454545;\n",
       "                    background-color: #383838;\n",
       "                }\n",
       "\n",
       "                .geemap-dark .jupyter-button {\n",
       "                    --jp-layout-color3: #383838;\n",
       "                }\n",
       "\n",
       "                .geemap-colab {\n",
       "                    background-color: var(--colab-primary-surface-color, white);\n",
       "                }\n",
       "\n",
       "                .geemap-colab .jupyter-button {\n",
       "                    --jp-layout-color3: var(--colab-primary-surface-color, white);\n",
       "                }\n",
       "            </style>\n",
       "            "
      ],
      "text/plain": [
       "<IPython.core.display.HTML object>"
      ]
     },
     "metadata": {},
     "output_type": "display_data"
    },
    {
     "name": "stdout",
     "output_type": "stream",
     "text": [
      "启动基于剖面线“离群点百分比”的筛选法...\n",
      "\n",
      "--- [最终修复版 v2] 逐个检查每个矩形的处理过程 ---\n",
      "================================================================================\n",
      "Rect ID    | Outlier %       | Status          | Reason/Details\n",
      "--------------------------------------------------------------------------------\n",
      "0          | 0.00%           | FAILED          | LowPercentage\n",
      "           |                 |                 | RZ Values: [0.44, 0.13, -0.47, -0.23, -0.50, -0.06, 0.23, 0.15, 0.51]\n",
      "1          | 66.67%          | PASSED          | Passed\n",
      "2          | 0.00%           | FAILED          | LowPercentage\n",
      "           |                 |                 | RZ Values: [-0.72, -0.32, -0.30]\n",
      "3          | 0.00%           | FAILED          | LowPercentage\n",
      "           |                 |                 | RZ Values: [7.29, 7.21, 4.35]\n",
      "4          | 3.85%           | FAILED          | LowPercentage\n",
      "           |                 |                 | RZ Values: [0.56, -0.57, 0.47, 0.93, 0.30, -0.09, 1.13, 1.17, 0.41, -1.30, -0.56, 0.09, -0.00, -0.47, -2.24, -3.06, -1.30, -0.27, -1.60, -0.74, -0.72, -0.82, 0.43, 0.41, -0.06, 0.18, -0.21, -1.49, -0.36, 0.31, 0.17, 0.41, -0.16, -1.38, 0.20, 1.32, 0.63, 0.59, 0.65, -0.21, -0.86, -0.60, 0.11, 0.47, 0.64, 0.87, 0.82, -0.81, 0.82, 1.25, 0.43, -0.52]\n",
      "5          | 46.97%          | PASSED          | Passed\n",
      "6          | 24.44%          | PASSED          | Passed\n",
      "7          | 23.25%          | PASSED          | Passed\n",
      "8          | 1.96%           | FAILED          | LowPercentage\n",
      "           |                 |                 | RZ Values: [-1.91, -1.76, -1.44, -1.44, -1.20, -1.62, -1.25, -0.92, -0.67, -0.73, -1.26, -1.24, -1.26, -1.39, -1.12, 0.37, 0.28, 1.14, 0.56, -0.43, -1.43, -1.75, -1.86, -1.59, -0.67, -1.03, 0.06, -0.27, -2.07, -1.63, -1.69, -1.15, -1.25, -1.10, -1.25, -0.97, -0.86, -1.66, -1.99, -1.35, -0.93, -1.15, -1.74, -1.33, -1.44, -1.77, -1.30, -1.43, -1.16, -1.11, -1.62]\n",
      "9          | 1.27%           | FAILED          | LowPercentage\n",
      "           |                 |                 | RZ Values: [0.40, 0.48, -0.40, -1.24, -0.59, -0.26, -0.26, -0.47, -0.37, -0.44, -0.58, 0.17, 0.18, -0.96, -0.24, 0.04, -0.62, -0.56, -0.33, -0.08, 0.25, 0.08, 0.60, 0.85, 0.27, -1.33, -0.52, -0.45, -0.56, -0.54, 0.17, 0.67, 0.46, -0.95, -1.43, -0.79, -1.53, -2.30, -1.45, -1.24, -0.45, 0.39, 0.26, -0.41, -1.36, -0.99, -0.10, 1.24, 1.85, 1.23, 0.24, -1.80, -1.81, -1.38, -1.59, -0.85, -0.89, -0.95, -0.17, 0.73, 1.13, 2.27, 1.42, 0.44, 0.41, 0.06, -0.39, -0.11, -0.58, -1.02, -1.05, -1.22, -0.23, 0.39, 0.22, -0.61, -0.83, 0.08, 0.11]\n",
      "10         | 36.73%          | PASSED          | Passed\n",
      "11         | 32.79%          | PASSED          | Passed\n",
      "12         | 19.51%          | PASSED          | Passed\n",
      "13         | 2.52%           | FAILED          | LowPercentage\n",
      "           |                 |                 | RZ Values: [-0.63, -0.83, -0.19, 0.68, 0.10, -2.03, -0.79, 0.89, 0.75, 0.47, 1.17, 2.10, 0.73, 0.51, -0.35, 1.12, 1.12, 1.63, 1.13, 1.24, 0.30, -0.74, 0.30, 1.78, 1.22, 0.77, 0.62, -0.74, -0.61, 0.63, 0.49, 0.10, 0.49, 0.50, 1.10, 1.39, 1.00, 1.01, 1.06, 1.01, 0.30, 0.19, 1.02, 0.93, 0.11, 1.34, 2.37, 1.23, 0.26, 0.38, 0.36, 0.51, 0.86, 1.50, 0.07, -0.34, -0.53, 0.56, 0.37, -0.81, 0.12, -0.89, -0.40, 0.16, 0.84, 1.89, 2.32, 1.61, 1.33, 1.00, 1.74, 2.30, 1.61, 0.30, 0.22, 1.48, 1.45, 0.22, -3.75, -2.04, -0.42, -0.22, -0.66, 0.29, 0.49, 0.73, 0.61, -0.63, -0.90, -0.27, 0.35, -0.12, -0.98, 0.16, 0.73, 0.92, 0.20, 0.95, 1.85, 2.98, 2.55, 1.05, 1.38, 1.35, 2.25, 2.52, 2.69, 4.02, 5.70, 7.70, 9.42, 8.99, 2.11, 2.06, 1.82, 1.73, 2.01, 0.84, -0.92, 0.14, 0.84, 1.80, 1.42, 0.61, 0.09, 0.82, 0.81, 0.86, -0.09, -1.11, 0.36, 1.09, 0.44, -0.43, 0.57, 2.05, 3.43, 3.44, 2.92, 2.11, 1.73, 1.24, 1.09, -0.45, -0.66, -0.20, -0.13, -0.13, -0.34, 0.14, 1.27, 1.92, 2.02, 0.43, -0.44, -0.05, 0.83, 2.07, 1.59, 1.92, 1.50, 0.31, -0.14, 0.24, 0.12, -1.91, -2.02, -0.56, -0.14, -2.19, -1.08, 0.23, 0.21, -0.49, 0.36, 0.42, 0.26, 0.55, 0.10, 0.56, 1.60, 0.83, -0.14, -0.38, -0.60, -0.83, -1.49, -1.00, -0.89, -1.55, -1.51, -1.14, -0.30, -1.20, -1.49, -0.58, 0.15, 0.00, -0.15, -1.14, -1.19, -0.70, -0.89, -1.03, -0.76, 0.77, 0.14, -0.67, -2.60, -1.76, -0.13, -0.03, -1.27, -1.75, -0.96, 0.45, 0.86, 0.62, -1.10, -1.49, -0.79, -0.30, -0.59, -0.62, 0.50, 0.57, 0.42, 0.76, 1.60, 1.60, 1.75, 2.21, 1.70, 1.83, 1.60, 0.92, 0.06, 1.21]\n",
      "================================================================================\n",
      "\n",
      "最终结果：\n",
      "筛选前矩形总数: 14\n",
      "筛选后（离群点百分比 >= 10%）的矩形数量: 7\n"
     ]
    },
    {
     "data": {
      "application/vnd.jupyter.widget-view+json": {
       "model_id": "5d1d912db1774e1d9397c26bf87ac42e",
       "version_major": 2,
       "version_minor": 0
      },
      "text/plain": [
       "Map(bottom=199883.0, center=[39.4195598121924, -0.4317165000017293], controls=(WidgetControl(options=['positio…"
      ]
     },
     "execution_count": 22,
     "metadata": {},
     "output_type": "execute_result"
    }
   ],
   "source": [
    "#筛选策略二：基于剖面线\"离群点百分比\"的筛选法\n",
    "print(\"启动基于剖面线“离群点百分比”的筛选法...\")\n",
    "\n",
    "\n",
    "\n",
    "def analyze_and_filter_bbox_by_outlier_percentage(feature):\n",
    "    \"\"\"\n",
    "    [最终修复版]\n",
    "    - 使用正确的 ee.reduceRegion(ee.Reducer.toList()) 进行沿线采样。\n",
    "    - 为所有敏感的几何操作添加了容错率。\n",
    "    - 使用 ee.Number(1/0) 代替 Python 布尔值。\n",
    "    \"\"\"\n",
    "    try:\n",
    "        error_margin = ee.ErrorMargin(1)\n",
    "        bbox_geom = feature.geometry()\n",
    "        center = bbox_geom.centroid(error_margin)\n",
    "        coords = ee.List(bbox_geom.coordinates().get(0))\n",
    "        p1, p2, p3 = ee.List(coords.get(0)), ee.List(coords.get(1)), ee.List(coords.get(2))\n",
    "\n",
    "        # 客户端几何计算\n",
    "        p1_coords, p2_coords, p3_coords = np.array(p1.getInfo()), np.array(p2.getInfo()), np.array(p3.getInfo())\n",
    "        center_coords = np.array(center.coordinates().getInfo())\n",
    "        vector_12, vector_23 = p2_coords - p1_coords, p3_coords - p2_coords\n",
    "        main_axis_vector = vector_12 if np.linalg.norm(vector_12) < np.linalg.norm(vector_23) else vector_23\n",
    "        start_point = center_coords - main_axis_vector * 1.5\n",
    "        end_point = center_coords + main_axis_vector * 1.5\n",
    "        long_line = ee.Geometry.LineString([start_point.tolist(), end_point.tolist()])\n",
    "        profile_line = long_line.intersection(bbox_geom, error_margin)\n",
    "\n",
    "        # [核心修复] 使用正确的 GEE 方法进行沿线采样\n",
    "        sampled_dict = rz_image.select('VV').reduceRegion(\n",
    "            reducer=ee.Reducer.toList(),\n",
    "            geometry=profile_line,\n",
    "            scale=10,\n",
    "            maxPixels=1024\n",
    "        )\n",
    "\n",
    "        rz_values = ee.List(sampled_dict.get('VV')).getInfo()\n",
    "\n",
    "        if not rz_values or len(rz_values) < 3:\n",
    "            return feature.set({\n",
    "                'is_valid': ee.Number(0),\n",
    "                'outlier_percentage': -1,\n",
    "                'profile_line': profile_line,\n",
    "                'reason': 'NotEnoughPoints'\n",
    "            })\n",
    "\n",
    "        # 客户端计算\n",
    "        rz_array = np.array(rz_values)\n",
    "        outlier_count = np.sum(rz_array < OUTLIER_RZ_THRESHOLD)\n",
    "        total_count = len(rz_array)\n",
    "        outlier_percentage = outlier_count / total_count\n",
    "\n",
    "        is_valid_python = outlier_percentage >= MIN_OUTLIER_PERCENTAGE\n",
    "\n",
    "        return feature.set({\n",
    "            'is_valid': ee.Number(1) if is_valid_python else ee.Number(0), #不能直接设为True or False布尔型，因为与gee数据格式不兼容\n",
    "            'outlier_percentage': outlier_percentage,\n",
    "            'profile_line': profile_line,\n",
    "            'reason': 'Passed' if is_valid_python else 'LowPercentage'\n",
    "        })\n",
    "\n",
    "    except Exception as e:\n",
    "        return feature.set({\n",
    "            'is_valid': ee.Number(0),\n",
    "            'outlier_percentage': -1,\n",
    "            'reason': f'Error: {str(e)}'\n",
    "        })\n",
    "\n",
    "# ==============================================================================\n",
    "# 参数定义\n",
    "# ==============================================================================\n",
    "OUTLIER_RZ_THRESHOLD = -2.0\n",
    "MIN_OUTLIER_PERCENTAGE = 0.1\n",
    "\n",
    "# ==============================================================================\n",
    "# 核心调试循环 (最终修复版)\n",
    "# ==============================================================================\n",
    "bboxes_list = boundingBoxes.toList(boundingBoxes.size())\n",
    "processed_features_list = []\n",
    "# [修复] 我们不再需要 all_profile_lines 列表，直接从最终集合中提取\n",
    "\n",
    "print(\"\\n--- [最终修复版 v2] 逐个检查每个矩形的处理过程 ---\")\n",
    "print(\"=\"*80)\n",
    "print(f\"{'Rect ID':<10} | {'Outlier %':<15} | {'Status':<15} | {'Reason/Details'}\")\n",
    "print(\"-\"*80)\n",
    "\n",
    "for i in range(bboxes_list.size().getInfo()):\n",
    "    server_feature = ee.Feature(bboxes_list.get(i))\n",
    "    client_processed_feature = analyze_and_filter_bbox_by_outlier_percentage(server_feature)\n",
    "\n",
    "    # [保持不变] 打印主信息\n",
    "    properties = client_processed_feature.getInfo()['properties']\n",
    "    is_valid_flag = properties.get('is_valid', 0) == 1\n",
    "    percentage = properties.get('outlier_percentage', -1)\n",
    "    status = \"PASSED\" if is_valid_flag else \"FAILED\"\n",
    "    print(f\"{i:<10} | {f'{percentage:.2%}':<15} | {status:<15} | {properties.get('reason', 'N/A')}\")\n",
    "\n",
    "    # [保持不变] 打印失败的详细信息\n",
    "    if not is_valid_flag and percentage != -1:\n",
    "        profile_line = client_processed_feature.get('profile_line')\n",
    "        if profile_line is not None:\n",
    "            profile_line_geom = ee.Geometry(profile_line)\n",
    "            sampled_dict_debug = rz_image.select('VV').reduceRegion(\n",
    "                reducer=ee.Reducer.toList(),\n",
    "                geometry=profile_line_geom,\n",
    "                scale=10\n",
    "            )\n",
    "            values_debug_list = ee.List(sampled_dict_debug.get('VV')).getInfo()\n",
    "            values_str = [f\"{v:.2f}\" for v in values_debug_list] if values_debug_list else [\"No values sampled\"]\n",
    "            print(f\"{'':<10} | {'':<15} | {'':<15} | RZ Values: [{', '.join(values_str)}]\")\n",
    "\n",
    "    processed_features_list.append(client_processed_feature)\n",
    "print(\"=\"*80)\n",
    "\n",
    "# ==============================================================================\n",
    "# 后续处理和可视化 (最终修复版)\n",
    "# ==============================================================================\n",
    "analyzed_bboxes = ee.FeatureCollection(processed_features_list)\n",
    "filtered_boundingBoxes = analyzed_bboxes.filter(ee.Filter.eq('is_valid', 1))\n",
    "\n",
    "print(f\"\\n最终结果：\")\n",
    "print(f\"筛选前矩形总数: {analyzed_bboxes.size().getInfo()}\")\n",
    "print(f\"筛选后（离群点百分比 >= {MIN_OUTLIER_PERCENTAGE:.0%}）的矩形数量: {filtered_boundingBoxes.size().getInfo()}\")\n",
    "\n",
    "# --- 可视化 ---\n",
    "\n",
    "# [核心修复] 定义一个函数，将Feature的几何体替换为其'profile_line'属性\n",
    "def extract_profile_as_feature(feature):\n",
    "    # 从输入 feature 中获取 profile_line 几何体\n",
    "    profile_geom = ee.Geometry(feature.get('profile_line'))\n",
    "    # 返回一个新的 Feature，它的几何体是 profile_line，并且不包含任何属性\n",
    "    # 这样可以避免属性继承带来的问题\n",
    "    return ee.Feature(profile_geom)\n",
    "\n",
    "# -- 可视化所有剖面线 (用于调试) --\n",
    "# 使用 .map() 应用上面的函数，确保我们得到一个 FeatureCollection of LineStrings\n",
    "all_profiles_fc = analyzed_bboxes.map(extract_profile_as_feature)\n",
    "Map.addLayer(ee.Image().byte().paint(all_profiles_fc, 0, 1), {'palette': 'FF0000'}, 'All Profile Lines (DEBUG)') # 红色\n",
    "\n",
    "# -- 可视化通过筛选的矩形和剖面线 --\n",
    "if filtered_boundingBoxes.size().getInfo() > 0:\n",
    "    # 可视化矩形边框 (这部分没问题)\n",
    "    filtered_outline = ee.Image().byte().paint(filtered_boundingBoxes, 0, 2)\n",
    "    Map.addLayer(filtered_outline, {'palette': '00008B'}, 'Filtered BBoxes (PASSED)') # 绿色\n",
    "\n",
    "    # [核心修复] 使用同样的方法提取通过筛选的剖面线\n",
    "    valid_profile_lines_fc = filtered_boundingBoxes.map(extract_profile_as_feature)\n",
    "    valid_profile_lines = ee.Image().byte().paint(valid_profile_lines_fc, 0, 2)\n",
    "    Map.addLayer(valid_profile_lines, {'palette': '00FFFF'}, 'Valid Profile Lines (PASSED)') # 青色\n",
    "else:\n",
    "    print(\"\\n没有找到有效的矩形。\")\n",
    "\n",
    "Map.centerObject(roi_choose1, 11)\n",
    "Map\n",
    "\n",
    "\n"
   ]
  },
  {
   "cell_type": "code",
   "execution_count": 23,
   "id": "4f6825a5",
   "metadata": {},
   "outputs": [
    {
     "data": {
      "text/html": [
       "\n",
       "            <style>\n",
       "                .geemap-dark {\n",
       "                    --jp-widgets-color: white;\n",
       "                    --jp-widgets-label-color: white;\n",
       "                    --jp-ui-font-color1: white;\n",
       "                    --jp-layout-color2: #454545;\n",
       "                    background-color: #383838;\n",
       "                }\n",
       "\n",
       "                .geemap-dark .jupyter-button {\n",
       "                    --jp-layout-color3: #383838;\n",
       "                }\n",
       "\n",
       "                .geemap-colab {\n",
       "                    background-color: var(--colab-primary-surface-color, white);\n",
       "                }\n",
       "\n",
       "                .geemap-colab .jupyter-button {\n",
       "                    --jp-layout-color3: var(--colab-primary-surface-color, white);\n",
       "                }\n",
       "            </style>\n",
       "            "
      ],
      "text/plain": [
       "<IPython.core.display.HTML object>"
      ]
     },
     "metadata": {},
     "output_type": "display_data"
    },
    {
     "name": "stdout",
     "output_type": "stream",
     "text": [
      "\n",
      "--- [升级版] 开始为筛选通过的剖面线生成平滑的RZ-Score剖面图 ---\n",
      "共找到 7 个有效的剖面线，将逐一为其绘图。\n",
      "--- 正在处理第 1/7 个剖面线 ---\n",
      "  > 警告：ID 0 的剖面线采样点不足 (<4)，无法生成平滑曲线，跳过绘图。\n",
      "--- 正在处理第 2/7 个剖面线 ---\n"
     ]
    },
    {
     "data": {
      "image/png": "[encoded data removed]",
      "text/plain": [
       "<Figure size 1000x600 with 1 Axes>"
      ]
     },
     "metadata": {},
     "output_type": "display_data"
    },
    {
     "name": "stdout",
     "output_type": "stream",
     "text": [
      "--- 正在处理第 3/7 个剖面线 ---\n"
     ]
    },
    {
     "data": {
      "image/png": "[encoded data removed]",
      "text/plain": [
       "<Figure size 1000x600 with 1 Axes>"
      ]
     },
     "metadata": {},
     "output_type": "display_data"
    },
    {
     "name": "stdout",
     "output_type": "stream",
     "text": [
      "--- 正在处理第 4/7 个剖面线 ---\n"
     ]
    },
    {
     "data": {
      "image/png": "[encoded data removed]",
      "text/plain": [
       "<Figure size 1000x600 with 1 Axes>"
      ]
     },
     "metadata": {},
     "output_type": "display_data"
    },
    {
     "name": "stdout",
     "output_type": "stream",
     "text": [
      "--- 正在处理第 5/7 个剖面线 ---\n"
     ]
    },
    {
     "data": {
      "image/png": "[encoded data removed]",
      "text/plain": [
       "<Figure size 1000x600 with 1 Axes>"
      ]
     },
     "metadata": {},
     "output_type": "display_data"
    },
    {
     "name": "stdout",
     "output_type": "stream",
     "text": [
      "--- 正在处理第 6/7 个剖面线 ---\n"
     ]
    },
    {
     "data": {
      "image/png": "[encoded data removed]",
      "text/plain": [
       "<Figure size 1000x600 with 1 Axes>"
      ]
     },
     "metadata": {},
     "output_type": "display_data"
    },
    {
     "name": "stdout",
     "output_type": "stream",
     "text": [
      "--- 正在处理第 7/7 个剖面线 ---\n"
     ]
    },
    {
     "data": {
      "image/png": "[encoded data removed]",
      "text/plain": [
       "<Figure size 1000x600 with 1 Axes>"
      ]
     },
     "metadata": {},
     "output_type": "display_data"
    }
   ],
   "source": [
    "# 剖面线RZ-Score曲线可视化\n",
    "import matplotlib.pyplot as plt\n",
    "import numpy as np\n",
    "\n",
    "# (新增) 导入样条插值函数，这是实现平滑的核心\n",
    "from scipy.interpolate import make_interp_spline\n",
    "\n",
    "print(\"\\n--- [升级版] 开始为筛选通过的剖面线生成平滑的RZ-Score剖面图 ---\")\n",
    "\n",
    "# 检查 'filtered_boundingBoxes' 是否存在且包含要素\n",
    "if 'filtered_boundingBoxes' in globals() and filtered_boundingBoxes.size().getInfo() > 0:\n",
    "    \n",
    "    valid_bboxes_list = filtered_boundingBoxes.toList(filtered_boundingBoxes.size())\n",
    "    num_bboxes = valid_bboxes_list.size().getInfo()\n",
    "    \n",
    "    print(f\"共找到 {num_bboxes} 个有效的剖面线，将逐一为其绘图。\")\n",
    "\n",
    "    # 遍历列表中的每一个要素 (Feature)\n",
    "    for i in range(num_bboxes):\n",
    "        print(f\"--- 正在处理第 {i+1}/{num_bboxes} 个剖面线 ---\")\n",
    "        \n",
    "        feature = ee.Feature(valid_bboxes_list.get(i))\n",
    "        profile_line = ee.Geometry(feature.get('profile_line'))\n",
    "        \n",
    "        sampled_dict = rz_image.select('VV').reduceRegion(\n",
    "            reducer=ee.Reducer.toList(),\n",
    "            geometry=profile_line,\n",
    "            scale=10,\n",
    "            maxPixels=1024\n",
    "        )\n",
    "        \n",
    "        rz_values = ee.List(sampled_dict.get('VV')).getInfo()\n",
    "        \n",
    "        # (修改) 至少需要4个点才能进行三次样条插值\n",
    "        if not rz_values or len(rz_values) < 4:\n",
    "            print(f\"  > 警告：ID {i} 的剖面线采样点不足 (<4)，无法生成平滑曲线，跳过绘图。\")\n",
    "            continue\n",
    "\n",
    "        # --- 开始使用 Matplotlib 绘图 ---\n",
    "        \n",
    "        plt.figure(figsize=(10, 6)) # 可以适当调整图像大小\n",
    "        \n",
    "        # --- (核心修改) 创建平滑曲线 ---\n",
    "        # 1. 定义原始的X轴和Y轴数据\n",
    "        x_original = np.array(range(len(rz_values)))\n",
    "        y_original = np.array(rz_values)\n",
    "\n",
    "        # 2. 创建一个更密集的X轴，用于绘制平滑曲线（例如，点数是原来的10倍）\n",
    "        x_smooth = np.linspace(x_original.min(), x_original.max(), len(x_original) * 10)\n",
    "\n",
    "        # 3. 创建样条插值函数 (k=3 表示三次样条，能保证曲线足够平滑)\n",
    "        spline = make_interp_spline(x_original, y_original, k=3)\n",
    "        \n",
    "        # 4. 计算平滑曲线对应的Y轴值\n",
    "        y_smooth = spline(x_smooth)\n",
    "        # --- 平滑处理结束 ---\n",
    "\n",
    "        # (核心修改) 绘制平滑曲线，去掉了 marker='.'\n",
    "        plt.plot(x_smooth, y_smooth, linestyle='-', color='black', linewidth=2)\n",
    "        \n",
    "        # 图表元素保持不变，但可以调整字体大小使其更清晰\n",
    "        plt.title(f'RZ-Score Profile for Filtered BBox ID: {i}', fontsize=16)\n",
    "        plt.xlabel('Pixel Number along Profile', fontsize=14)\n",
    "        plt.ylabel('Robust Z-Score (RZ) Value', fontsize=14)\n",
    "        plt.grid(True, which='both', linestyle='--', linewidth=0.5)\n",
    "        \n",
    "        plt.axhline(0, color='red', linestyle=':', linewidth=1.5, label='RZ = 0 (Baseline Median)')\n",
    "        plt.legend()\n",
    "        \n",
    "        # 调整Y轴范围，并增加一点边距\n",
    "        plt.ylim(min(y_original) - 1.5, max(y_original) + 1.5)\n",
    "        plt.xticks(fontsize=12)\n",
    "        plt.yticks(fontsize=12)\n",
    "\n",
    "        plt.show()\n",
    "\n",
    "else:\n",
    "    print(\"未找到任何通过筛选的剖面线 ('filtered_boundingBoxes')，无法绘制剖面图。\")"
   ]
  },
  {
   "cell_type": "markdown",
   "id": "f5e86aa4",
   "metadata": {},
   "source": [
    "# 8.监测洪水RZ阈值计算"
   ]
  },
  {
   "cell_type": "markdown",
   "id": "69e709c1",
   "metadata": {},
   "source": [
    "## 1.np_gradient+可视化梯度最大值点+限制LINE上RZ+计算阈值"
   ]
  },
  {
   "cell_type": "code",
   "execution_count": 24,
   "id": "1c0406cc",
   "metadata": {},
   "outputs": [
    {
     "data": {
      "text/html": [
       "\n",
       "            <style>\n",
       "                .geemap-dark {\n",
       "                    --jp-widgets-color: white;\n",
       "                    --jp-widgets-label-color: white;\n",
       "                    --jp-ui-font-color1: white;\n",
       "                    --jp-layout-color2: #454545;\n",
       "                    background-color: #383838;\n",
       "                }\n",
       "\n",
       "                .geemap-dark .jupyter-button {\n",
       "                    --jp-layout-color3: #383838;\n",
       "                }\n",
       "\n",
       "                .geemap-colab {\n",
       "                    background-color: var(--colab-primary-surface-color, white);\n",
       "                }\n",
       "\n",
       "                .geemap-colab .jupyter-button {\n",
       "                    --jp-layout-color3: var(--colab-primary-surface-color, white);\n",
       "                }\n",
       "            </style>\n",
       "            "
      ],
      "text/plain": [
       "<IPython.core.display.HTML object>"
      ]
     },
     "metadata": {},
     "output_type": "display_data"
    },
    {
     "name": "stdout",
     "output_type": "stream",
     "text": [
      "\n",
      "--- [V12 最终完整版] 开始为 7 个已筛选的矩形计算局部阈值 ---\n",
      "====================================================================================================\n",
      "Rect ID         | Threshold       | Status          | Reason/Details\n",
      "----------------------------------------------------------------------------------------------------\n",
      "0               | N/A             | FAILED          | Passed\n",
      "1               | -1.42           | SUCCESS         | Passed\n",
      "2               | -1.31           | SUCCESS         | Passed\n",
      "3               | -3.38           | SUCCESS         | Passed\n",
      "4               | -1.81           | SUCCESS         | Passed\n",
      "5               | -5.63           | SUCCESS         | Passed\n",
      "6               | -2.77           | SUCCESS         | Passed\n",
      "====================================================================================================\n",
      "\n",
      "--- [V12 最终完整版] 可视化模块 ---\n",
      "\n",
      "成功为 6 个矩形计算出阈值并已可视化。\n"
     ]
    },
    {
     "data": {
      "application/vnd.jupyter.widget-view+json": {
       "model_id": "5d1d912db1774e1d9397c26bf87ac42e",
       "version_major": 2,
       "version_minor": 0
      },
      "text/plain": [
       "Map(bottom=199883.0, center=[39.39566170082581, -0.35173534949699864], controls=(WidgetControl(options=['posit…"
      ]
     },
     "execution_count": 24,
     "metadata": {},
     "output_type": "execute_result"
    }
   ],
   "source": [
    "VALLEY_POINT_THRESHOLD = -1.0\n",
    "\n",
    "# ==============================================================================\n",
    "# 核心函数 (最终版 - 在V8基础上升级算法)\n",
    "# ==============================================================================\n",
    "def calculate_threshold_and_get_key_points(feature):\n",
    "    \"\"\"\n",
    "    [最终版]\n",
    "    - 保持了V8版本返回关键点几何体的结构。\n",
    "    - 内部实现了“在暗区中寻找梯度极值”的最终高级算法。\n",
    "    - 修复了多次 reduceRegion 的问题，提高了效率。\n",
    "    \"\"\"\n",
    "    try:\n",
    "        # --- 1. 数据准备 ---\n",
    "        profile_line = ee.Geometry(feature.get('profile_line'))\n",
    "        if profile_line is None:\n",
    "            return feature.set({'local_threshold': -999, 'error_msg': 'Profile line is missing'})\n",
    "\n",
    "        # [效率优化] 一次性获取 RZ-Score, 经度, 纬度\n",
    "        lon_lat_image = ee.Image.pixelLonLat()\n",
    "        rz_dict = rz_image.select('VV').reduceRegion(reducer=ee.Reducer.toList(), geometry=profile_line, scale=10)\n",
    "        lon_dict = lon_lat_image.select('longitude').reduceRegion(reducer=ee.Reducer.toList(), geometry=profile_line, scale=10)\n",
    "        lat_dict = lon_lat_image.select('latitude').reduceRegion(reducer=ee.Reducer.toList(), geometry=profile_line, scale=10)\n",
    "        rz_values, longitudes, latitudes = ee.List(rz_dict.get('VV')).getInfo(), ee.List(lon_dict.get('longitude')).getInfo(), ee.List(lat_dict.get('latitude')).getInfo()\n",
    "        if not rz_values or len(rz_values) < 3: return feature.set({'local_threshold': -999})\n",
    "\n",
    "\n",
    "        # --- 2. 客户端最终高级梯度分析 ---\n",
    "        rz_array = np.array(rz_values)\n",
    "        gradients = np.gradient(rz_array)\n",
    "\n",
    "        # a. 创建一个“谷点”数组\n",
    "        valley_points = np.minimum(rz_array[:-1], rz_array[1:]) #比较rz除第一个元素以外的子数组和除最后一个元素以外的子数组（即rz[i]和rz[i+1] 以识别梯度低值<-2的点）\n",
    "\n",
    "        # b. 找到所有“合格梯度”的索引\n",
    "        qualified_indices = np.where(valley_points < VALLEY_POINT_THRESHOLD)[0]\n",
    "\n",
    "        if len(qualified_indices) < 2:\n",
    "            return feature.set({'local_threshold': -999, 'reason': f'Not enough qualified gradients (<2)'})\n",
    "\n",
    "        # c. 只提取这些“合格”的梯度值\n",
    "        qualified_gradients = gradients[qualified_indices]\n",
    "\n",
    "        if len(qualified_gradients) == 0:\n",
    "             return feature.set({'local_threshold': -999, 'reason': 'No qualified gradients found'})\n",
    "\n",
    "        # d. 在“合格梯度”中寻找最大和最小值\n",
    "        local_idx_max = np.argmax(qualified_gradients)\n",
    "        local_idx_min = np.argmin(qualified_gradients)\n",
    "\n",
    "        # e. 将局部索引映射回原始的全长数组索引\n",
    "        original_idx_max_grad = qualified_indices[local_idx_max]\n",
    "        original_idx_min_grad = qualified_indices[local_idx_min]\n",
    "\n",
    "        # f. 提取最终锚点值（即谷点的值）\n",
    "        rz_at_neg_grad_point = valley_points[original_idx_min_grad]\n",
    "        rz_at_pos_grad_point = valley_points[original_idx_max_grad]\n",
    "        rz_at_pos_gradfront_point = valley_points[original_idx_max_grad+1]\n",
    "\n",
    "        # g. 计算最终阈值\n",
    "        #local_threshold = (rz_at_neg_grad_point + rz_at_pos_grad_point) / 2.0\n",
    "        local_threshold = (rz_at_pos_grad_point + rz_at_pos_gradfront_point) / 2.0\n",
    "\n",
    "        # h. 获取关键点的坐标 (谷点所在的位置)\n",
    "        neg_valley_idx = original_idx_min_grad if rz_array[original_idx_min_grad] < rz_array[original_idx_min_grad+1] else original_idx_min_grad + 1\n",
    "        pos_valley_idx = original_idx_max_grad if rz_array[original_idx_max_grad] < rz_array[original_idx_max_grad+1] else original_idx_max_grad + 1\n",
    "\n",
    "        neg_grad_point_geom = ee.Geometry.Point([longitudes[neg_valley_idx], latitudes[neg_valley_idx]])\n",
    "        pos_grad_point_geom = ee.Geometry.Point([longitudes[pos_valley_idx], latitudes[pos_valley_idx]])\n",
    "\n",
    "        # i. 准备返回结果\n",
    "        return feature.set({\n",
    "            'local_threshold': local_threshold,\n",
    "            'neg_grad_point': neg_grad_point_geom,\n",
    "            'pos_grad_point': pos_grad_point_geom\n",
    "        })\n",
    "\n",
    "    except Exception as e:\n",
    "        return feature.set({'local_threshold': -999, 'error_msg': str(e)})\n",
    "\n",
    "\n",
    "# 主循环与数据处理 (包含了打印阈值的功能)\n",
    "# ==============================================================================\n",
    "if 'filtered_boundingBoxes' not in globals() or filtered_boundingBoxes.size().getInfo() == 0:\n",
    "    print(\"错误：未找到名为 'filtered_boundingBoxes' 的有效FeatureCollection。\")\n",
    "    print(\"请确保您已成功运行了之前的筛选步骤。\")\n",
    "else:\n",
    "    print(f\"\\n--- [V12 最终完整版] 开始为 {filtered_boundingBoxes.size().getInfo()} 个已筛选的矩形计算局部阈值 ---\")\n",
    "    print(\"=\"*100)\n",
    "    print(f\"{'Rect ID':<15} | {'Threshold':<15} | {'Status':<15} | {'Reason/Details'}\")\n",
    "    print(\"-\"*100)\n",
    "\n",
    "    neg_grad_coords_list = []\n",
    "    pos_grad_coords_list = []\n",
    "    final_features_with_thresholds_list = []\n",
    "\n",
    "    valid_bboxes_list = filtered_boundingBoxes.toList(filtered_boundingBoxes.size())\n",
    "    for i in range(valid_bboxes_list.size().getInfo()):\n",
    "        valid_feature = ee.Feature(valid_bboxes_list.get(i))\n",
    "        feature_with_results = calculate_threshold_and_get_key_points(valid_feature)\n",
    "\n",
    "        properties = feature_with_results.getInfo()['properties']\n",
    "        local_threshold = properties.get('local_threshold', -999)\n",
    "        reason = properties.get('reason', 'N/A')\n",
    "        status = \"SUCCESS\" if local_threshold != -999 else \"FAILED\"\n",
    "        threshold_str = f\"{local_threshold:.2f}\" if status == \"SUCCESS\" else \"N/A\"\n",
    "        original_id = properties.get('label', i) # 假设原始矩形有label属性，没有则用索引\n",
    "\n",
    "        print(f\"{original_id:<15} | {threshold_str:<15} | {status:<15} | {reason}\")\n",
    "\n",
    "        if status == \"SUCCESS\":\n",
    "            final_features_with_thresholds_list.append(feature_with_results)\n",
    "            neg_point_coords = properties.get('neg_grad_point', {}).get('coordinates')\n",
    "            pos_point_coords = properties.get('pos_grad_point', {}).get('coordinates')\n",
    "            if neg_point_coords: neg_grad_coords_list.append(neg_point_coords)\n",
    "            if pos_point_coords: pos_grad_coords_list.append(pos_point_coords)\n",
    "\n",
    "    print(\"=\"*100)\n",
    "\n",
    "    # ==============================================================================\n",
    "    # 可视化模块\n",
    "    # ==============================================================================\n",
    "    print(\"\\n--- [V12 最终完整版] 可视化模块 ---\")\n",
    "\n",
    "    # 可视化所有最初通过筛选的矩形（灰色，作为底图）\n",
    "    #Map.addLayer(ee.Image().byte().paint(filtered_boundingBoxes, 0, 1), {'palette': '808080'}, 'Initial Filtered BBoxes (Gray)')\n",
    "\n",
    "    if final_features_with_thresholds_list:\n",
    "        # 将成功计算出阈值的要素转为 FeatureCollection\n",
    "        valid_bboxes_with_thresh = ee.FeatureCollection(final_features_with_thresholds_list)\n",
    "        Map.addLayer(ee.Image().byte().paint(valid_bboxes_with_thresh, 0, 2), {'palette': '00FF00'}, 'BBoxes with Final Threshold (Green)')\n",
    "\n",
    "        # 在客户端重建干净的 FeatureCollection 用于可视化梯度点\n",
    "        neg_points_features = [ee.Feature(ee.Geometry.Point(coords)) for coords in neg_grad_coords_list]\n",
    "        pos_points_features = [ee.Feature(ee.Geometry.Point(coords)) for coords in pos_grad_coords_list]\n",
    "        neg_points_fc = ee.FeatureCollection(neg_points_features)\n",
    "        pos_points_fc = ee.FeatureCollection(pos_points_features)\n",
    "\n",
    "        # 添加关键梯度点到地图\n",
    "        Map.addLayer(neg_points_fc, {'color': 'FF0000', 'pointSize': 5}, 'Max Negative Gradient Points (Red)')\n",
    "        Map.addLayer(pos_points_fc, {'color': '0000FF', 'pointSize': 5}, 'Max Positive Gradient Points (Blue)')\n",
    "\n",
    "        print(f\"\\n成功为 {len(final_features_with_thresholds_list)} 个矩形计算出阈值并已可视化。\")\n",
    "        try:\n",
    "            Map.centerObject(neg_points_fc.first(), 14)\n",
    "        except:\n",
    "            # 如果没有点，安全退出\n",
    "            pass\n",
    "    else:\n",
    "        print(\"\\n没有成功计算出任何局部阈值。\")\n",
    "\n",
    "    # 确保地图对象被显示\n",
    "Map"
   ]
  },
  {
   "cell_type": "markdown",
   "id": "a718dcf7",
   "metadata": {},
   "source": [
    "# 2.EMWA梯度法"
   ]
  },
  {
   "cell_type": "code",
   "execution_count": null,
   "id": "71271b73",
   "metadata": {},
   "outputs": [],
   "source": [
    "def calculate_threshold_by_ewma(feature):\n",
    "    try:\n",
    "        # --- 1.数据准备 ---\n",
    "        profile_line = ee.Geometry(feature.get('profile_line'))\n",
    "        if profile_line is None:\n",
    "            return feature.set({'local_threshold': -999, 'error_msg': 'Profile line is missing'})\n",
    "        \n",
    "        lon_lat_image = ee.Image.pixelLonLat() #生成双波段（经纬度）图像\n",
    "        \n",
    "        #提取线上RZ，lon,lat值并提取到客户端信息\n",
    "        rz_dict = rz_image.select('VV').reduceRegion(\n",
    "            reducer = ee.Reducer.toList(),\n",
    "            geometry = profile_line,\n",
    "            scale = 10\n",
    "            )\n",
    "        lon_dict = lon_lat_image.select('longitude').reduceRegion(\n",
    "            reducer = ee.Reducer.toList(),\n",
    "            geometry = profile_line,\n",
    "            scale = 10\n",
    "        )\n",
    "        lat_dict = lon_lat_image.select('latitude').reduceRegion(\n",
    "            reducer=ee.Reducer.toList(), \n",
    "            geometry=profile_line, \n",
    "            scale=10\n",
    "        )\n",
    "        \n",
    "        rz_values,longitudes,latitudes = ee.List(rz_dict.get('VV')).getInfo(),ee.List(lon_dict.get('longitude')).getInfo(),ee.List(lat_dict.get('latitude')).getInfo()\n",
    "        \n",
    "        # --- 2.1 核心算法： 双向EWMA梯度计算——左右坡度相乘法 ---\n",
    "        rz_array = np.array(rz_values)\n",
    "        n = len(rz_array)\n",
    "        if n < 3: #至少需要三个点\n",
    "            return feature.set({'local_threshold': -999, 'reason': 'Not enough points on profile (<3)'})\n",
    "        \n",
    "        # a.左向右传递(Left Pass)\n",
    "        g_left = np.zeros(n)\n",
    "        m_left = np.zeros(n) #左侧的加权记忆\n",
    "        m_left[0] = rz_array[0] # 在起点时，全部记忆就是脚下的值\n",
    "        for k in range(i,n):\n",
    "            m_left[k] = (m_left[k-1] + rz_array[k]) / 2.0 #更新记忆\n",
    "            g_left[k] = abs(rz_array[k] - m_left[k-1]) #计算左侧坡度\n",
    "            \n",
    "        # b.右向左传递(Right Pass)\n",
    "        g_right = np.zeros(n)\n",
    "        m_right = np.zeros(n)\n",
    "        m_right[n-1] = rz_array[n-1] # 从末端初始化\n",
    "        for k in range(n - 2, -1, -1): # 从倒数第二个倒着循环\n",
    "            m_right[k] = (m_right[k+1] + rz_array[k]) / 2.0\n",
    "            g_right[k] = abs(rz_array[k] - m_right[k+1])\n",
    "        \n",
    "        # c.寻找相遇点（左右梯度乘积最大值）\n",
    "        g_product = g_left * g_right\n",
    "        \n",
    "        # 为避免边界效应 在内部寻找最大值\n",
    "        if n > 4:\n",
    "            boundary_index = np.argmax(g_product[1:-1]) + 1 #排除数组首尾元素 找到的元素索引加1\n",
    "        else:\n",
    "            boundary_index = np.argmax(g_product)\n",
    "        \n",
    "        # d.计算最终阈值\n",
    "        if boundary_index + 1 >= n:\n",
    "             return feature.set({'local_threshold': -999, 'reason': 'Boundary found at edge'})\n",
    "        local_threshold = (rz_array[boundary_index] + rz_array[boundary_index + 1]) / 2.0\n",
    "        \n",
    "        # e.获取并定义可视化的两个关键边界点\n",
    "        # 这两个点共同定义了最终的阈值\n",
    "        boundary_point_1_geom = ee.Geometry.Point([longitudes[boundary_index],latitudes[boundary_index]])\n",
    "        boundary_point_2_geom = ee.Geometry.Point([longitudes[boundary_index + 1],latitudes[boundary_index + 1]])\n",
    "        \n",
    "         # f. 准备返回结果\n",
    "        return feature.set({\n",
    "            'local_threshold': local_threshold,\n",
    "            'boundary_point_1': boundary_point_1_geom,\n",
    "            'boundary_point_2': boundary_point_2_geom,\n",
    "            'reason': f'Success. Boundary at index {boundary_index}'\n",
    "        })\n",
    "\n",
    "        \n",
    "        \n",
    "        \n",
    "    except Exception as e:\n",
    "        return feature.set({'local_threshold': -999, 'error_msg': str(e)})\n",
    "    \n",
    "# 主循环与数据处理 (已更新以调用新函数并适配其输出)\n",
    "# ==============================================================================\n",
    "if 'filtered_boundingBoxes' not in globals() or filtered_boundingBoxes.size().getInfo() == 0:\n",
    "    print(\"错误：未找到名为 'filtered_boundingBoxes' 的有效FeatureCollection。\")\n",
    "    print(\"请确保您已成功运行了之前的筛选步骤。\")\n",
    "else:\n",
    "    print(f\"\\n--- [新版 EWMA梯度法] 开始为 {filtered_boundingBoxes.size().getInfo()} 个已筛选的矩形计算局部阈值 ---\")\n",
    "    print(\"=\"*100)\n",
    "    print(f\"{'Rect ID':<15} | {'Threshold':<15} | {'Status':<15} | {'Reason/Details'}\")\n",
    "    print(\"-\"*100)\n",
    "\n",
    "    # 用于存储可视化点的坐标列表\n",
    "    key_point_1_coords_list = []\n",
    "    key_point_2_coords_list = []\n",
    "    final_features_with_thresholds_list = []\n",
    "\n",
    "    valid_bboxes_list = filtered_boundingBoxes.toList(filtered_boundingBoxes.size())\n",
    "    for i in range(valid_bboxes_list.size().getInfo()):\n",
    "        valid_feature = ee.Feature(valid_bboxes_list.get(i))\n",
    "        # !!! 调用新的核心函数 !!!\n",
    "        feature_with_results = calculate_threshold_by_ewma(valid_feature)\n",
    "\n",
    "        properties = feature_with_results.getInfo()['properties']\n",
    "        local_threshold = properties.get('local_threshold', -999)\n",
    "        reason = properties.get('reason', 'N/A')\n",
    "        status = \"SUCCESS\" if local_threshold != -999 else \"FAILED\"\n",
    "        threshold_str = f\"{local_threshold:.2f}\" if status == \"SUCCESS\" else \"N/A\"\n",
    "        original_id = properties.get('label', i)\n",
    "\n",
    "        print(f\"{original_id:<15} | {threshold_str:<15} | {status:<15} | {reason}\")\n",
    "\n",
    "        if status == \"SUCCESS\":\n",
    "            final_features_with_thresholds_list.append(feature_with_results)\n",
    "            # !!! 获取新的关键点坐标 !!!\n",
    "            point_1_coords = properties.get('boundary_point_1', {}).get('coordinates')\n",
    "            point_2_coords = properties.get('boundary_point_2', {}).get('coordinates')\n",
    "            if point_1_coords: key_point_1_coords_list.append(point_1_coords)\n",
    "            if point_2_coords: key_point_2_coords_list.append(point_2_coords)\n",
    "\n",
    "    print(\"=\"*100)\n",
    "\n",
    "    # ==============================================================================\n",
    "    # 可视化模块 (已更新以显示新的关键点)\n",
    "    # ==============================================================================\n",
    "    print(\"\\n--- [新版 EWMA梯度法] 可视化模块 ---\")\n",
    "\n",
    "    if final_features_with_thresholds_list:\n",
    "        valid_bboxes_with_thresh = ee.FeatureCollection(final_features_with_thresholds_list)\n",
    "        #Map.addLayer(ee.Image().byte().paint(valid_bboxes_with_thresh, 0, 2), {'palette': '00FF00'}, 'BBoxes with Final Threshold (Green)')\n",
    "\n",
    "        # !!! 重建并可视化新的边界点 !!!\n",
    "        point_1_features = [ee.Feature(ee.Geometry.Point(coords)) for coords in key_point_1_coords_list]\n",
    "        point_2_features = [ee.Feature(ee.Geometry.Point(coords)) for coords in key_point_2_coords_list]\n",
    "        point_1_fc = ee.FeatureCollection(point_1_features)\n",
    "        point_2_fc = ee.FeatureCollection(point_2_features)\n",
    "\n",
    "        # 添加新的关键边界点到地图\n",
    "        Map.addLayer(point_1_fc, { 'color':'FFA500', 'pointSize': 5}, 'multiple  Points 1 (Orange)')\n",
    "        #Map.addLayer(point_2_fc, {'color': '3300CC', 'pointSize': 5}, 'multiple Points 2 (Blue)')\n",
    "\n",
    "        print(f\"\\n成功为 {len(final_features_with_thresholds_list)} 个矩形计算出阈值并已可视化。\")\n",
    "        try:\n",
    "            Map.centerObject(point_1_fc.first(), 14)\n",
    "        except:\n",
    "            pass\n",
    "    else:\n",
    "        print(\"\\n没有成功计算出任何局部阈值。\")\n",
    "Map\n",
    "\n",
    "\n",
    "\n",
    "\n",
    "\n",
    "\n",
    "\n"
   ]
  },
  {
   "cell_type": "markdown",
   "id": "432291b9",
   "metadata": {},
   "source": [
    "# 9.结合局部最优和全局最优的洪水提取"
   ]
  },
  {
   "cell_type": "code",
   "execution_count": 25,
   "id": "9be0ecb5",
   "metadata": {},
   "outputs": [
    {
     "data": {
      "text/html": [
       "\n",
       "            <style>\n",
       "                .geemap-dark {\n",
       "                    --jp-widgets-color: white;\n",
       "                    --jp-widgets-label-color: white;\n",
       "                    --jp-ui-font-color1: white;\n",
       "                    --jp-layout-color2: #454545;\n",
       "                    background-color: #383838;\n",
       "                }\n",
       "\n",
       "                .geemap-dark .jupyter-button {\n",
       "                    --jp-layout-color3: #383838;\n",
       "                }\n",
       "\n",
       "                .geemap-colab {\n",
       "                    background-color: var(--colab-primary-surface-color, white);\n",
       "                }\n",
       "\n",
       "                .geemap-colab .jupyter-button {\n",
       "                    --jp-layout-color3: var(--colab-primary-surface-color, white);\n",
       "                }\n",
       "            </style>\n",
       "            "
      ],
      "text/plain": [
       "<IPython.core.display.HTML object>"
      ]
     },
     "metadata": {},
     "output_type": "display_data"
    },
    {
     "name": "stdout",
     "output_type": "stream",
     "text": [
      "\n",
      "--- [第9步] 开始最终的洪水淹没范围提取 ---\n",
      "共计算了 6 个局部阈值。\n",
      "计算出的全局平均阈值为: -2.72\n",
      "\n",
      "--- 可视化最终洪水淹没图 ---\n"
     ]
    },
    {
     "data": {
      "application/vnd.jupyter.widget-view+json": {
       "model_id": "5d1d912db1774e1d9397c26bf87ac42e",
       "version_major": 2,
       "version_minor": 0
      },
      "text/plain": [
       "Map(bottom=798864.0, center=[39.4195598121924, -0.4317165000017293], controls=(WidgetControl(options=['positio…"
      ]
     },
     "execution_count": 25,
     "metadata": {},
     "output_type": "execute_result"
    }
   ],
   "source": [
    "# ==============================================================================\n",
    "# 第9步: 最终洪水淹没范围提取 (局部阈值 + 全局平均阈值)\n",
    "# ==============================================================================\n",
    "\n",
    "print(\"\\n--- [第9步] 开始最终的洪水淹没范围提取 ---\")\n",
    "\n",
    "#--- 1. 数据准备 ---\n",
    "if 'final_features_with_thresholds_list' not in globals() or not final_features_with_thresholds_list:\n",
    "    print(\"错误：未找到包含有效局部阈值的要素列表。无法进行最终分析。\")\n",
    "else:\n",
    "    # 将Python列表转回为GEE-Featurecollection\n",
    "    final_results_fc = ee.FeatureCollection(final_features_with_thresholds_list)\n",
    "    \n",
    "    #提取所有的局部阈值，准备计算平均值\n",
    "    local_threshold_list = final_results_fc.aggregate_array('local_threshold')\n",
    "    \n",
    "    # -- 2.计算全局平均阈值 ---\n",
    "    # 在客户端计算所有有效局部阈值的平均值\n",
    "    # 我们需要先通过.getInfo()获取列表\n",
    "    local_thresholds_py_list = local_threshold_list.getInfo()\n",
    "    if local_thresholds_py_list:\n",
    "        global_average_threshold = np.mean(local_thresholds_py_list) #用np.mean()算平均\n",
    "        print(f\"共计算了 {len(local_thresholds_py_list)} 个局部阈值。\")\n",
    "        print(f\"计算出的全局平均阈值为: {global_average_threshold:.2f}\")\n",
    "    else:\n",
    "        # 如果没有任何矩形成功，使用一个备用阈值\n",
    "        global_average_threshold = -2.5\n",
    "        print(\"警告：没有任何有效的局部阈值，将使用备用全局阈值: -2.5\")\n",
    "    \n",
    "    # --- 3.对每个矩形内部应用其局部阈值 ---\n",
    "    # 使用.map()来遍历每一个带有阈值的矩形\n",
    "    def apply_local_threshold(feature):\n",
    "        #从要素属性中获取这个矩形专属的局部阈值\n",
    "        local_thresh = ee.Number(feature.get('local_threshold'))\n",
    "        # 找到RZ影像中低于该局部阈值的像素，并限定在该矩形内\n",
    "        local_flood_mask = rz_image.lt(local_thresh).And(ee.Image.constant(1).clip(feature.geometry()))\n",
    "        return local_flood_mask.selfMask()\n",
    "    \n",
    "    # 对集合中的所有要素应用上述函数，得到一个局部洪水的影像集合\n",
    "    list_of_local_flood_images = final_results_fc.map(apply_local_threshold)\n",
    "    \n",
    "    # 将所有局部的洪水影像合并成一张影像\n",
    "    # 影像集合的.mosaic() 会将所有影像叠加一起 \n",
    "    all_local_floods = ee.ImageCollection(list_of_local_flood_images).mosaic()\n",
    "    \n",
    "    # --- 4.对所有矩形外部区域应用全局平均阈值 ---\n",
    "    \n",
    "    # 首先，创建一个能代表所有矩形合并区域的影像\n",
    "    all_bboxes_mask = final_results_fc.style(**{'fillColor': 'black'}).Not().select(0) #rgb图像选取一个波段\n",
    "    \n",
    "    # 在RZ影像中，。找到所有低于全局平均阈值的像素\n",
    "    potential_global_flood = rz_image.lt(global_average_threshold)\n",
    "    \n",
    "    # --- 5. 合并局部和全局洪水图，得到最终结果 ---\n",
    "    \n",
    "   # a. 将局部洪水图中被掩膜的区域（即矩形外）用0填充，并移除其限制性掩膜\n",
    "    #    这样 all_local_floods_unmasked 在整个研究区都变得不透明了\n",
    "    all_local_floods_unmasked = all_local_floods.unmask(0)\n",
    "\n",
    "    # b. 将全局洪水图中，位于矩形内部的部分挖掉 (设为0)\n",
    "    #    这个逻辑保持不变\n",
    "    intra_region_mask = all_local_floods.mask().Not().Not()\n",
    "    extra_regional_flood_only = potential_global_flood.where(intra_region_mask, 0)\n",
    "\n",
    "    # c. 将两个在整个研究区都有效的影像相加\n",
    "    #    现在因为两张图的掩膜都是覆盖整个研究区的，所以不会再有掩膜传播问题\n",
    "    final_flood_map = extra_regional_flood_only.add(all_local_floods_unmasked)\n",
    "\n",
    "    \n",
    "    # --- 6. 可视化最终成果 ---\n",
    "    \n",
    "    print(\"\\n--- 可视化最终洪水淹没图 ---\")\n",
    "    \n",
    "    flood_palette = ['#0000FF'] # 用蓝色代表洪水\n",
    "    Map.addLayer(final_flood_map.selfMask(), {'palette': '#0000FF'}, 'Final Flood Extent (Hybrid Threshold)')\n",
    "    \n",
    "    # 将地图重新居中到研究区\n",
    "    Map.centerObject(roi_choose1, 11)\n",
    "    \n",
    "    # 确保地图被显示\n",
    "Map\n",
    "    \n",
    "    \n",
    "        \n",
    "        \n",
    "        \n",
    "    "
   ]
  },
  {
   "cell_type": "markdown",
   "id": "e80dcbc1",
   "metadata": {},
   "source": [
    "# 10.导出数据"
   ]
  },
  {
   "cell_type": "code",
   "execution_count": 26,
   "id": "14ec9de3",
   "metadata": {},
   "outputs": [
    {
     "data": {
      "text/html": [
       "\n",
       "            <style>\n",
       "                .geemap-dark {\n",
       "                    --jp-widgets-color: white;\n",
       "                    --jp-widgets-label-color: white;\n",
       "                    --jp-ui-font-color1: white;\n",
       "                    --jp-layout-color2: #454545;\n",
       "                    background-color: #383838;\n",
       "                }\n",
       "\n",
       "                .geemap-dark .jupyter-button {\n",
       "                    --jp-layout-color3: #383838;\n",
       "                }\n",
       "\n",
       "                .geemap-colab {\n",
       "                    background-color: var(--colab-primary-surface-color, white);\n",
       "                }\n",
       "\n",
       "                .geemap-colab .jupyter-button {\n",
       "                    --jp-layout-color3: var(--colab-primary-surface-color, white);\n",
       "                }\n",
       "            </style>\n",
       "            "
      ],
      "text/plain": [
       "<IPython.core.display.HTML object>"
      ]
     },
     "metadata": {},
     "output_type": "display_data"
    },
    {
     "name": "stdout",
     "output_type": "stream",
     "text": [
      "\n",
      "--- [第10步] 开始准备导出所有分析结果 ---\n",
      "\n",
      "--- 方法一：正在提交导出任务到 Google Drive ---\n",
      "所有文件将被保存在Google Drive的 'valencia_GEE_Flood_Analysis_2024-10-31' 文件夹中。\n",
      "请稍后前往GEE Code Editor的 'Tasks' 标签页手动运行任务。\n",
      "  > 已提交影像 '01_SAR_Target_Date' 的导出任务。\n",
      "  > 已提交影像 '02_SAR_Baseline_Median' 的导出任务。\n",
      "  > 已提交影像 '03_MAD' 的导出任务。\n",
      "  > 已提交影像 '04_RZ_Score' 的导出任务。\n",
      "  > 已提交影像 '05_OTSU_Initial_Water' 的导出任务。\n",
      "  > 已提交影像 '06_OTSU_Eroded' 的导出任务。\n",
      "  > 已提交影像 '07_Edge_Buffer' 的导出任务。\n",
      "  > 已提交影像 '08_Filtered_BBoxes_Outline' 的导出任务。\n",
      "  > 已提交影像 '09_Valid_Profile_Lines' 的导出任务。\n",
      "  > 已提交影像 '11_Final_Flood_Map' 的导出任务。\n",
      "  > 已提交矢量 '10a_Negative_Gradient_Points' 的导出任务。\n",
      "  > 已提交矢量 '10b_Positive_Gradient_Points' 的导出任务。\n"
     ]
    }
   ],
   "source": [
    "import os\n",
    "\n",
    "print(\"\\n--- [第10步] 开始准备导出所有分析结果 ---\")\n",
    "\n",
    "# --- 1. 定义通用导出参数 ---\n",
    "\n",
    "# 定义一个统一的研究区边界，所有导出都将基于这个范围\n",
    "# .geometry()确保我们传递的是纯几何对象，而不是带有属性的Feature\n",
    "export_region = roi_choose1\n",
    "\n",
    "# 定义影像的导出分辨率（米），10米是Sentinel-1的标称分辨率\n",
    "export_scale = 10 \n",
    "\n",
    "# --- 2. 准备需要导出的图层 ---\n",
    "# GEE的paint()方法生成的图层需要重新构建才能导出\n",
    "# 我们需要将FeatureCollection“烧录”到一张空的影像上\n",
    "\n",
    "# a. 筛选后的外包矩形轮廓影像\n",
    "if 'filtered_boundingBoxes' in globals() and filtered_boundingBoxes.size().getInfo() > 0:\n",
    "    filtered_outline_image = ee.Image().byte().paint(\n",
    "        featureCollection=filtered_boundingBoxes, \n",
    "        color=1, \n",
    "        width=2\n",
    "    )\n",
    "else:\n",
    "    print(\"警告：'filtered_boundingBoxes' 不存在或为空，将导出一张空图。\")\n",
    "    filtered_outline_image = ee.Image(0).rename('outline')\n",
    "\n",
    "\n",
    "# b. 有效的剖面线影像\n",
    "if 'filtered_boundingBoxes' in globals() and filtered_boundingBoxes.size().getInfo() > 0:\n",
    "    # 确保之前的'extract_profile_as_feature'函数可用\n",
    "    valid_profile_lines_fc = filtered_boundingBoxes.map(extract_profile_as_feature)\n",
    "    valid_profile_lines_image = ee.Image().byte().paint(\n",
    "        featureCollection=valid_profile_lines_fc,\n",
    "        color=1,\n",
    "        width=2\n",
    "    )\n",
    "else:\n",
    "    print(\"警告：无法生成'valid_profile_lines_image'，将导出一张空图。\")\n",
    "    valid_profile_lines_image = ee.Image(0).rename('profile_lines')\n",
    "\n",
    "\n",
    "# --- 3. 选择您的导出方法 (请取消注释您想使用的方法) ---\n",
    "\n",
    "################################################################################\n",
    "# 方法一：导出到 GOOGLE DRIVE (推荐，更稳定)\n",
    "################################################################################\n",
    "\n",
    "# 在你的Google Drive中创建一个文件夹来存放所有结果, 文件夹名以目标日期命名\n",
    "gdrive_folder = f\"valencia_GEE_Flood_Analysis_{targdate}\"\n",
    "\n",
    "print(f\"\\n--- 方法一：正在提交导出任务到 Google Drive ---\")\n",
    "print(f\"所有文件将被保存在Google Drive的 '{gdrive_folder}' 文件夹中。\")\n",
    "print(\"请稍后前往GEE Code Editor的 'Tasks' 标签页手动运行任务。\")\n",
    "\n",
    "# A. 导出栅格影像 (Images)\n",
    "# 使用字典来管理所有待导出的影像，清晰明了\n",
    "image_exports_gdrive = {\n",
    "    \"01_SAR_Target_Date\": sar_image,\n",
    "    \"02_SAR_Baseline_Median\": baseline_median,\n",
    "    \"03_MAD\": clipped_MAD,\n",
    "    \"04_RZ_Score\": rz_image,\n",
    "    \"05_OTSU_Initial_Water\": globalWater,\n",
    "    \"06_OTSU_Eroded\": eroded_Dark_tagerts,\n",
    "    \"07_Edge_Buffer\": bufferedEdges,\n",
    "    \"08_Filtered_BBoxes_Outline\": filtered_outline_image,\n",
    "    \"09_Valid_Profile_Lines\": valid_profile_lines_image,\n",
    "    \"11_Final_Flood_Map\": final_flood_map.toByte() # 转为Byte节省空间\n",
    "}\n",
    "\n",
    "for name, image in image_exports_gdrive.items():\n",
    "    task = ee.batch.Export.image.toDrive(\n",
    "        image=image.clip(export_region), # 确保只导出ROI内部\n",
    "        description=f'Export_{name}',\n",
    "        folder=gdrive_folder,\n",
    "        fileNamePrefix=name,\n",
    "        region=export_region,\n",
    "        scale=export_scale,\n",
    "        fileFormat='GeoTIFF',\n",
    "        maxPixels=1e13\n",
    "    )\n",
    "    task.start()\n",
    "    print(f\"  > 已提交影像 '{name}' 的导出任务。\")\n",
    "\n",
    "# B. 导出矢量数据 (FeatureCollections)\n",
    "# 确保梯度点FeatureCollection存在且不为空\n",
    "vector_exports_gdrive = {}\n",
    "if 'neg_points_fc' in globals() and neg_points_fc.size().getInfo() > 0:\n",
    "    vector_exports_gdrive[\"10a_Negative_Gradient_Points\"] = neg_points_fc\n",
    "if 'pos_points_fc' in globals() and pos_points_fc.size().getInfo() > 0:\n",
    "    vector_exports_gdrive[\"10b_Positive_Gradient_Points\"] = pos_points_fc\n",
    "\n",
    "if vector_exports_gdrive:\n",
    "    for name, collection in vector_exports_gdrive.items():\n",
    "        task = ee.batch.Export.table.toDrive(\n",
    "            collection=collection,\n",
    "            description=f'Export_{name}',\n",
    "            folder=gdrive_folder,\n",
    "            fileNamePrefix=name,\n",
    "            fileFormat='SHP' # 可选 'GeoJSON', 'KML'\n",
    "        )\n",
    "        task.start()\n",
    "        print(f\"  > 已提交矢量 '{name}' 的导出任务。\")\n",
    "else:\n",
    "    print(\"  > 未找到有效的梯度点数据，跳过矢量导出。\")"
   ]
  }
 ],
 "metadata": {
  "kernelspec": {
   "display_name": ".venv",
   "language": "python",
   "name": "python3"
  },
  "language_info": {
   "codemirror_mode": {
    "name": "ipython",
    "version": 3
   },
   "file_extension": ".py",
   "mimetype": "text/x-python",
   "name": "python",
   "nbconvert_exporter": "python",
   "pygments_lexer": "ipython3",
   "version": "3.11.2"
  }
 },
 "nbformat": 4,
 "nbformat_minor": 5
}
