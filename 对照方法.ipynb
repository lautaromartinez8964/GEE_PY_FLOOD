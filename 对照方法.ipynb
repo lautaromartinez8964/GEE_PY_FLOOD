{
 "cells": [
  {
   "cell_type": "code",
   "execution_count": 1,
   "id": "874d8e9e",
   "metadata": {},
   "outputs": [
    {
     "name": "stdout",
     "output_type": "stream",
     "text": [
      "本地自定义模块 z_flood_robust 已成功导入！\n"
     ]
    }
   ],
   "source": [
    "import ee\n",
    "import geemap\n",
    "\n",
    "import os\n",
    "\n",
    "# --- ！！！网络代理设置！！！ ---\n",
    "# 在这里设置您的HTTP和HTTPS代理。\n",
    "# 这个设置只会影响当前这个Python脚本的运行。\n",
    "# 请将 '127.0.0.1:7890' 替换为您自己的代理地址和端口。\n",
    "proxy_url = 'http://127.0.0.1:7897' \n",
    "os.environ['http_proxy'] = proxy_url\n",
    "os.environ['https_proxy'] = proxy_url\n",
    "# 不再需要 import sys, import os (除非其他地方用到)\n",
    "# 也不再需要任何 sys.path.append(...)\n",
    "\n",
    "# 初始化GEE\n",
    "ee.Initialize(project='geemap-441216') # 替换为您的项目ID\n",
    "\n",
    "# Python会自动在当前文件夹下寻找模块，所以可以直接导入！\n",
    "try:\n",
    "    import z_flood_robust\n",
    "    from z_flood_robust import zscore # 甚至可以这样导入\n",
    "    zscore.calc_basemad # 尝试访问\n",
    "    print(\"本地自定义模块 z_flood_robust 已成功导入！\")\n",
    "except ImportError as e:\n",
    "    print(f\"导入模块失败: {e}\")\n",
    "    print(\"请确保'z_flood_robust'文件夹与您的Jupyter笔记本在同一个目录下。\")"
   ]
  },
  {
   "cell_type": "markdown",
   "id": "d52c5b84",
   "metadata": {},
   "source": [
    "# 1.导入依赖-数据管理模块"
   ]
  },
  {
   "cell_type": "code",
   "execution_count": 2,
   "id": "6bbfbdad",
   "metadata": {},
   "outputs": [
    {
     "data": {
      "text/html": [
       "\n",
       "            <style>\n",
       "                .geemap-dark {\n",
       "                    --jp-widgets-color: white;\n",
       "                    --jp-widgets-label-color: white;\n",
       "                    --jp-ui-font-color1: white;\n",
       "                    --jp-layout-color2: #454545;\n",
       "                    background-color: #383838;\n",
       "                }\n",
       "\n",
       "                .geemap-dark .jupyter-button {\n",
       "                    --jp-layout-color3: #383838;\n",
       "                }\n",
       "\n",
       "                .geemap-colab {\n",
       "                    background-color: var(--colab-primary-surface-color, white);\n",
       "                }\n",
       "\n",
       "                .geemap-colab .jupyter-button {\n",
       "                    --jp-layout-color3: var(--colab-primary-surface-color, white);\n",
       "                }\n",
       "            </style>\n",
       "            "
      ],
      "text/plain": [
       "<IPython.core.display.HTML object>"
      ]
     },
     "metadata": {},
     "output_type": "display_data"
    }
   ],
   "source": [
    "import pandas as pd\n",
    "from datetime import datetime\n",
    "import matplotlib.pyplot as plt\n",
    "from matplotlib.patches import Rectangle #用于在图表中添加形状(例如矩形)\n",
    "import re #正则表达式模块\n",
    "from z_flood_robust import calc_basemedian, calc_basemad, calc_median_anomaly, calc_robust_zscore, calc_basemean,calc_basestd,calc_zscore\n",
    "from z_flood_robust import mapFloods,floodPalette\n",
    "\n",
    "from ipywidgets import Label #用于创建交互式控件\n",
    "\n"
   ]
  },
  {
   "cell_type": "markdown",
   "id": "96e826ee",
   "metadata": {},
   "source": [
    "# 2.定义交互式地图以选择感兴趣区域-界面与交互模块"
   ]
  },
  {
   "cell_type": "code",
   "execution_count": 4,
   "id": "6f730776",
   "metadata": {},
   "outputs": [
    {
     "data": {
      "text/html": [
       "\n",
       "            <style>\n",
       "                .geemap-dark {\n",
       "                    --jp-widgets-color: white;\n",
       "                    --jp-widgets-label-color: white;\n",
       "                    --jp-ui-font-color1: white;\n",
       "                    --jp-layout-color2: #454545;\n",
       "                    background-color: #383838;\n",
       "                }\n",
       "\n",
       "                .geemap-dark .jupyter-button {\n",
       "                    --jp-layout-color3: #383838;\n",
       "                }\n",
       "\n",
       "                .geemap-colab {\n",
       "                    background-color: var(--colab-primary-surface-color, white);\n",
       "                }\n",
       "\n",
       "                .geemap-colab .jupyter-button {\n",
       "                    --jp-layout-color3: var(--colab-primary-surface-color, white);\n",
       "                }\n",
       "            </style>\n",
       "            "
      ],
      "text/plain": [
       "<IPython.core.display.HTML object>"
      ]
     },
     "metadata": {},
     "output_type": "display_data"
    },
    {
     "data": {
      "text/plain": [
       "1"
      ]
     },
     "metadata": {},
     "output_type": "display_data"
    },
    {
     "name": "stdout",
     "output_type": "stream",
     "text": [
      "请点击地图以选择你要监测的区域\n"
     ]
    },
    {
     "data": {
      "application/vnd.jupyter.widget-view+json": {
       "model_id": "226fad08da684a3da6a9affbfcbc4a24",
       "version_major": 2,
       "version_minor": 0
      },
      "text/plain": [
       "Map(center=[0, 0], controls=(WidgetControl(options=['position', 'transparent_bg'], position='topright', transp…"
      ]
     },
     "execution_count": 4,
     "metadata": {},
     "output_type": "execute_result"
    }
   ],
   "source": [
    "#解析用户点击地图时生成的坐标字符串，提取经纬度并返回\n",
    "def parseClickedCoordinates(label):\n",
    "  #利用正则表达式，从label.value提取出坐标：一个可能带有负号的浮点数 这里为【经度，纬度】\n",
    "  #正则表达式： r'(?:-)?[0-9]+.[0-9]+'\n",
    "  #r'表示原始字符，(?:-)是非捕获组，?:表示负号是可选的，[0-9]+表示匹配一个数字，+表示可以出现一次或多次，.匹配小数点，最后再次匹配一个或多个数字\n",
    "  coords = [float(c) for c in re.findall(r'(?:-)?[0-9]+.[0-9]+', label.value)]\n",
    "  coords.reverse() #反转为【纬度，经度】，符合GEE坐标格式\n",
    "  return coords\n",
    "\n",
    "#创建一个Lable，用于显示用户点击的目标\n",
    "l = Label()\n",
    "display(1)\n",
    "#处理用户与地图的交互事件，当用户点击地图时，将点击的坐标存储到Label控件中\n",
    "def handle_interaction(**kwargs):\n",
    "  #kwargs包含交互事件的参数 kwargs.get('type'):获取事件类型为鼠标点击 kwargs.get('coordinates')：获取点击的坐标，转换为字符串并存储到Label控件中\n",
    "  if kwargs.get('type') == 'click':\n",
    "    l.value = str(kwargs.get('coordinates'))\n",
    "\n",
    "print('请点击地图以选择你要监测的区域')\n",
    "#创建交互式地图\n",
    "Map = geemap.Map()\n",
    "Map.on_interaction(handle_interaction)\n",
    "Map"
   ]
  },
  {
   "cell_type": "markdown",
   "id": "af36f52e",
   "metadata": {},
   "source": [
    "# 3.定义几何范围并展示-界面与交互模块"
   ]
  },
  {
   "cell_type": "markdown",
   "id": "83c5a3e2",
   "metadata": {},
   "source": [
    "## 3.1.手动划定研究区域"
   ]
  },
  {
   "cell_type": "code",
   "execution_count": 13,
   "id": "e77715be",
   "metadata": {},
   "outputs": [
    {
     "data": {
      "text/html": [
       "\n",
       "            <style>\n",
       "                .geemap-dark {\n",
       "                    --jp-widgets-color: white;\n",
       "                    --jp-widgets-label-color: white;\n",
       "                    --jp-ui-font-color1: white;\n",
       "                    --jp-layout-color2: #454545;\n",
       "                    background-color: #383838;\n",
       "                }\n",
       "\n",
       "                .geemap-dark .jupyter-button {\n",
       "                    --jp-layout-color3: #383838;\n",
       "                }\n",
       "\n",
       "                .geemap-colab {\n",
       "                    background-color: var(--colab-primary-surface-color, white);\n",
       "                }\n",
       "\n",
       "                .geemap-colab .jupyter-button {\n",
       "                    --jp-layout-color3: var(--colab-primary-surface-color, white);\n",
       "                }\n",
       "            </style>\n",
       "            "
      ],
      "text/plain": [
       "<IPython.core.display.HTML object>"
      ]
     },
     "metadata": {},
     "output_type": "display_data"
    },
    {
     "data": {
      "application/vnd.jupyter.widget-view+json": {
       "model_id": "9edebc24ab6546e0a6982276aa827123",
       "version_major": 2,
       "version_minor": 0
      },
      "text/plain": [
       "Map(bottom=399611.0, center=[39.38139089214383, -0.3865922574188186], controls=(WidgetControl(options=['positi…"
      ]
     },
     "execution_count": 13,
     "metadata": {},
     "output_type": "execute_result"
    }
   ],
   "source": [
    "lon,lat = parseClickedCoordinates(l)\n",
    "w,h = 2,2 #矩形宽度与高度（单位：度）\n",
    "\n",
    "geometry = ee.Geometry.Polygon(\n",
    "    [[[lon-w,lat-h],\n",
    "     [lon-w,lat+h],\n",
    "     [lon+w,lat+h],\n",
    "     [lon+w,lat-h]]]\n",
    ")\n",
    "\n",
    "#将几何范围添加到地图\n",
    "Map.addLayer(\n",
    "    geometry,\n",
    "    {'color':'red','fillColor':'00000000'},\n",
    "    'AOI'\n",
    ")\n",
    "Map"
   ]
  },
  {
   "cell_type": "code",
   "execution_count": 14,
   "id": "9a22d9d9",
   "metadata": {},
   "outputs": [
    {
     "data": {
      "text/html": [
       "\n",
       "            <style>\n",
       "                .geemap-dark {\n",
       "                    --jp-widgets-color: white;\n",
       "                    --jp-widgets-label-color: white;\n",
       "                    --jp-ui-font-color1: white;\n",
       "                    --jp-layout-color2: #454545;\n",
       "                    background-color: #383838;\n",
       "                }\n",
       "\n",
       "                .geemap-dark .jupyter-button {\n",
       "                    --jp-layout-color3: #383838;\n",
       "                }\n",
       "\n",
       "                .geemap-colab {\n",
       "                    background-color: var(--colab-primary-surface-color, white);\n",
       "                }\n",
       "\n",
       "                .geemap-colab .jupyter-button {\n",
       "                    --jp-layout-color3: var(--colab-primary-surface-color, white);\n",
       "                }\n",
       "            </style>\n",
       "            "
      ],
      "text/plain": [
       "<IPython.core.display.HTML object>"
      ]
     },
     "metadata": {},
     "output_type": "display_data"
    },
    {
     "name": "stdout",
     "output_type": "stream",
     "text": [
      "ROI 类型：Polygon\n",
      "ROI 坐标：[[[-0.424067, 39.459907], [-0.424067, 39.468588], [-0.414195, 39.468588], [-0.414195, 39.459907], [-0.424067, 39.459907]]]\n"
     ]
    }
   ],
   "source": [
    "#USE MAP RECTANGLE 选择区域\n",
    "#获取感兴趣区域（用于论文绘图)\n",
    "roi_choose1 = Map.user_roi\n",
    "\n",
    "if roi_choose1 is not None:\n",
    "  #获取ROI类型\n",
    "  roi_type = roi_choose1.type().getInfo()\n",
    "  print(f\"ROI 类型：{roi_type}\")\n",
    "\n",
    "  #如果是Polygon，获取坐标\n",
    "  if roi_type == 'Polygon':\n",
    "    coords = roi_choose1.coordinates().getInfo()\n",
    "    print(f\"ROI 坐标：{coords}\")"
   ]
  },
  {
   "cell_type": "markdown",
   "id": "922a7dae",
   "metadata": {},
   "source": [
    "## 3.2.从GEE资产里加载研究区"
   ]
  },
  {
   "cell_type": "code",
   "execution_count": 3,
   "id": "d3e45f55",
   "metadata": {},
   "outputs": [
    {
     "data": {
      "text/html": [
       "\n",
       "            <style>\n",
       "                .geemap-dark {\n",
       "                    --jp-widgets-color: white;\n",
       "                    --jp-widgets-label-color: white;\n",
       "                    --jp-ui-font-color1: white;\n",
       "                    --jp-layout-color2: #454545;\n",
       "                    background-color: #383838;\n",
       "                }\n",
       "\n",
       "                .geemap-dark .jupyter-button {\n",
       "                    --jp-layout-color3: #383838;\n",
       "                }\n",
       "\n",
       "                .geemap-colab {\n",
       "                    background-color: var(--colab-primary-surface-color, white);\n",
       "                }\n",
       "\n",
       "                .geemap-colab .jupyter-button {\n",
       "                    --jp-layout-color3: var(--colab-primary-surface-color, white);\n",
       "                }\n",
       "            </style>\n",
       "            "
      ],
      "text/plain": [
       "<IPython.core.display.HTML object>"
      ]
     },
     "metadata": {},
     "output_type": "display_data"
    },
    {
     "name": "stdout",
     "output_type": "stream",
     "text": [
      "成功从GEE Assets加载研究区！\n"
     ]
    },
    {
     "data": {
      "application/vnd.jupyter.widget-view+json": {
       "model_id": "879bd66756424eb3bfda384590db5118",
       "version_major": 2,
       "version_minor": 0
      },
      "text/plain": [
       "Map(center=[39.39610997738956, -0.377311304937758], controls=(WidgetControl(options=['position', 'transparent_…"
      ]
     },
     "metadata": {},
     "output_type": "display_data"
    }
   ],
   "source": [
    "asset_id = 'projects/geemap-441216/assets/roi_sci_valencia_small'\n",
    "\n",
    "try:\n",
    "    # 从GEE Assets加载矢量文件作为FeatureCollection\n",
    "    aoi_fc = ee.FeatureCollection(asset_id)\n",
    "    \n",
    "    \n",
    "    # 对于洪水分析，我们通常需要的是所有要素合并后的几何边界\n",
    "    # .geometry() 会将FeatureCollection中所有的要素融合成一个单一的几何对象\n",
    "    roi_choose1 = aoi_fc.geometry()\n",
    "    \n",
    "    print(\"成功从GEE Assets加载研究区！\")\n",
    "    \n",
    "    # 创建一个地图来可视化你的AOI，确保加载正确\n",
    "    Map = geemap.Map()\n",
    "    Map.addLayer(roi_choose1, {'color': 'red', 'fillColor': '00000000'}, 'Study Area (from Asset)')\n",
    "    Map.centerObject(roi_choose1, 10) # 自动缩放到研究区\n",
    "    display(Map)\n",
    "    \n",
    "except ee.EEException as e:\n",
    "    print(f\"加载AOI失败！请检查你的Asset ID是否正确: {asset_id}\")\n",
    "    print(f\"错误信息: {e}\")\n",
    "    # 如果加载失败，停止执行后续代码\n",
    "    raise SystemExit(\"无法加载AOI，程序终止。\")\n",
    "    "
   ]
  },
  {
   "cell_type": "markdown",
   "id": "94a72dc2",
   "metadata": {},
   "source": [
    "# 4 设置日期，过滤影像计算数量（以下是西班牙巴伦西亚区域）"
   ]
  },
  {
   "cell_type": "code",
   "execution_count": 4,
   "id": "97d76984",
   "metadata": {},
   "outputs": [
    {
     "data": {
      "text/html": [
       "\n",
       "            <style>\n",
       "                .geemap-dark {\n",
       "                    --jp-widgets-color: white;\n",
       "                    --jp-widgets-label-color: white;\n",
       "                    --jp-ui-font-color1: white;\n",
       "                    --jp-layout-color2: #454545;\n",
       "                    background-color: #383838;\n",
       "                }\n",
       "\n",
       "                .geemap-dark .jupyter-button {\n",
       "                    --jp-layout-color3: #383838;\n",
       "                }\n",
       "\n",
       "                .geemap-colab {\n",
       "                    background-color: var(--colab-primary-surface-color, white);\n",
       "                }\n",
       "\n",
       "                .geemap-colab .jupyter-button {\n",
       "                    --jp-layout-color3: var(--colab-primary-surface-color, white);\n",
       "                }\n",
       "            </style>\n",
       "            "
      ],
      "text/plain": [
       "<IPython.core.display.HTML object>"
      ]
     },
     "metadata": {},
     "output_type": "display_data"
    },
    {
     "name": "stdout",
     "output_type": "stream",
     "text": [
      "找到满足条件的 Sentinel-1 影像数量: 133\n",
      "['2022-08-26T17:54:58', '2022-08-31T18:02:53', '2022-09-07T17:54:59', '2022-09-12T18:02:54', '2022-09-19T17:54:59', '2022-09-24T18:02:54', '2022-10-01T17:54:59', '2022-10-06T18:02:54', '2022-10-13T17:54:59', '2022-10-25T17:55:00', '2022-10-30T18:02:54', '2022-11-06T17:54:59', '2022-11-11T18:02:54', '2022-11-18T17:54:59', '2022-11-23T18:02:54', '2022-11-30T17:54:58', '2022-12-05T18:02:53', '2022-12-12T17:54:58', '2022-12-17T18:02:52', '2022-12-24T17:54:57', '2022-12-29T18:02:52', '2023-01-05T17:54:57', '2023-01-10T18:02:51', '2023-01-17T17:54:56', '2023-01-22T18:02:51', '2023-01-29T17:54:56', '2023-02-03T18:02:51', '2023-02-10T17:54:55', '2023-02-15T18:02:50', '2023-02-22T17:54:55', '2023-02-27T18:02:50', '2023-03-06T17:54:55', '2023-03-11T18:02:50', '2023-03-18T17:54:55', '2023-03-23T18:02:50', '2023-03-30T17:54:55', '2023-04-04T18:02:50', '2023-04-11T17:54:56', '2023-04-16T18:02:51', '2023-04-23T17:54:56', '2023-04-28T18:02:51', '2023-05-05T17:54:57', '2023-05-10T18:02:52', '2023-05-17T17:54:58', '2023-05-22T18:02:53', '2023-05-29T17:54:58', '2023-06-03T18:02:53', '2023-06-10T17:54:59', '2023-06-15T18:02:54', '2023-06-22T17:54:59', '2023-06-27T18:02:54', '2023-07-04T17:55:00', '2023-07-09T18:02:55', '2023-07-16T17:55:01', '2023-07-21T18:02:56', '2023-07-28T17:55:02', '2023-08-02T18:02:56', '2023-08-09T17:55:01', '2023-08-14T18:02:57', '2023-08-21T17:55:03', '2023-08-26T18:02:58', '2023-09-02T17:55:04', '2023-09-07T18:02:59', '2023-09-14T17:55:04', '2023-09-19T18:02:59', '2023-09-26T17:55:04', '2023-10-01T18:02:59', '2023-10-08T17:55:04', '2023-10-13T18:02:59', '2023-10-20T17:55:05', '2023-10-25T18:02:59', '2023-11-01T17:55:04', '2023-11-06T18:02:59', '2023-11-13T17:55:04', '2023-11-18T18:02:59', '2023-11-25T17:55:03', '2023-11-30T18:02:58', '2023-12-07T17:55:03', '2023-12-12T18:02:58', '2023-12-19T17:55:02', '2023-12-24T18:02:57', '2023-12-31T17:55:02', '2024-01-05T18:02:56', '2024-01-12T17:55:01', '2024-01-17T18:02:56', '2024-01-24T17:55:01', '2024-01-29T18:02:56', '2024-02-05T17:55:00', '2024-02-10T18:02:55', '2024-02-17T17:55:00', '2024-02-22T18:02:55', '2024-02-29T17:55:00', '2024-03-05T18:02:55', '2024-03-12T17:55:00', '2024-03-17T18:02:55', '2024-03-24T17:55:01', '2024-03-29T18:02:56', '2024-04-05T17:55:01', '2024-04-10T18:02:55', '2024-04-17T17:55:01', '2024-04-22T18:02:56', '2024-04-29T17:55:02', '2024-05-04T18:02:57', '2024-05-11T17:55:02', '2024-05-16T18:02:57', '2024-05-23T17:55:02', '2024-05-28T18:02:56', '2024-06-04T17:55:01', '2024-06-09T18:02:56', '2024-06-16T17:55:01', '2024-06-21T18:02:55', '2024-06-28T17:55:00', '2024-07-03T18:02:55', '2024-07-10T17:55:00', '2024-07-15T18:02:54', '2024-07-22T17:54:59', '2024-07-27T18:02:54', '2024-08-03T17:54:59', '2024-08-08T18:02:54', '2024-08-15T17:54:59', '2024-08-20T18:02:54', '2024-08-27T17:55:00', '2024-09-01T18:02:54', '2024-09-08T17:55:00', '2024-09-13T18:02:55', '2024-09-20T17:55:00', '2024-09-25T18:02:55', '2024-10-02T17:55:00', '2024-10-07T18:02:56', '2024-10-14T17:55:01', '2024-10-19T18:02:56', '2024-10-26T17:55:01', '2024-10-31T18:02:56']\n"
     ]
    }
   ],
   "source": [
    "targdate = '2024-10-31'   # 目标日期 (需要根据实际数据可用性验证或微调)\n",
    "basestart = '2023-11-20'  # 基线开始日期\n",
    "baseend = '2024-09-10'   # 基线结束日期\n",
    "\n",
    "# !!! (可选) 替换硬编码的 aoi2 !!!\n",
    "# 如果你决定使用固定的 valencia_aoi，在这里替换：\n",
    "#aoi3 = ee.Geometry.Rectangle([-0.55, 39.35, -0.30, 39.50]) # 新的巴伦西亚AOI\n",
    "# !!! 更好的做法是完全不用 aoi2，下面 filterBounds 直接用 analysis_aoi !!!\n",
    "\n",
    "filters = [\n",
    "    ee.Filter.listContains(\"transmitterReceiverPolarisation\", \"VV\"),\n",
    "    ee.Filter.listContains(\"transmitterReceiverPolarisation\", \"VH\"), # 如果需要VH也取消注释\n",
    "    ee.Filter.equals(\"instrumentMode\", \"IW\"),\n",
    "    # !!! 重要：检查轨道方向 !!!\n",
    "    # 需要确认 targdate 前后过境巴伦西亚的 S1 影像是升轨还是降轨\n",
    "    # 可能需要改为 'DESCENDING'，或不加这个过滤器以获取所有轨道\n",
    "    ee.Filter.equals(\"orbitProperties_pass\", \"ASCENDING\"), # <--- 可能需要修改或移除!\n",
    "    # 时间过滤器现在是动态的，覆盖基线期和目标期，无需修改\n",
    "    ee.Filter.date('2022-08-21', ee.Date(targdate).advance(1, 'day'))\n",
    "]\n",
    "\n",
    "# 加载S1数据并计算Z分数\n",
    "s1 = ee.ImageCollection(\"COPERNICUS/S1_GRD\") \\\n",
    "    .filter(filters) \\\n",
    "    .filterBounds(roi_choose1) # !!! 使用统一的 analysis_aoi !!!\n",
    "\n",
    "\n",
    "\n",
    "# 检查是否有影像满足条件\n",
    "s1_size = s1.size().getInfo()\n",
    "print(f\"找到满足条件的 Sentinel-1 影像数量: {s1_size}\")\n",
    "if s1_size == 0:\n",
    "    print(\"警告：未找到满足条件的影像，请检查时间范围、AOI 或轨道方向过滤器！\")\n",
    "print(s1.aggregate_array('system:time_start').map(lambda t: ee.Date(t).format()).getInfo())\n",
    "\n",
    "# Z 分数计算 (轨道方向参数需要与上面 filter 保持一致)\n",
    "# orbit_direction = \"ASCENDING\" # <--- 如果上面修改了这里也要改\n",
    "orbit_direction = \"ASCENDING\" if ee.Filter.equals(\"orbitProperties_pass\", \"ASCENDING\") in filters else \"DESCENDING\" #或者更灵活的方式\n",
    "z = calc_zscore(s1, basestart, baseend, 'IW', orbit_direction)\n",
    "rz = calc_robust_zscore(s1, basestart, baseend, 'IW', orbit_direction)\n",
    "\n",
    "\n",
    "MAD = calc_basemad(s1, basestart, baseend, 'IW', orbit_direction)"
   ]
  },
  {
   "cell_type": "markdown",
   "id": "9f6ce0d6",
   "metadata": {},
   "source": [
    "# 5.对照方法"
   ]
  },
  {
   "cell_type": "markdown",
   "id": "c07553af",
   "metadata": {},
   "source": [
    "## 5.1 全局OTSU阈值"
   ]
  },
  {
   "cell_type": "code",
   "execution_count": 5,
   "id": "63ac8a43",
   "metadata": {},
   "outputs": [
    {
     "data": {
      "text/html": [
       "\n",
       "            <style>\n",
       "                .geemap-dark {\n",
       "                    --jp-widgets-color: white;\n",
       "                    --jp-widgets-label-color: white;\n",
       "                    --jp-ui-font-color1: white;\n",
       "                    --jp-layout-color2: #454545;\n",
       "                    background-color: #383838;\n",
       "                }\n",
       "\n",
       "                .geemap-dark .jupyter-button {\n",
       "                    --jp-layout-color3: #383838;\n",
       "                }\n",
       "\n",
       "                .geemap-colab {\n",
       "                    background-color: var(--colab-primary-surface-color, white);\n",
       "                }\n",
       "\n",
       "                .geemap-colab .jupyter-button {\n",
       "                    --jp-layout-color3: var(--colab-primary-surface-color, white);\n",
       "                }\n",
       "            </style>\n",
       "            "
      ],
      "text/plain": [
       "<IPython.core.display.HTML object>"
      ]
     },
     "metadata": {},
     "output_type": "display_data"
    }
   ],
   "source": [
    "# --- 1. 定义您提供的Otsu函数 ---\n",
    "# (这是您在原始代码中编写的、在GEE服务器端运行的Otsu算法)\n",
    "def otsu(histogram):\n",
    "  histogram = ee.Dictionary(histogram);\n",
    "  counts = ee.Array(histogram.get('histogram'))\n",
    "  means = ee.Array(histogram.get('bucketMeans'))\n",
    "  size = means.length().get([0])\n",
    "  total = counts.reduce(ee.Reducer.sum(), [0]).get([0])\n",
    "  sum = means.multiply(counts).reduce(ee.Reducer.sum(), [0]).get([0])\n",
    "  mean = sum.divide(total)\n",
    "  \n",
    "  indices = ee.List.sequence(1, size)\n",
    "  \n",
    "  def compute_bss(i):\n",
    "    aCounts = counts.slice(0, 0, i)\n",
    "    aCount = aCounts.reduce(ee.Reducer.sum(), [0]).get([0])\n",
    "    aMeans = means.slice(0, 0, i)\n",
    "    aMean = aMeans.multiply(aCounts).reduce(ee.Reducer.sum(), [0]).get([0]).divide(aCount)\n",
    "    bCount = total.subtract(aCount)\n",
    "    bMean = sum.subtract(aCount.multiply(aMean)).divide(bCount)\n",
    "    return aCount.multiply(aMean.subtract(mean).pow(2)).add(bCount.multiply(bMean.subtract(mean).pow(2)))\n",
    "\n",
    "  bss = indices.map(compute_bss)\n",
    "  \n",
    "  return means.sort(bss).get([-1])"
   ]
  },
  {
   "cell_type": "code",
   "execution_count": 6,
   "id": "bbdc5abe",
   "metadata": {},
   "outputs": [
    {
     "data": {
      "text/html": [
       "\n",
       "            <style>\n",
       "                .geemap-dark {\n",
       "                    --jp-widgets-color: white;\n",
       "                    --jp-widgets-label-color: white;\n",
       "                    --jp-ui-font-color1: white;\n",
       "                    --jp-layout-color2: #454545;\n",
       "                    background-color: #383838;\n",
       "                }\n",
       "\n",
       "                .geemap-dark .jupyter-button {\n",
       "                    --jp-layout-color3: #383838;\n",
       "                }\n",
       "\n",
       "                .geemap-colab {\n",
       "                    background-color: var(--colab-primary-surface-color, white);\n",
       "                }\n",
       "\n",
       "                .geemap-colab .jupyter-button {\n",
       "                    --jp-layout-color3: var(--colab-primary-surface-color, white);\n",
       "                }\n",
       "            </style>\n",
       "            "
      ],
      "text/plain": [
       "<IPython.core.display.HTML object>"
      ]
     },
     "metadata": {},
     "output_type": "display_data"
    },
    {
     "name": "stdout",
     "output_type": "stream",
     "text": [
      "在 2024-10-31 找到 1 景影像，将合并后进行处理。\n",
      "正在计算影像直方图...\n",
      "计算出的全局Otsu阈值为: -13.5002 dB\n",
      "正在准备可视化地图...\n"
     ]
    },
    {
     "data": {
      "application/vnd.jupyter.widget-view+json": {
       "model_id": "383ae727387b4b5881556d41f55edc67",
       "version_major": 2,
       "version_minor": 0
      },
      "text/plain": [
       "Map(center=[39.39610997738956, -0.377311304937758], controls=(WidgetControl(options=['position', 'transparent_…"
      ]
     },
     "metadata": {},
     "output_type": "display_data"
    }
   ],
   "source": [
    "# --- 2. 获取洪水目标日的SAR影像 ---\n",
    "target_date_ee = ee.Date(targdate)\n",
    "s1_target_collection = s1.filterDate(target_date_ee, target_date_ee.advance(1, 'day'))\n",
    "\n",
    "target_image_size = s1_target_collection.size().getInfo()\n",
    "if target_image_size == 0:\n",
    "    print(f\"错误：在目标日期 {targdate} 未找到任何Sentinel-1影像，无法执行Otsu法。\")\n",
    "else:\n",
    "    print(f\"在 {targdate} 找到 {target_image_size} 景影像，将合并后进行处理。\")\n",
    "    kernel_radius = 2\n",
    "    sar_image_for_otsu = s1_target_collection.select('VV').mosaic().clip(roi_choose1)\\\n",
    "                                             .focal_mean(radius = kernel_radius, units='pixels')\n",
    "\n",
    "    # --- 3. 加载JRC永久水体数据并创建掩膜 ---\n",
    "    # print(\"加载JRC全球地表水数据...\")\n",
    "    # jrc_water = ee.Image('JRC/GSW1_4/GlobalSurfaceWater')\n",
    "    \n",
    "    # 核心修正\n",
    "    # 使用.unmask(0)将所有无数据的像元(如陆地)赋值为0\n",
    "    # occurrence_unmasked = jrc_water.select('occurrence').unmask(0)\n",
    "    \n",
    "    # permanent_water_mask = occurrence_unmasked.gt(90)\n",
    "    # print(\"永久性水体掩膜创建完成 (occurrence > 90%)。\")\n",
    "\n",
    "    # --- 4. 计算Otsu阈值并提取初始水体 ---\n",
    "    print(\"正在计算影像直方图...\")\n",
    "    histogram_dict = sar_image_for_otsu.reduceRegion(\n",
    "        reducer=ee.Reducer.histogram(255, 0.1), # buckets, maxBuckets\n",
    "        geometry=roi_choose1,\n",
    "        scale=30,\n",
    "        maxPixels=1e10\n",
    "    )\n",
    "    \n",
    "    # !!! 核心修正：调用您自己定义的 otsu 函数 !!!\n",
    "    otsu_threshold = otsu(histogram_dict.get('VV'))\n",
    "    \n",
    "    otsu_threshold_value = otsu_threshold.getInfo()\n",
    "    print(f\"计算出的全局Otsu阈值为: {otsu_threshold_value:.4f} dB\")\n",
    "    \n",
    "    # 进行亮暗目标分割（不移除永久水体）\n",
    "    dark_targets_otsu = sar_image_for_otsu.lt(otsu_threshold_value)\n",
    "    bright_targets_otsu = sar_image_for_otsu.gte(otsu_threshold_value)\n",
    "\n",
    "    # --- 5. 移除永久性水体，得到最终洪水范围 ---\n",
    "    # flood_map_otsu = initial_water_otsu.And(permanent_water_mask.Not())\n",
    "    # print(\"已从Otsu结果中移除永久性水体，生成最终洪水图。\")\n",
    "\n",
    "    # --- 6. 可视化结果 ---\n",
    "    print(\"正在准备可视化地图...\")\n",
    "    Map_Otsu = geemap.Map()\n",
    "    Map_Otsu.centerObject(roi_choose1, 11)\n",
    "\n",
    "    sar_vis_params = {'min': -25, 'max': 5}\n",
    "    dark_vis_params = {'palette': ['#0000FF']}\n",
    "    #bright_vis_params = {'palette': ['#FF0000']}\n",
    "\n",
    "    Map_Otsu.addLayer(sar_image_for_otsu, sar_vis_params, f'SAR Image ({targdate})')\n",
    "    # Map_Otsu.addLayer(permanent_water_mask.selfMask(), {'palette': ['#CCCCCC']}, 'JRC Permanent Water (>90%)')\n",
    "    Map_Otsu.addLayer(dark_targets_otsu.selfMask(), dark_vis_params, 'Dark Targets (Otsu)')\n",
    "    # Map_Otsu.addLayer(bright_targets_otsu.selfMask(), bright_vis_params, 'Bright Targets (Otsu)')\n",
    "    \n",
    "    display(Map_Otsu)"
   ]
  },
  {
   "cell_type": "markdown",
   "id": "8db416dd",
   "metadata": {},
   "source": [
    "## 5.2 采用K-I方法"
   ]
  },
  {
   "cell_type": "markdown",
   "id": "37b5e384",
   "metadata": {},
   "source": [
    "### 5.2.1 KI方法函数"
   ]
  },
  {
   "cell_type": "markdown",
   "id": "f9cd88b9",
   "metadata": {},
   "source": [
    "K-I方法理论基础：假设图像的直方图由两个高斯分布组成（前景和背景），通过最小化分类误差来找到最优阈值\n",
    "目标函数（需要最小化）：J(T) = 1 + 2[P₀log(σ₀) + P₁log(σ₁)] - 2[P₀log(P₀) + P₁log(P₁)]\n",
    "其中：\n",
    "T：阈值\n",
    "P₀, P₁：两类的先验概率\n",
    "σ₀, σ₁：两类的标准差"
   ]
  },
  {
   "cell_type": "code",
   "execution_count": 26,
   "id": "ecd27de2",
   "metadata": {},
   "outputs": [
    {
     "data": {
      "text/html": [
       "\n",
       "            <style>\n",
       "                .geemap-dark {\n",
       "                    --jp-widgets-color: white;\n",
       "                    --jp-widgets-label-color: white;\n",
       "                    --jp-ui-font-color1: white;\n",
       "                    --jp-layout-color2: #454545;\n",
       "                    background-color: #383838;\n",
       "                }\n",
       "\n",
       "                .geemap-dark .jupyter-button {\n",
       "                    --jp-layout-color3: #383838;\n",
       "                }\n",
       "\n",
       "                .geemap-colab {\n",
       "                    background-color: var(--colab-primary-surface-color, white);\n",
       "                }\n",
       "\n",
       "                .geemap-colab .jupyter-button {\n",
       "                    --jp-layout-color3: var(--colab-primary-surface-color, white);\n",
       "                }\n",
       "            </style>\n",
       "            "
      ],
      "text/plain": [
       "<IPython.core.display.HTML object>"
      ]
     },
     "metadata": {},
     "output_type": "display_data"
    },
    {
     "name": "stdout",
     "output_type": "stream",
     "text": [
      "✅ Kittler-Illingworth函数定义完成\n",
      "📖 该方法基于最小分类误差准则，假设图像由两个高斯分布组成\n",
      "🔧 已修复Array.get()类型转换问题\n"
     ]
    }
   ],
   "source": [
    "# 完全替换 ### 5.2.1 KI方法函数 单元格中的代码\n",
    "\n",
    "def kittler_illingworth(histogram):\n",
    "    \"\"\"\n",
    "    Kittler-Illingworth最小误差阈值分割方法\n",
    "    \n",
    "    理论基础：\n",
    "    1. 假设图像直方图由两个高斯分布组成（暗区域和亮区域）\n",
    "    2. 通过最小化贝叶斯分类误差来确定最优阈值\n",
    "    3. 考虑每个类别的均值、方差和先验概率\n",
    "    \n",
    "    Args:\n",
    "        histogram: GEE直方图字典，包含'histogram'(频数)和'bucketMeans'(区间中心值)\n",
    "    \n",
    "    Returns:\n",
    "        最优阈值（使分类误差最小的阈值）\n",
    "    \"\"\"\n",
    "    # 将输入转换为GEE字典\n",
    "    histogram = ee.Dictionary(histogram)\n",
    "    \n",
    "    # 提取直方图基本信息\n",
    "    counts = ee.Array(histogram.get('histogram'))      # 每个区间的像素数量（频数）\n",
    "    means = ee.Array(histogram.get('bucketMeans'))     # 每个区间的中心（SAR值）\n",
    "    size = means.length().get([0])                     # 区间数量\n",
    "    total = counts.reduce(ee.Reducer.sum(), [0]).get([0])  # 总像素数\n",
    "    \n",
    "    # 创建阈值候选索引序列（避免边界问题，从1到size-2）\n",
    "    indices = ee.List.sequence(1, size.subtract(2))\n",
    "    \n",
    "    def compute_ki_criterion(i):\n",
    "        \"\"\"\n",
    "        计算特定阈值位置i的K-I目标函数值\n",
    "\n",
    "        Args:\n",
    "            i: 阈值在直方图中的索引位置\n",
    "        Returns:\n",
    "            目标函数值（需要最小化）\n",
    "        \"\"\"\n",
    "        i = ee.Number(i)  # 确保i是GEE数值类型\n",
    "        \n",
    "        # === 计算暗区域（类别0：索引0到i-1）的统计参数 ===\n",
    "        \n",
    "        # 提取暗区的频数和均值\n",
    "        class0_counts = counts.slice(0, 0, i)           # 取前i个区间的频数\n",
    "        class0_means = means.slice(0, 0, i)             # 取前i个区间的均值\n",
    "        \n",
    "        # 计算暗区域的总像素数\n",
    "        n0 = class0_counts.reduce(ee.Reducer.sum(), [0]).get([0])\n",
    "        # 防止除零错误：如果n0为0，设为1\n",
    "        n0 = ee.Number(ee.Algorithms.If(n0.eq(0), 1, n0))\n",
    "        \n",
    "        # 计算暗区域的加权平均值（均值）\n",
    "        # μ₀ = Σ(h_i × x_i) / Σ(h_i)，其中h_i是频数，x_i是区间中心值\n",
    "        weighted_sum0 = class0_means.multiply(class0_counts)\\\n",
    "                                   .reduce(ee.Reducer.sum(), [0]).get([0])\n",
    "        mu0 = weighted_sum0.divide(n0)\n",
    "        \n",
    "        # 计算暗区域的方差\n",
    "        # σ₀² = Σ[h_i × (x_i - μ₀)²] / Σ(h_i)\n",
    "        diff0_squared = class0_means.subtract(mu0).pow(2)  # (x_i - μ₀)²\n",
    "        variance_sum0 = diff0_squared.multiply(class0_counts)\\\n",
    "                                   .reduce(ee.Reducer.sum(), [0]).get([0])\n",
    "        var0 = variance_sum0.divide(n0)\n",
    "        # 防止方差为0（会导致log(0)错误）\n",
    "        var0 = ee.Number(ee.Algorithms.If(var0.eq(0), 0.001, var0))\n",
    "        \n",
    "        # === 计算亮区域（类别1：索引i到size-1）的统计参数 ===\n",
    "        \n",
    "        # 提取亮区域的频数和均值\n",
    "        class1_counts = counts.slice(0, i, size)\n",
    "        class1_means = means.slice(0, i, size)\n",
    "        \n",
    "        # 计算亮区域的总像素数\n",
    "        n1 = class1_counts.reduce(ee.Reducer.sum(), [0]).get([0])\n",
    "        # 防止除零错误\n",
    "        n1 = ee.Number(ee.Algorithms.If(n1.eq(0), 1, n1))\n",
    "        \n",
    "        # 计算亮区域的加权平均值\n",
    "        weighted_sum1 = class1_means.multiply(class1_counts)\\\n",
    "                                   .reduce(ee.Reducer.sum(), [0]).get([0])\n",
    "        mu1 = weighted_sum1.divide(n1)\n",
    "        \n",
    "        # 计算亮区域的方差\n",
    "        diff1_squared = class1_means.subtract(mu1).pow(2)\n",
    "        variance_sum1 = diff1_squared.multiply(class1_counts)\\\n",
    "                                   .reduce(ee.Reducer.sum(), [0]).get([0])\n",
    "        var1 = variance_sum1.divide(n1)\n",
    "        # 防止方差为0\n",
    "        var1 = ee.Number(ee.Algorithms.If(var1.eq(0), 0.001, var1))\n",
    "        \n",
    "        # === 计算先验概率 ===\n",
    "        # P₀ = n₀/N，P₁ = n₁/N，其中N是总像素数\n",
    "        p0 = n0.divide(total)  # 暗区域的先验概率\n",
    "        p1 = n1.divide(total)  # 亮区域的先验概率\n",
    "        \n",
    "        # === 计算Kittler-Illingworth准则函数 ===\n",
    "        # J(T) = 1 + 2[P₀log(σ₀) + P₁log(σ₁)] - 2[P₀log(P₀) + P₁log(P₁)]\n",
    "        \n",
    "        # 计算标准差（σ = √variance）\n",
    "        sigma0 = var0.sqrt()\n",
    "        sigma1 = var1.sqrt()\n",
    "        \n",
    "        # 第一项：常数项\n",
    "        term1 = ee.Number(1)\n",
    "        \n",
    "        # 第二项：2[P₀log(σ₀) + P₁log(σ₁)]\n",
    "        # 这一项反映了每个类别内部的不确定性\n",
    "        term2 = p0.multiply(sigma0.log()).add(p1.multiply(sigma1.log())).multiply(2)\n",
    "        \n",
    "        # 第三项：-2[P₀log(P₀) + P₁log(P₁)]\n",
    "        # 这一项是信息熵项，反映了类别间的不确定性\n",
    "        entropy_term = p0.multiply(p0.log()).add(p1.multiply(p1.log()))\n",
    "        term3 = entropy_term.multiply(2)\n",
    "        \n",
    "        # 最终的准则函数值\n",
    "        criterion = term1.add(term2).subtract(term3)\n",
    "        \n",
    "        return criterion.multiply(-1)\n",
    "    \n",
    "    # === 方法1：使用内置的sort操作找到最小值的索引,最小值要转换为找到-1*后的最大值 ===\n",
    "    criteria_values = indices.map(compute_ki_criterion)\n",
    "    \n",
    "    optimal_means_value = means.slice(0,1,size.subtract(1)).sort(criteria_values).get([-1])\n",
    "    \n",
    "    return optimal_means_value\n",
    "    \n",
    "    \n",
    "    \n",
    "    # === 方法2：手动迭代，找到最小值的索引 ===\n",
    "    # 对所有候选阈值位置计算K-I准则函数值\n",
    "    # criteria_values = indices.map(compute_ki_criterion)\n",
    "    \n",
    "    # # 将准则函数值和索引转换为列表\n",
    "    # criteria_list = ee.List(criteria_values)\n",
    "    # indices_list = ee.List(indices)\n",
    "    \n",
    "    # # 获取列表长度\n",
    "    # list_size = criteria_list.size()\n",
    "    \n",
    "    # # 使用reduce操作找到最小值的索引\n",
    "    # def find_min_with_iterate():\n",
    "    #     \"\"\"\n",
    "    #     使用iterate方法找到最小值及其索引\n",
    "    #     \"\"\"\n",
    "    #     # 创建位置索引序列 [0, 1, 2, ...]\n",
    "    #     position_sequence = ee.List.sequence(0, list_size.subtract(1))\n",
    "        \n",
    "    #     def compare_function(current_pos, accumulator):\n",
    "    #         \"\"\"\n",
    "    #         比较函数：比较当前位置的值与累积器中的最小值\n",
    "            \n",
    "    #         Args:\n",
    "    #             current_pos: 当前位置索引（在criteria_list中的位置）\n",
    "    #             accumulator: [最小值, 对应的原始索引]\n",
    "    #         \"\"\"\n",
    "    #         current_pos = ee.Number(current_pos)\n",
    "            \n",
    "    #         # 获取当前位置的准则函数值\n",
    "    #         current_value = ee.Number(criteria_list.get(current_pos))\n",
    "    #         # 获取当前位置对应的原始索引\n",
    "    #         current_original_index = ee.Number(indices_list.get(current_pos))\n",
    "            \n",
    "    #         # 从累积器中提取当前最小值信息\n",
    "    #         acc_list = ee.List(accumulator)\n",
    "    #         acc_min_value = ee.Number(acc_list.get(0))    # 当前最小值\n",
    "    #         acc_min_index = ee.Number(acc_list.get(1))    # 对应的原始索引\n",
    "            \n",
    "    #         # 如果当前值更小，更新累积器；否则保持不变\n",
    "    #         return ee.Algorithms.If(\n",
    "    #             current_value.lt(acc_min_value),\n",
    "    #             [current_value, current_original_index],  # 更新为当前值\n",
    "    #             [acc_min_value, acc_min_index]           # 保持原值\n",
    "    #         )\n",
    "        \n",
    "    #     # 初始化：使用第一个元素\n",
    "    #     first_value = ee.Number(criteria_list.get(0))\n",
    "    #     first_original_index = ee.Number(indices_list.get(0))\n",
    "    #     initial_accumulator = [first_value, first_original_index]\n",
    "        \n",
    "    #     # 从第二个元素开始迭代（位置1开始）\n",
    "    #     remaining_positions = position_sequence.slice(1)\n",
    "        \n",
    "    #     # 执行迭代比较\n",
    "    #     final_result = ee.List(remaining_positions.iterate(compare_function, initial_accumulator))\n",
    "        \n",
    "    #     # 返回最优的原始索引\n",
    "    #     return ee.Number(final_result.get(1))\n",
    "    \n",
    "    # # 找到最优索引\n",
    "    # optimal_index = find_min_with_iterate()\n",
    "    \n",
    "    # # === 修复：正确从Array中获取值 ===\n",
    "    # # 问题：Array.get()需要整数列表，但我们传递的是浮点数\n",
    "    # # 解决：将浮点数转换为整数，并用列表格式传递\n",
    "    # optimal_index_int = optimal_index.int()  # 转换为整数\n",
    "    \n",
    "    # # 从means数组中获取最优阈值对应的SAR值\n",
    "    # # Array.get()需要一个整数列表作为位置参数\n",
    "    # return means.get([optimal_index_int])\n",
    "\n",
    "# 显示函数定义完成\n",
    "print(\"✅ Kittler-Illingworth函数定义完成\")\n",
    "print(\"📖 该方法基于最小分类误差准则，假设图像由两个高斯分布组成\")\n",
    "print(\"🔧 已修复Array.get()类型转换问题\")"
   ]
  },
  {
   "cell_type": "code",
   "execution_count": 27,
   "id": "7a67b3cd",
   "metadata": {},
   "outputs": [
    {
     "data": {
      "text/html": [
       "\n",
       "            <style>\n",
       "                .geemap-dark {\n",
       "                    --jp-widgets-color: white;\n",
       "                    --jp-widgets-label-color: white;\n",
       "                    --jp-ui-font-color1: white;\n",
       "                    --jp-layout-color2: #454545;\n",
       "                    background-color: #383838;\n",
       "                }\n",
       "\n",
       "                .geemap-dark .jupyter-button {\n",
       "                    --jp-layout-color3: #383838;\n",
       "                }\n",
       "\n",
       "                .geemap-colab {\n",
       "                    background-color: var(--colab-primary-surface-color, white);\n",
       "                }\n",
       "\n",
       "                .geemap-colab .jupyter-button {\n",
       "                    --jp-layout-color3: var(--colab-primary-surface-color, white);\n",
       "                }\n",
       "            </style>\n",
       "            "
      ],
      "text/plain": [
       "<IPython.core.display.HTML object>"
      ]
     },
     "metadata": {},
     "output_type": "display_data"
    },
    {
     "name": "stdout",
     "output_type": "stream",
     "text": [
      "\n",
      "🔬 === Kittler-Illingworth 最小误差分割方法 ===\n",
      "📅 处理日期: 2024-10-31\n",
      "🛰️  使用影像数量: 1 景\n",
      "\n",
      "📡 使用相同的预处理SAR影像...\n",
      "   - 波段: VV极化\n",
      "   - 滤波核半径: 2 像素\n",
      "   - 研究区域: 已裁剪到AOI\n",
      "\n",
      "📊 正在计算SAR影像的直方图...\n",
      "   - 这是K-I方法的基础数据\n",
      "   - 直方图将用于估计两个高斯分布的参数\n",
      "\n",
      "🧮 正在应用Kittler-Illingworth算法...\n",
      "   - 假设: SAR图像由暗目标(水体)和亮目标(陆地)两个高斯分布组成\n",
      "   - 目标: 找到使贝叶斯分类误差最小的阈值\n",
      "✅ K-I最小误差阈值计算完成: -16.5000 dB\n",
      "\n",
      "📈 === 阈值对比分析 ===\n",
      "   🎯 Otsu阈值 (最大类间方差):     -13.5002 dB\n",
      "   🎯 K-I阈值 (最小分类误差):      -16.5000 dB\n",
      "   📏 阈值差异:                    -2.9999 dB\n",
      "   💡 K-I阈值更低，可能会识别出更多暗目标（水体区域）\n",
      "      这通常发生在水体类别方差较小的情况下\n",
      "\n",
      "🔄 正在执行图像分割...\n",
      "   ✅ 暗目标提取完成 (SAR值 < -16.5000 dB)\n",
      "   ✅ 亮目标提取完成 (SAR值 ≥ -16.5000 dB)\n",
      "\n",
      "🗺️  正在创建K-I方法可视化地图...\n",
      "   ✅ K-I分割结果地图创建完成\n"
     ]
    },
    {
     "data": {
      "application/vnd.jupyter.widget-view+json": {
       "model_id": "3e18cadf04bd40dfb306c3c369313bc8",
       "version_major": 2,
       "version_minor": 0
      },
      "text/plain": [
       "Map(center=[39.39610997738956, -0.377311304937758], controls=(WidgetControl(options=['position', 'transparent_…"
      ]
     },
     "metadata": {},
     "output_type": "display_data"
    },
    {
     "name": "stdout",
     "output_type": "stream",
     "text": [
      "\n",
      "🔍 正在创建Otsu vs K-I对比地图...\n",
      "   ✅ 方法对比地图创建完成\n"
     ]
    },
    {
     "data": {
      "application/vnd.jupyter.widget-view+json": {
       "model_id": "5bb8f299d0c3408d825effea9f8a59d4",
       "version_major": 2,
       "version_minor": 0
      },
      "text/plain": [
       "Map(center=[39.39610997738956, -0.377311304937758], controls=(WidgetControl(options=['position', 'transparent_…"
      ]
     },
     "metadata": {},
     "output_type": "display_data"
    },
    {
     "name": "stdout",
     "output_type": "stream",
     "text": [
      "\n",
      "📊 === 定量统计分析 ===\n",
      "🔢 正在计算像元统计...\n",
      "\n",
      "📋 暗目标识别统计:\n",
      "   🎯 Otsu方法:\n",
      "      - 像元数量: 50,053.91764705875 个\n",
      "      - 覆盖面积: 45.049 km²\n",
      "   🎯 K-I方法:\n",
      "      - 像元数量: 43,439.23921568625 个\n",
      "      - 覆盖面积: 39.095 km²\n",
      "\n",
      "📈 差异分析:\n",
      "   📏 像元数差异: -6,614.6784313725 个\n",
      "   📏 面积差异: -5.953 km²\n",
      "   📊 相对差异: -13.22%\n",
      "   💡 结论: Otsu方法识别出更多暗目标\n",
      "\n",
      "✅ Kittler-Illingworth分割方法分析完成!\n"
     ]
    }
   ],
   "source": [
    "# 在 ### 5.2.1 KI方法函数 单元格后添加新的代码单元格\n",
    "\n",
    "### 5.2.2 应用K-I方法进行SAR图像分割\n",
    "\n",
    "# 检查是否有目标日期的SAR影像可用\n",
    "if target_image_size > 0:\n",
    "    print(f\"\\n🔬 === Kittler-Illingworth 最小误差分割方法 ===\")\n",
    "    print(f\"📅 处理日期: {targdate}\")\n",
    "    print(f\"🛰️  使用影像数量: {target_image_size} 景\")\n",
    "    \n",
    "    # === 步骤1: 使用与Otsu相同的预处理SAR影像 ===\n",
    "    print(\"\\n📡 使用相同的预处理SAR影像...\")\n",
    "    print(f\"   - 波段: VV极化\")\n",
    "    print(f\"   - 滤波核半径: {kernel_radius} 像素\")\n",
    "    print(f\"   - 研究区域: 已裁剪到AOI\")\n",
    "    \n",
    "    # === 步骤2: 计算图像直方图 ===\n",
    "    print(\"\\n📊 正在计算SAR影像的直方图...\")\n",
    "    print(\"   - 这是K-I方法的基础数据\")\n",
    "    print(\"   - 直方图将用于估计两个高斯分布的参数\")\n",
    "    \n",
    "    # 使用与Otsu相同的直方图参数确保一致性\n",
    "    histogram_dict_ki = sar_image_for_otsu.reduceRegion(\n",
    "        reducer=ee.Reducer.histogram(255, 0.1),  # 255个区间，区间宽度0.1dB\n",
    "        geometry=roi_choose1,                     # 限制在研究区域内\n",
    "        scale=30,                                 # 30米空间分辨率\n",
    "        maxPixels=1e10                           # 最大处理像素数\n",
    "    )\n",
    "    \n",
    "    # === 步骤3: 应用K-I算法计算最优阈值 ===\n",
    "    print(\"\\n🧮 正在应用Kittler-Illingworth算法...\")\n",
    "    print(\"   - 假设: SAR图像由暗目标(水体)和亮目标(陆地)两个高斯分布组成\")\n",
    "    print(\"   - 目标: 找到使贝叶斯分类误差最小的阈值\")\n",
    "    \n",
    "    # 调用我们定义的K-I函数\n",
    "    ki_threshold = kittler_illingworth(histogram_dict_ki.get('VV'))\n",
    "    ki_threshold_value = ki_threshold.getInfo()\n",
    "    \n",
    "    print(f\"✅ K-I最小误差阈值计算完成: {ki_threshold_value:.4f} dB\")\n",
    "    \n",
    "    # === 步骤4: 与Otsu方法进行对比分析 ===\n",
    "    print(f\"\\n📈 === 阈值对比分析 ===\")\n",
    "    print(f\"   🎯 Otsu阈值 (最大类间方差):     {otsu_threshold_value:.4f} dB\")\n",
    "    print(f\"   🎯 K-I阈值 (最小分类误差):      {ki_threshold_value:.4f} dB\")\n",
    "    \n",
    "    threshold_diff = ki_threshold_value - otsu_threshold_value\n",
    "    print(f\"   📏 阈值差异:                    {threshold_diff:+.4f} dB\")\n",
    "    \n",
    "    # 分析阈值差异的含义\n",
    "    if abs(threshold_diff) < 0.5:\n",
    "        print(\"   💡 两种方法结果相近，图像可能具有明显的双峰特征\")\n",
    "    elif ki_threshold_value < otsu_threshold_value:\n",
    "        print(\"   💡 K-I阈值更低，可能会识别出更多暗目标（水体区域）\")\n",
    "        print(\"      这通常发生在水体类别方差较小的情况下\")\n",
    "    else:\n",
    "        print(\"   💡 K-I阈值更高，可能会识别出更少暗目标（水体区域）\")\n",
    "        print(\"      这通常发生在陆地类别方差较小的情况下\")\n",
    "    \n",
    "    # === 步骤5: 执行图像分割 ===\n",
    "    print(f\"\\n🔄 正在执行图像分割...\")\n",
    "    \n",
    "    # 基于K-I阈值进行二值分割\n",
    "    dark_targets_ki = sar_image_for_otsu.lt(ki_threshold_value)    # 暗目标 (SAR < 阈值)\n",
    "    bright_targets_ki = sar_image_for_otsu.gte(ki_threshold_value) # 亮目标 (SAR >= 阈值)\n",
    "    \n",
    "    print(f\"   ✅ 暗目标提取完成 (SAR值 < {ki_threshold_value:.4f} dB)\")\n",
    "    print(f\"   ✅ 亮目标提取完成 (SAR值 ≥ {ki_threshold_value:.4f} dB)\")\n",
    "    \n",
    "    # === 步骤6: 创建K-I方法可视化地图 ===\n",
    "    print(f\"\\n🗺️  正在创建K-I方法可视化地图...\")\n",
    "    \n",
    "    Map_KI = geemap.Map()\n",
    "    Map_KI.centerObject(roi_choose1, 11)  # 居中显示研究区域\n",
    "    \n",
    "    # 定义可视化参数\n",
    "    sar_vis_params = {'min': -25, 'max': 5}                    # SAR影像显示范围\n",
    "    dark_vis_params = {'palette': ['#0066CC']}                 # 深蓝色 - 暗目标\n",
    "    bright_vis_params = {'palette': ['#FF6600']}               # 橙色 - 亮目标\n",
    "    threshold_vis_params = {'palette': ['#FF0000']}            # 红色 - 阈值线\n",
    "    \n",
    "    # 添加图层\n",
    "    Map_KI.addLayer(sar_image_for_otsu, sar_vis_params, \n",
    "                    f'📡 SAR Image VV ({targdate})')\n",
    "    Map_KI.addLayer(dark_targets_ki.selfMask(), dark_vis_params, \n",
    "                    f'🌊 Dark Targets - K-I Method (< {ki_threshold_value:.2f} dB)')\n",
    "    #Map_KI.addLayer(bright_targets_ki.selfMask(), bright_vis_params, \n",
    "                    #f'🏔️  Bright Targets - K-I Method (≥ {ki_threshold_value:.2f} dB)')\n",
    "    \n",
    "    print(\"   ✅ K-I分割结果地图创建完成\")\n",
    "    display(Map_KI)\n",
    "    \n",
    "    # === 步骤7: 创建方法对比地图 ===\n",
    "    print(f\"\\n🔍 正在创建Otsu vs K-I对比地图...\")\n",
    "    \n",
    "    # 计算两种方法的差异\n",
    "    methods_difference = dark_targets_otsu.subtract(dark_targets_ki)\n",
    "    \n",
    "    Map_Compare = geemap.Map()\n",
    "    Map_Compare.centerObject(roi_choose1, 11)\n",
    "    \n",
    "    # 对比可视化参数\n",
    "    otsu_color = {'palette': ['#FF3333']}      # 红色 - Otsu独有\n",
    "    ki_color = {'palette': ['#3333FF']}        # 蓝色 - K-I独有\n",
    "    overlap_color = {'palette': ['#9933FF']}   # 紫色 - 重叠区域\n",
    "    diff_vis = {'min': -1, 'max': 1, 'palette': ['#3333FF', '#FFFFFF', '#FF3333']}\n",
    "    \n",
    "    # 添加对比图层\n",
    "    Map_Compare.addLayer(sar_image_for_otsu, sar_vis_params, \n",
    "                        f'📡 SAR Background')\n",
    "    Map_Compare.addLayer(dark_targets_otsu.selfMask(), otsu_color, \n",
    "                        f'🔴 Otsu Dark Targets')\n",
    "    Map_Compare.addLayer(dark_targets_ki.selfMask(), ki_color, \n",
    "                        f'🔵 K-I Dark Targets')\n",
    "    \n",
    "    # 差异图：红色=仅Otsu，蓝色=仅K-I，白色=无差异\n",
    "    Map_Compare.addLayer(methods_difference, diff_vis, \n",
    "                        '🎨 Difference (Red=Otsu only, Blue=K-I only)')\n",
    "    \n",
    "    print(\"   ✅ 方法对比地图创建完成\")\n",
    "    display(Map_Compare)\n",
    "    \n",
    "    # === 步骤8: 定量统计分析 ===\n",
    "    print(f\"\\n📊 === 定量统计分析 ===\")\n",
    "    \n",
    "    # 计算各方法识别的暗目标像元数量\n",
    "    print(\"🔢 正在计算像元统计...\")\n",
    "    \n",
    "    otsu_pixel_stats = dark_targets_otsu.reduceRegion(\n",
    "        reducer=ee.Reducer.sum(),\n",
    "        geometry=roi_choose1,\n",
    "        scale=30,\n",
    "        maxPixels=1e10\n",
    "    )\n",
    "    \n",
    "    ki_pixel_stats = dark_targets_ki.reduceRegion(\n",
    "        reducer=ee.Reducer.sum(), \n",
    "        geometry=roi_choose1,\n",
    "        scale=30,\n",
    "        maxPixels=1e10\n",
    "    )\n",
    "    \n",
    "    # 获取统计结果\n",
    "    otsu_pixel_count = otsu_pixel_stats.getInfo()['VV']\n",
    "    ki_pixel_count = ki_pixel_stats.getInfo()['VV']\n",
    "    \n",
    "    # 计算面积（假设像元大小为30m×30m=900m²）\n",
    "    pixel_area = 900  # 平方米\n",
    "    otsu_area_km2 = (otsu_pixel_count * pixel_area) / 1e6\n",
    "    ki_area_km2 = (ki_pixel_count * pixel_area) / 1e6\n",
    "    \n",
    "    # 显示统计结果\n",
    "    print(f\"\\n📋 暗目标识别统计:\")\n",
    "    print(f\"   🎯 Otsu方法:\")\n",
    "    print(f\"      - 像元数量: {otsu_pixel_count:,} 个\")\n",
    "    print(f\"      - 覆盖面积: {otsu_area_km2:.3f} km²\")\n",
    "    print(f\"   🎯 K-I方法:\")\n",
    "    print(f\"      - 像元数量: {ki_pixel_count:,} 个\")\n",
    "    print(f\"      - 覆盖面积: {ki_area_km2:.3f} km²\")\n",
    "    \n",
    "    # 计算相对差异\n",
    "    if otsu_pixel_count > 0:\n",
    "        relative_diff_percent = ((ki_pixel_count - otsu_pixel_count) / otsu_pixel_count) * 100\n",
    "        area_diff_km2 = ki_area_km2 - otsu_area_km2\n",
    "        \n",
    "        print(f\"\\n📈 差异分析:\")\n",
    "        print(f\"   📏 像元数差异: {ki_pixel_count - otsu_pixel_count:,} 个\")\n",
    "        print(f\"   📏 面积差异: {area_diff_km2:+.3f} km²\")\n",
    "        print(f\"   📊 相对差异: {relative_diff_percent:+.2f}%\")\n",
    "        \n",
    "        if abs(relative_diff_percent) < 5:\n",
    "            print(f\"   💡 结论: 两种方法结果非常相似\")\n",
    "        elif relative_diff_percent > 0:\n",
    "            print(f\"   💡 结论: K-I方法识别出更多暗目标\")\n",
    "        else:\n",
    "            print(f\"   💡 结论: Otsu方法识别出更多暗目标\")\n",
    "    \n",
    "    print(f\"\\n✅ Kittler-Illingworth分割方法分析完成!\")\n",
    "\n",
    "else:\n",
    "    print(\"❌ 错误：未找到目标日期的SAR影像，无法执行K-I方法\")"
   ]
  },
  {
   "cell_type": "markdown",
   "id": "d30cdef4",
   "metadata": {},
   "source": [
    "## 5.3 采用K-Means方法监督"
   ]
  },
  {
   "cell_type": "code",
   "execution_count": null,
   "id": "ac22fe51",
   "metadata": {},
   "outputs": [
    {
     "data": {
      "text/html": [
       "\n",
       "            <style>\n",
       "                .geemap-dark {\n",
       "                    --jp-widgets-color: white;\n",
       "                    --jp-widgets-label-color: white;\n",
       "                    --jp-ui-font-color1: white;\n",
       "                    --jp-layout-color2: #454545;\n",
       "                    background-color: #383838;\n",
       "                }\n",
       "\n",
       "                .geemap-dark .jupyter-button {\n",
       "                    --jp-layout-color3: #383838;\n",
       "                }\n",
       "\n",
       "                .geemap-colab {\n",
       "                    background-color: var(--colab-primary-surface-color, white);\n",
       "                }\n",
       "\n",
       "                .geemap-colab .jupyter-button {\n",
       "                    --jp-layout-color3: var(--colab-primary-surface-color, white);\n",
       "                }\n",
       "            </style>\n",
       "            "
      ],
      "text/plain": [
       "<IPython.core.display.HTML object>"
      ]
     },
     "metadata": {},
     "output_type": "display_data"
    },
    {
     "name": "stdout",
     "output_type": "stream",
     "text": [
      "正在计算 VV/VH 比值和 VV+VH 和值特征...\n",
      "4维特征影像创建完成: [VV, VH, ratio, sum]\n",
      "正在从特征影像中随机采样 5000 个点用于训练...\n",
      "正在对整个研究区进行分类...\n",
      "正在识别水体类别\n",
      "识别完成！水体类别ID为: 2 (平均VV值为: -20.1734)\n",
      "已从K-Means结果中移除永久性水体，生成最终洪水图。\n",
      "正在准备可视化地图...\n"
     ]
    },
    {
     "data": {
      "application/vnd.jupyter.widget-view+json": {
       "model_id": "a6eb9ce11c4349af9665fcec61b6088b",
       "version_major": 2,
       "version_minor": 0
      },
      "text/plain": [
       "Map(center=[39.41956382721997, -0.431725495619315], controls=(WidgetControl(options=['position', 'transparent_…"
      ]
     },
     "execution_count": 21,
     "metadata": {},
     "output_type": "execute_result"
    }
   ],
   "source": [
    "# --- K-Means方法已注释掉 ---\n",
    "# sar_image_dual = s1_target_collection.select(['VV','VH']).mosaic().clip(roi_choose1)\n",
    "\n",
    "# # --- 1. 特征工程：计算比值和和值并合并波段 ---\n",
    "# print(\"正在计算 VV/VH 比值和 VV+VH 和值特征...\")\n",
    "    \n",
    "# # 提取VV和VH波段，方便进行计算\n",
    "# vv_band = sar_image_dual.select('VV')\n",
    "# vh_band = sar_image_dual.select('VH')\n",
    "    \n",
    "# # 计算比值 (Ratio): VV / VH\n",
    "# # 比值可以放大水体和部分植被的差异\n",
    "# ratio_band = vv_band.divide(vh_band).rename('ratio')\n",
    "    \n",
    "# # 计算和值 (Sum): VV + VH\n",
    "# # 和值可以综合反映总体的后向散射能量\n",
    "# sum_band = vv_band.add(vh_band).rename('sum')\n",
    "    \n",
    "# # 将四个特征波段合并成一个多维特征影像\n",
    "# feature_image = ee.Image.cat([vv_band, vh_band, ratio_band, sum_band])\n",
    "    \n",
    "# print(\"4维特征影像创建完成: [VV, VH, ratio, sum]\")\n",
    "\n",
    "# # --- 2. K-Means聚类 ---\n",
    "# num_clusters = 5 # 对于4维特征，聚类数为5\n",
    "# num_samples = 5000\n",
    "# print(f\"正在从特征影像中随机采样 {num_samples} 个点用于训练...\")\n",
    "# training_samples = feature_image.sample(\n",
    "#         region=roi_choose1,\n",
    "#         scale=10,\n",
    "#         numPixels=num_samples,\n",
    "#         seed=0 # 添加一个随机种子确保每次运行结果一致\n",
    "#     )\n",
    "\n",
    "# # 初始化并训练K-Means聚类器\n",
    "# clusterer = ee.Clusterer.wekaKMeans(num_clusters).train(training_samples)\n",
    "\n",
    "# # 使用训练好的聚类器对整个特征影像分类\n",
    "# print(\"正在对整个研究区进行分类...\")\n",
    "# clustered_image = feature_image.cluster(clusterer)\n",
    "\n",
    "# # --- 3.自动识别水体类别 ---\n",
    "# # 基于水体聚类VV平均值最低的原则，识别水体类\n",
    "# print(\"正在识别水体类别\")\n",
    "\n",
    "# # 创建一个图像，波段1是每个像元VV值，波段2是聚类ID，这样可以统计哪个id对应的聚类平均VV最低\n",
    "# sort_image = feature_image.select('VV').addBands(clustered_image)\n",
    "\n",
    "# # 根据聚类id统计各类别VV均值\n",
    "# # 得到的是一个列表:{cluster:1,mean:-19.7}这样的\n",
    "# means_dict = sort_image.reduceRegion(\n",
    "#     reducer = ee.Reducer.mean().group(groupField=1 , groupName='cluster'),\n",
    "#     geometry = roi_choose1,\n",
    "#     scale = 30,\n",
    "#     maxPixels = 1e9\n",
    "# )\n",
    "\n",
    "# # 在客户端寻找mean值最小的类别\n",
    "# groups = ee.List(means_dict.get('groups')).getInfo()\n",
    "# min_mean = float('inf') #初始值设置为无穷大\n",
    "# water_cluster_id = -1\n",
    "# # 冒泡排序\n",
    "# for group in groups:\n",
    "#     if group['mean'] < min_mean:\n",
    "#         min_mean = group['mean']\n",
    "#         water_cluster_id = group['cluster']\n",
    "\n",
    "# if water_cluster_id != -1:\n",
    "#     print(f\"识别完成！水体类别ID为: {water_cluster_id} (平均VV值为: {min_mean:.4f})\")\n",
    "#     initial_water_kmeans = clustered_image.eq(water_cluster_id)\n",
    "# else:\n",
    "#     print(\"错误：未能成功识别水体类别。\")\n",
    "#     # 创建一个空影像以避免后续代码出错\n",
    "#     initial_water_kmeans = ee.Image(0).selfMask()\n",
    "\n",
    "#  # --- 5. 移除永久性水体 ---\n",
    "# jrc_water = ee.Image('JRC/GSW1_4/GlobalSurfaceWater')\n",
    "# occurrence_unmasked = jrc_water.select('occurrence').unmask(0)\n",
    "# permanent_water_mask = occurrence_unmasked.gt(90)\n",
    "    \n",
    "# flood_map_kmeans = initial_water_kmeans.And(permanent_water_mask.Not())\n",
    "# print(\"已从K-Means结果中移除永久性水体，生成最终洪水图。\")\n",
    "\n",
    "# # --- 6. 可视化结果 ---\n",
    "# print(\"正在准备可视化地图...\")\n",
    "# Map_KMeans_New = geemap.Map()\n",
    "# Map_KMeans_New.centerObject(roi_choose1, 11)\n",
    "\n",
    "# sar_vis_params = {'min': -25, 'max': 0}\n",
    "# water_vis_params = {'palette': ['#0000FF']}\n",
    "# cluster_palette = ['#FF0000', '#00FF00', '#0000FF', '#FFFF00', '#FF00FF', '#00FFFF']\n",
    "# cluster_vis_params = {'min': 0, 'max': num_clusters - 1, 'palette': cluster_palette[:num_clusters]}\n",
    "\n",
    "# Map_KMeans_New.addLayer(sar_image_dual.select('VV'), sar_vis_params, f'SAR Image VV ({targdate})')\n",
    "# Map_KMeans_New.addLayer(clustered_image, cluster_vis_params, 'K-Means Clusters (Ratio/Sum)')\n",
    "# Map_KMeans_New.addLayer(initial_water_kmeans.selfMask(), {'palette': ['#FFFF00']}, 'Initial Water (K-Means)')\n",
    "# Map_KMeans_New.addLayer(flood_map_kmeans.selfMask(), water_vis_params, 'Final Flood (K-Means Ratio/Sum - JRC)')\n",
    "\n",
    "# Map_KMeans_New\n",
    "\n",
    "print(\"K-Means方法已注释掉，如需使用请取消注释。\")"
   ]
  },
  {
   "cell_type": "markdown",
   "id": "f4741769",
   "metadata": {},
   "source": [
    "## 5.3 Z分数固定阈值分割洪水\n",
    "\n"
   ]
  },
  {
   "cell_type": "code",
   "execution_count": null,
   "id": "ef3b60e2",
   "metadata": {},
   "outputs": [
    {
     "data": {
      "text/html": [
       "\n",
       "            <style>\n",
       "                .geemap-dark {\n",
       "                    --jp-widgets-color: white;\n",
       "                    --jp-widgets-label-color: white;\n",
       "                    --jp-ui-font-color1: white;\n",
       "                    --jp-layout-color2: #454545;\n",
       "                    background-color: #383838;\n",
       "                }\n",
       "\n",
       "                .geemap-dark .jupyter-button {\n",
       "                    --jp-layout-color3: #383838;\n",
       "                }\n",
       "\n",
       "                .geemap-colab {\n",
       "                    background-color: var(--colab-primary-surface-color, white);\n",
       "                }\n",
       "\n",
       "                .geemap-colab .jupyter-button {\n",
       "                    --jp-layout-color3: var(--colab-primary-surface-color, white);\n",
       "                }\n",
       "            </style>\n",
       "            "
      ],
      "text/plain": [
       "<IPython.core.display.HTML object>"
      ]
     },
     "metadata": {},
     "output_type": "display_data"
    },
    {
     "name": "stdout",
     "output_type": "stream",
     "text": [
      "正在应用固定的Z-Score阈值: Z < -2.5\n",
      "已从Z-Score阈值结果中移除永久性水体，生成最终洪水图。\n",
      "正在准备可视化地图...\n"
     ]
    },
    {
     "data": {
      "application/vnd.jupyter.widget-view+json": {
       "model_id": "f47f390ce7bb426d9ca391e6f2ee4958",
       "version_major": 2,
       "version_minor": 0
      },
      "text/plain": [
       "Map(center=[39.41956382721997, -0.431725495619315], controls=(WidgetControl(options=['position', 'transparent_…"
      ]
     },
     "execution_count": 17,
     "metadata": {},
     "output_type": "execute_result"
    }
   ],
   "source": [
    "# --- Z-Score方法已注释掉 ---\n",
    "# z_score_image = z.map(lambda image: image.clip(roi_choose1)).mosaic().select('VV')\n",
    "\n",
    "# Z_THRESHOLD = -2.5\n",
    "\n",
    "# print(f\"正在应用固定的Z-Score阈值: Z < {Z_THRESHOLD}\")\n",
    "    \n",
    "# # 应用阈值：Z-Score值低于阈值的像元被分类为水体 (值为1)\n",
    "# initial_water_zscore = z_score_image.lt(Z_THRESHOLD)\n",
    "\n",
    "# # --- 3. 移除永久性水体 ---\n",
    "# # (此逻辑与其他对照方法完全相同)\n",
    "# jrc_water = ee.Image('JRC/GSW1_4/GlobalSurfaceWater')\n",
    "# occurrence_unmasked = jrc_water.select('occurrence').unmask(0)\n",
    "# permanent_water_mask = occurrence_unmasked.gt(90)\n",
    "    \n",
    "# flood_map_zscore = initial_water_zscore.And(permanent_water_mask.Not())\n",
    "# print(\"已从Z-Score阈值结果中移除永久性水体，生成最终洪水图。\")\n",
    "\n",
    "# # --- 4. 可视化结果 ---\n",
    "# print(\"正在准备可视化地图...\")\n",
    "# Map_ZScore_Threshold = geemap.Map()\n",
    "# Map_ZScore_Threshold.centerObject(roi_choose1, 11)\n",
    "\n",
    "# # Z-Score影像的可视化参数 (使用你论文中统一的配色)\n",
    "# zpalette = ['#b2182b','#ef8a62','#fddbc7','#f7f7f7','#d1e5f0','#67a9cf','#2166ac']\n",
    "# z_score_vis_params = {'min': -5, 'max': 5, 'palette': zpalette}\n",
    "    \n",
    "# # 水体的可视化参数\n",
    "# water_vis_params = {'palette': ['#0000FF']}\n",
    "\n",
    "# # 添加图层以便对比\n",
    "# Map_ZScore_Threshold.addLayer(z_score_image, z_score_vis_params, f'Z-Score Image ({targdate})')\n",
    "# Map_ZScore_Threshold.addLayer(initial_water_zscore.selfMask(), {'palette': ['#FFFF00']}, f'Initial Water (Z < {Z_THRESHOLD})')\n",
    "# Map_ZScore_Threshold.addLayer(flood_map_zscore.selfMask(), water_vis_params, 'Final Flood (Z-Score Threshold - JRC)')\n",
    "    \n",
    "# Map_ZScore_Threshold\n",
    "\n",
    "print(\"Z-Score方法已注释掉，如需使用请取消注释。\")"
   ]
  },
  {
   "cell_type": "markdown",
   "id": "ce59340f",
   "metadata": {},
   "source": [
    "# 6.导出对照方法结果\n"
   ]
  },
  {
   "cell_type": "code",
   "execution_count": null,
   "id": "6fe22986",
   "metadata": {},
   "outputs": [
    {
     "data": {
      "text/html": [
       "\n",
       "            <style>\n",
       "                .geemap-dark {\n",
       "                    --jp-widgets-color: white;\n",
       "                    --jp-widgets-label-color: white;\n",
       "                    --jp-ui-font-color1: white;\n",
       "                    --jp-layout-color2: #454545;\n",
       "                    background-color: #383838;\n",
       "                }\n",
       "\n",
       "                .geemap-dark .jupyter-button {\n",
       "                    --jp-layout-color3: #383838;\n",
       "                }\n",
       "\n",
       "                .geemap-colab {\n",
       "                    background-color: var(--colab-primary-surface-color, white);\n",
       "                }\n",
       "\n",
       "                .geemap-colab .jupyter-button {\n",
       "                    --jp-layout-color3: var(--colab-primary-surface-color, white);\n",
       "                }\n",
       "            </style>\n",
       "            "
      ],
      "text/plain": [
       "<IPython.core.display.HTML object>"
      ]
     },
     "metadata": {},
     "output_type": "display_data"
    },
    {
     "name": "stdout",
     "output_type": "stream",
     "text": [
      "所有文件将被导出到Google Drive的 'Flood_Comparison_Results_2024-10-31' 文件夹中。\n",
      "请稍后前往GEE Code Editor的 'Tasks' 标签页手动运行所有任务。\n",
      "  > 成功提交影像 'Flood_Map_Otsu_JRC.tif' 的导出任务。\n",
      "  > 成功提交影像 'Flood_Map_KMeans_JRC.tif' 的导出任务。\n",
      "  > 成功提交影像 'Flood_Map_ZScore_JRC.tif' 的导出任务。\n"
     ]
    }
   ],
   "source": [
    "# --- 1. 定义通用的导出参数 ---\n",
    "\n",
    "# 定义一个统一的文件夹名，所有结果都会保存在这里\n",
    "# 使用目标日期命名，方便归档\n",
    "folder_name = f\"Image_Segmentation_Results_{targdate}\"\n",
    "\n",
    "# 定义导出分辨率 (米)\n",
    "export_scale = 10 \n",
    "\n",
    "# 定义导出区域\n",
    "export_region = roi_choose1 # 使用.geometry()确保传递的是纯几何对象\n",
    "\n",
    "print(f\"所有文件将被导出到Google Drive的 '{folder_name}' 文件夹中。\")\n",
    "print(\"请稍后前往GEE Code Editor的 'Tasks' 标签页手动运行所有任务。\")\n",
    "\n",
    "# --- 2. 创建一个待导出影像的字典 ---\n",
    "# 这样做代码更整洁，方便管理\n",
    "# 键(key)是文件名，值(value)是影像对象\n",
    "image_exports = {\n",
    "    'Dark_Targets_Otsu': 'dark_targets_otsu',\n",
    "    'Bright_Targets_Otsu': 'bright_targets_otsu'\n",
    "    # 'Flood_Map_KMeans_JRC': 'flood_map_kmeans',  # 已注释\n",
    "    # 'Flood_Map_ZScore_JRC': 'flood_map_zscore'   # 已注释\n",
    "}\n",
    "\n",
    "# --- 3. 循环提交导出任务 ---\n",
    "\n",
    "for filename, image_var_name in image_exports.items():\n",
    "    \n",
    "    # 检查影像变量是否存在，以防某个方法之前运行失败\n",
    "    if image_var_name in globals():\n",
    "        \n",
    "        # 从全局变量中获取影像对象\n",
    "        image_to_export = globals()[image_var_name]\n",
    "        \n",
    "        # 准备任务\n",
    "        task = ee.batch.Export.image.toDrive(\n",
    "            # 将二值影像转为Byte类型，可以极大减小文件体积\n",
    "            image=image_to_export.toByte().clip(export_region), \n",
    "            description=f'Export_{filename}', # GEE Tasks面板中显示的任务名\n",
    "            folder=folder_name,\n",
    "            fileNamePrefix=filename, # 最终的文件名\n",
    "            region=export_region,\n",
    "            scale=export_scale,\n",
    "            fileFormat='GeoTIFF',\n",
    "            maxPixels=1e13 \n",
    "        )\n",
    "        \n",
    "        # 启动任务\n",
    "        task.start()\n",
    "        \n",
    "        print(f\"  > 成功提交影像 '{filename}.tif' 的导出任务。\")\n",
    "    \n",
    "    else:\n",
    "        print(f\"  > 警告：未找到名为 '{image_var_name}' 的影像变量，跳过导出。\")"
   ]
  }
 ],
 "metadata": {
  "kernelspec": {
   "display_name": ".venv",
   "language": "python",
   "name": "python3"
  },
  "language_info": {
   "codemirror_mode": {
    "name": "ipython",
    "version": 3
   },
   "file_extension": ".py",
   "mimetype": "text/x-python",
   "name": "python",
   "nbconvert_exporter": "python",
   "pygments_lexer": "ipython3",
   "version": "3.11.2"
  }
 },
 "nbformat": 4,
 "nbformat_minor": 5
}
