{
 "cells": [
  {
   "cell_type": "code",
   "execution_count": 1,
   "id": "93a5dbd4",
   "metadata": {},
   "outputs": [
    {
     "name": "stderr",
     "output_type": "stream",
     "text": [
      "*** Earth Engine *** Share your feedback by taking our Annual Developer Satisfaction Survey: https://google.qualtrics.com/jfe/form/SV_7TDKVSyKvBdmMqW?ref=4i2o6\n"
     ]
    },
    {
     "name": "stdout",
     "output_type": "stream",
     "text": [
      "本地自定义模块 z_flood_robust 已成功导入！\n"
     ]
    }
   ],
   "source": [
    "import ee\n",
    "import geemap\n",
    "# 不再需要 import sys, import os (除非其他地方用到)\n",
    "# 也不再需要任何 sys.path.append(...)\n",
    "\n",
    "# 初始化GEE\n",
    "ee.Initialize(project='geemap-441216') # 替换为您的项目ID\n",
    "\n",
    "# Python会自动在当前文件夹下寻找模块，所以可以直接导入！\n",
    "try:\n",
    "    import z_flood_robust\n",
    "    from z_flood_robust import zscore # 甚至可以这样导入\n",
    "    zscore.calc_basemad # 尝试访问\n",
    "    print(\"本地自定义模块 z_flood_robust 已成功导入！\")\n",
    "except ImportError as e:\n",
    "    print(f\"导入模块失败: {e}\")\n",
    "    print(\"请确保'z_flood_robust'文件夹与您的Jupyter笔记本在同一个目录下。\")"
   ]
  },
  {
   "cell_type": "markdown",
   "id": "00a5e5f3",
   "metadata": {},
   "source": [
    "# 1.导入依赖-数据管理模块"
   ]
  },
  {
   "cell_type": "code",
   "execution_count": 3,
   "id": "bc18e52e",
   "metadata": {},
   "outputs": [
    {
     "data": {
      "text/html": [
       "\n",
       "            <style>\n",
       "                .geemap-dark {\n",
       "                    --jp-widgets-color: white;\n",
       "                    --jp-widgets-label-color: white;\n",
       "                    --jp-ui-font-color1: white;\n",
       "                    --jp-layout-color2: #454545;\n",
       "                    background-color: #383838;\n",
       "                }\n",
       "\n",
       "                .geemap-dark .jupyter-button {\n",
       "                    --jp-layout-color3: #383838;\n",
       "                }\n",
       "\n",
       "                .geemap-colab {\n",
       "                    background-color: var(--colab-primary-surface-color, white);\n",
       "                }\n",
       "\n",
       "                .geemap-colab .jupyter-button {\n",
       "                    --jp-layout-color3: var(--colab-primary-surface-color, white);\n",
       "                }\n",
       "            </style>\n",
       "            "
      ],
      "text/plain": [
       "<IPython.core.display.HTML object>"
      ]
     },
     "metadata": {},
     "output_type": "display_data"
    }
   ],
   "source": [
    "import pandas as pd\n",
    "from datetime import datetime\n",
    "import matplotlib.pyplot as plt\n",
    "from matplotlib.patches import Rectangle #用于在图表中添加形状(例如矩形)\n",
    "import re #正则表达式模块\n",
    "from z_flood_robust import calc_basemedian, calc_basemad, calc_median_anomaly, calc_robust_zscore, calc_basemean,calc_basestd,calc_zscore\n",
    "from z_flood_robust import mapFloods,floodPalette\n",
    "\n",
    "from ipywidgets import Label #用于创建交互式控件\n",
    "\n"
   ]
  },
  {
   "cell_type": "markdown",
   "id": "4ecdcc17",
   "metadata": {},
   "source": [
    "# 2.定义交互式地图以选择感兴趣区域-界面与交互模块"
   ]
  },
  {
   "cell_type": "code",
   "execution_count": 4,
   "id": "bca760c9",
   "metadata": {},
   "outputs": [
    {
     "data": {
      "text/html": [
       "\n",
       "            <style>\n",
       "                .geemap-dark {\n",
       "                    --jp-widgets-color: white;\n",
       "                    --jp-widgets-label-color: white;\n",
       "                    --jp-ui-font-color1: white;\n",
       "                    --jp-layout-color2: #454545;\n",
       "                    background-color: #383838;\n",
       "                }\n",
       "\n",
       "                .geemap-dark .jupyter-button {\n",
       "                    --jp-layout-color3: #383838;\n",
       "                }\n",
       "\n",
       "                .geemap-colab {\n",
       "                    background-color: var(--colab-primary-surface-color, white);\n",
       "                }\n",
       "\n",
       "                .geemap-colab .jupyter-button {\n",
       "                    --jp-layout-color3: var(--colab-primary-surface-color, white);\n",
       "                }\n",
       "            </style>\n",
       "            "
      ],
      "text/plain": [
       "<IPython.core.display.HTML object>"
      ]
     },
     "metadata": {},
     "output_type": "display_data"
    },
    {
     "data": {
      "text/plain": [
       "1"
      ]
     },
     "metadata": {},
     "output_type": "display_data"
    },
    {
     "name": "stdout",
     "output_type": "stream",
     "text": [
      "请点击地图以选择你要监测的区域\n"
     ]
    },
    {
     "data": {
      "application/vnd.jupyter.widget-view+json": {
       "model_id": "36ce980b8eed4c2fac743333f9f843ee",
       "version_major": 2,
       "version_minor": 0
      },
      "text/plain": [
       "Map(center=[0, 0], controls=(WidgetControl(options=['position', 'transparent_bg'], position='topright', transp…"
      ]
     },
     "execution_count": 4,
     "metadata": {},
     "output_type": "execute_result"
    }
   ],
   "source": [
    "#解析用户点击地图时生成的坐标字符串，提取经纬度并返回\n",
    "def parseClickedCoordinates(label):\n",
    "  #利用正则表达式，从label.value提取出坐标：一个可能带有负号的浮点数 这里为【经度，纬度】\n",
    "  #正则表达式： r'(?:-)?[0-9]+.[0-9]+'\n",
    "  #r'表示原始字符，(?:-)是非捕获组，?:表示负号是可选的，[0-9]+表示匹配一个数字，+表示可以出现一次或多次，.匹配小数点，最后再次匹配一个或多个数字\n",
    "  coords = [float(c) for c in re.findall(r'(?:-)?[0-9]+.[0-9]+', label.value)]\n",
    "  coords.reverse() #反转为【纬度，经度】，符合GEE坐标格式\n",
    "  return coords\n",
    "\n",
    "#创建一个Lable，用于显示用户点击的目标\n",
    "l = Label()\n",
    "display(1)\n",
    "#处理用户与地图的交互事件，当用户点击地图时，将点击的坐标存储到Label控件中\n",
    "def handle_interaction(**kwargs):\n",
    "  #kwargs包含交互事件的参数 kwargs.get('type'):获取事件类型为鼠标点击 kwargs.get('coordinates')：获取点击的坐标，转换为字符串并存储到Label控件中\n",
    "  if kwargs.get('type') == 'click':\n",
    "    l.value = str(kwargs.get('coordinates'))\n",
    "\n",
    "print('请点击地图以选择你要监测的区域')\n",
    "#创建交互式地图\n",
    "Map = geemap.Map()\n",
    "Map.on_interaction(handle_interaction)\n",
    "Map"
   ]
  },
  {
   "cell_type": "markdown",
   "id": "12aa09f9",
   "metadata": {},
   "source": [
    "# 3.定义几何范围并展示-界面与交互模块"
   ]
  },
  {
   "cell_type": "markdown",
   "id": "c521643b",
   "metadata": {},
   "source": [
    "## 1.确定研究区域"
   ]
  },
  {
   "cell_type": "code",
   "execution_count": 5,
   "id": "7a3f6657",
   "metadata": {},
   "outputs": [
    {
     "data": {
      "text/html": [
       "\n",
       "            <style>\n",
       "                .geemap-dark {\n",
       "                    --jp-widgets-color: white;\n",
       "                    --jp-widgets-label-color: white;\n",
       "                    --jp-ui-font-color1: white;\n",
       "                    --jp-layout-color2: #454545;\n",
       "                    background-color: #383838;\n",
       "                }\n",
       "\n",
       "                .geemap-dark .jupyter-button {\n",
       "                    --jp-layout-color3: #383838;\n",
       "                }\n",
       "\n",
       "                .geemap-colab {\n",
       "                    background-color: var(--colab-primary-surface-color, white);\n",
       "                }\n",
       "\n",
       "                .geemap-colab .jupyter-button {\n",
       "                    --jp-layout-color3: var(--colab-primary-surface-color, white);\n",
       "                }\n",
       "            </style>\n",
       "            "
      ],
      "text/plain": [
       "<IPython.core.display.HTML object>"
      ]
     },
     "metadata": {},
     "output_type": "display_data"
    },
    {
     "data": {
      "application/vnd.jupyter.widget-view+json": {
       "model_id": "36ce980b8eed4c2fac743333f9f843ee",
       "version_major": 2,
       "version_minor": 0
      },
      "text/plain": [
       "Map(bottom=399568.0, center=[39.39269330108945, -0.38710869058407044], controls=(WidgetControl(options=['posit…"
      ]
     },
     "execution_count": 5,
     "metadata": {},
     "output_type": "execute_result"
    }
   ],
   "source": [
    "lon,lat = parseClickedCoordinates(l)\n",
    "w,h = 0.3,0.3 #矩形宽度与高度（单位：度）\n",
    "\n",
    "geometry = ee.Geometry.Polygon(\n",
    "    [[[lon-w,lat-h],\n",
    "     [lon-w,lat+h],\n",
    "     [lon+w,lat+h],\n",
    "     [lon+w,lat-h]]]\n",
    ")\n",
    "\n",
    "#将几何范围添加到地图\n",
    "Map.addLayer(\n",
    "    geometry,\n",
    "    {'color':'red','fillColor':'00000000'},\n",
    "    'AOI'\n",
    ")\n",
    "Map"
   ]
  },
  {
   "cell_type": "code",
   "execution_count": 6,
   "id": "dec44c88",
   "metadata": {},
   "outputs": [
    {
     "data": {
      "text/html": [
       "\n",
       "            <style>\n",
       "                .geemap-dark {\n",
       "                    --jp-widgets-color: white;\n",
       "                    --jp-widgets-label-color: white;\n",
       "                    --jp-ui-font-color1: white;\n",
       "                    --jp-layout-color2: #454545;\n",
       "                    background-color: #383838;\n",
       "                }\n",
       "\n",
       "                .geemap-dark .jupyter-button {\n",
       "                    --jp-layout-color3: #383838;\n",
       "                }\n",
       "\n",
       "                .geemap-colab {\n",
       "                    background-color: var(--colab-primary-surface-color, white);\n",
       "                }\n",
       "\n",
       "                .geemap-colab .jupyter-button {\n",
       "                    --jp-layout-color3: var(--colab-primary-surface-color, white);\n",
       "                }\n",
       "            </style>\n",
       "            "
      ],
      "text/plain": [
       "<IPython.core.display.HTML object>"
      ]
     },
     "metadata": {},
     "output_type": "display_data"
    },
    {
     "name": "stdout",
     "output_type": "stream",
     "text": [
      "ROI 类型：Polygon\n",
      "ROI 坐标：[[[-0.441246, 39.33626], [-0.441246, 39.463603], [-0.340281, 39.463603], [-0.340281, 39.33626], [-0.441246, 39.33626]]]\n"
     ]
    }
   ],
   "source": [
    "#USE MAP RECTANGLE 选择区域\n",
    "#获取感兴趣区域（用于论文绘图)\n",
    "roi_choose1 = Map.user_roi\n",
    "\n",
    "if roi_choose1 is not None:\n",
    "  #获取ROI类型\n",
    "  roi_type = roi_choose1.type().getInfo()\n",
    "  print(f\"ROI 类型：{roi_type}\")\n",
    "\n",
    "  #如果是Polygon，获取坐标\n",
    "  if roi_type == 'Polygon':\n",
    "    coords = roi_choose1.coordinates().getInfo()\n",
    "    print(f\"ROI 坐标：{coords}\")"
   ]
  },
  {
   "cell_type": "markdown",
   "id": "ef1e42d1",
   "metadata": {},
   "source": [
    "# 4.过滤Sentinel-数据"
   ]
  },
  {
   "cell_type": "code",
   "execution_count": 7,
   "id": "f97f4b8c",
   "metadata": {},
   "outputs": [
    {
     "data": {
      "text/html": [
       "\n",
       "            <style>\n",
       "                .geemap-dark {\n",
       "                    --jp-widgets-color: white;\n",
       "                    --jp-widgets-label-color: white;\n",
       "                    --jp-ui-font-color1: white;\n",
       "                    --jp-layout-color2: #454545;\n",
       "                    background-color: #383838;\n",
       "                }\n",
       "\n",
       "                .geemap-dark .jupyter-button {\n",
       "                    --jp-layout-color3: #383838;\n",
       "                }\n",
       "\n",
       "                .geemap-colab {\n",
       "                    background-color: var(--colab-primary-surface-color, white);\n",
       "                }\n",
       "\n",
       "                .geemap-colab .jupyter-button {\n",
       "                    --jp-layout-color3: var(--colab-primary-surface-color, white);\n",
       "                }\n",
       "            </style>\n",
       "            "
      ],
      "text/plain": [
       "<IPython.core.display.HTML object>"
      ]
     },
     "metadata": {},
     "output_type": "display_data"
    },
    {
     "name": "stdout",
     "output_type": "stream",
     "text": [
      "找到满足条件的 Sentinel-1 影像数量: 133\n",
      "['2022-08-26T17:54:58', '2022-08-31T18:02:53', '2022-09-07T17:54:59', '2022-09-12T18:02:54', '2022-09-19T17:54:59', '2022-09-24T18:02:54', '2022-10-01T17:54:59', '2022-10-06T18:02:54', '2022-10-13T17:54:59', '2022-10-25T17:55:00', '2022-10-30T18:02:54', '2022-11-06T17:54:59', '2022-11-11T18:02:54', '2022-11-18T17:54:59', '2022-11-23T18:02:54', '2022-11-30T17:54:58', '2022-12-05T18:02:53', '2022-12-12T17:54:58', '2022-12-17T18:02:52', '2022-12-24T17:54:57', '2022-12-29T18:02:52', '2023-01-05T17:54:57', '2023-01-10T18:02:51', '2023-01-17T17:54:56', '2023-01-22T18:02:51', '2023-01-29T17:54:56', '2023-02-03T18:02:51', '2023-02-10T17:54:55', '2023-02-15T18:02:50', '2023-02-22T17:54:55', '2023-02-27T18:02:50', '2023-03-06T17:54:55', '2023-03-11T18:02:50', '2023-03-18T17:54:55', '2023-03-23T18:02:50', '2023-03-30T17:54:55', '2023-04-04T18:02:50', '2023-04-11T17:54:56', '2023-04-16T18:02:51', '2023-04-23T17:54:56', '2023-04-28T18:02:51', '2023-05-05T17:54:57', '2023-05-10T18:02:52', '2023-05-17T17:54:58', '2023-05-22T18:02:53', '2023-05-29T17:54:58', '2023-06-03T18:02:53', '2023-06-10T17:54:59', '2023-06-15T18:02:54', '2023-06-22T17:54:59', '2023-06-27T18:02:54', '2023-07-04T17:55:00', '2023-07-09T18:02:55', '2023-07-16T17:55:01', '2023-07-21T18:02:56', '2023-07-28T17:55:02', '2023-08-02T18:02:56', '2023-08-09T17:55:01', '2023-08-14T18:02:57', '2023-08-21T17:55:03', '2023-08-26T18:02:58', '2023-09-02T17:55:04', '2023-09-07T18:02:59', '2023-09-14T17:55:04', '2023-09-19T18:02:59', '2023-09-26T17:55:04', '2023-10-01T18:02:59', '2023-10-08T17:55:04', '2023-10-13T18:02:59', '2023-10-20T17:55:05', '2023-10-25T18:02:59', '2023-11-01T17:55:04', '2023-11-06T18:02:59', '2023-11-13T17:55:04', '2023-11-18T18:02:59', '2023-11-25T17:55:03', '2023-11-30T18:02:58', '2023-12-07T17:55:03', '2023-12-12T18:02:58', '2023-12-19T17:55:02', '2023-12-24T18:02:57', '2023-12-31T17:55:02', '2024-01-05T18:02:56', '2024-01-12T17:55:01', '2024-01-17T18:02:56', '2024-01-24T17:55:01', '2024-01-29T18:02:56', '2024-02-05T17:55:00', '2024-02-10T18:02:55', '2024-02-17T17:55:00', '2024-02-22T18:02:55', '2024-02-29T17:55:00', '2024-03-05T18:02:55', '2024-03-12T17:55:00', '2024-03-17T18:02:55', '2024-03-24T17:55:01', '2024-03-29T18:02:56', '2024-04-05T17:55:01', '2024-04-10T18:02:55', '2024-04-17T17:55:01', '2024-04-22T18:02:56', '2024-04-29T17:55:02', '2024-05-04T18:02:57', '2024-05-11T17:55:02', '2024-05-16T18:02:57', '2024-05-23T17:55:02', '2024-05-28T18:02:56', '2024-06-04T17:55:01', '2024-06-09T18:02:56', '2024-06-16T17:55:01', '2024-06-21T18:02:55', '2024-06-28T17:55:00', '2024-07-03T18:02:55', '2024-07-10T17:55:00', '2024-07-15T18:02:54', '2024-07-22T17:54:59', '2024-07-27T18:02:54', '2024-08-03T17:54:59', '2024-08-08T18:02:54', '2024-08-15T17:54:59', '2024-08-20T18:02:54', '2024-08-27T17:55:00', '2024-09-01T18:02:54', '2024-09-08T17:55:00', '2024-09-13T18:02:55', '2024-09-20T17:55:00', '2024-09-25T18:02:55', '2024-10-02T17:55:00', '2024-10-07T18:02:56', '2024-10-14T17:55:01', '2024-10-19T18:02:56', '2024-10-26T17:55:01', '2024-10-31T18:02:56']\n"
     ]
    }
   ],
   "source": [
    "# 所需日期\n",
    "targdate = '2024-10-31'\n",
    "\n",
    "# \n",
    "filters = [\n",
    "    ee.Filter.listContains(\"transmitterReceiverPolarisation\",\"VV\"),\n",
    "    ee.Filter.equals(\"instrumentMode\",\"IW\"),\n",
    "    ee.Filter.equals(\"orbitProperties_pass\",\"ASCENDING\"),\n",
    "    ee.Filter.date('2022-08-21', ee.Date(targdate).advance(1,'day'))\n",
    "]\n",
    "\n",
    "# 加载S1数据并计算Z分数\n",
    "s1 = ee.ImageCollection(\"COPERNICUS/S1_GRD\") \\\n",
    "    .filter(filters) \\\n",
    "    .filterBounds(roi_choose1) # !!! 使用统一的 analysis_aoi !!!\n",
    "    \n",
    "\n",
    "# 检查是否有影像满足条件\n",
    "s1_size = s1.size().getInfo()\n",
    "print(f\"找到满足条件的 Sentinel-1 影像数量: {s1_size}\")\n",
    "if s1_size == 0:\n",
    "    print(\"警告：未找到满足条件的影像，请检查时间范围、AOI 或轨道方向过滤器！\")\n",
    "print(s1.aggregate_array('system:time_start').map(lambda t: ee.Date(t).format()).getInfo())\n",
    "\n",
    "band = 'VV'\n",
    "flood_image = s1.mosaic().clip(roi_choose1).select(band)\n",
    "Map.addLayer(flood_image, {'min':-25,'max':5}, 'Flood Image')\n",
    "\n",
    "\n"
   ]
  },
  {
   "cell_type": "markdown",
   "id": "30bfb1e5",
   "metadata": {},
   "source": [
    "# 5.自动阈值分割\n"
   ]
  },
  {
   "cell_type": "code",
   "execution_count": 8,
   "id": "6887f43d",
   "metadata": {},
   "outputs": [
    {
     "data": {
      "text/html": [
       "\n",
       "            <style>\n",
       "                .geemap-dark {\n",
       "                    --jp-widgets-color: white;\n",
       "                    --jp-widgets-label-color: white;\n",
       "                    --jp-ui-font-color1: white;\n",
       "                    --jp-layout-color2: #454545;\n",
       "                    background-color: #383838;\n",
       "                }\n",
       "\n",
       "                .geemap-dark .jupyter-button {\n",
       "                    --jp-layout-color3: #383838;\n",
       "                }\n",
       "\n",
       "                .geemap-colab {\n",
       "                    background-color: var(--colab-primary-surface-color, white);\n",
       "                }\n",
       "\n",
       "                .geemap-colab .jupyter-button {\n",
       "                    --jp-layout-color3: var(--colab-primary-surface-color, white);\n",
       "                }\n",
       "            </style>\n",
       "            "
      ],
      "text/plain": [
       "<IPython.core.display.HTML object>"
      ]
     },
     "metadata": {},
     "output_type": "display_data"
    },
    {
     "data": {
      "application/vnd.jupyter.widget-view+json": {
       "model_id": "36ce980b8eed4c2fac743333f9f843ee",
       "version_major": 2,
       "version_minor": 0
      },
      "text/plain": [
       "Map(bottom=199964.0, center=[39.37677199661635, -0.3622055053710938], controls=(WidgetControl(options=['positi…"
      ]
     },
     "execution_count": 8,
     "metadata": {},
     "output_type": "execute_result"
    }
   ],
   "source": [
    "#二值化+开运算\n",
    "\n",
    "globalThreshold = ee.Number(-13.5)\n",
    "globalWater = flood_image.lt(globalThreshold)\n",
    "corrosion_kernel = ee.Kernel.circle(radius = 2)\n",
    "eroded_Dark_targets = globalWater.focal_min(kernel = corrosion_kernel, iterations = 1).focal_max(kernel = corrosion_kernel, iterations = 1)\n",
    "Map.addLayer(eroded_Dark_targets.selfMask(), {'palette':['red']}, 'Eroded Water')\n",
    "Map"
   ]
  },
  {
   "cell_type": "markdown",
   "id": "3a9c3b96",
   "metadata": {},
   "source": [
    "# 6.边缘检测+缓冲区+外包矩形"
   ]
  },
  {
   "cell_type": "markdown",
   "id": "fa63afe7",
   "metadata": {},
   "source": [
    "## 6.1 边缘检测+缓冲区"
   ]
  },
  {
   "cell_type": "code",
   "execution_count": 9,
   "id": "9a509a70",
   "metadata": {},
   "outputs": [
    {
     "data": {
      "text/html": [
       "\n",
       "            <style>\n",
       "                .geemap-dark {\n",
       "                    --jp-widgets-color: white;\n",
       "                    --jp-widgets-label-color: white;\n",
       "                    --jp-ui-font-color1: white;\n",
       "                    --jp-layout-color2: #454545;\n",
       "                    background-color: #383838;\n",
       "                }\n",
       "\n",
       "                .geemap-dark .jupyter-button {\n",
       "                    --jp-layout-color3: #383838;\n",
       "                }\n",
       "\n",
       "                .geemap-colab {\n",
       "                    background-color: var(--colab-primary-surface-color, white);\n",
       "                }\n",
       "\n",
       "                .geemap-colab .jupyter-button {\n",
       "                    --jp-layout-color3: var(--colab-primary-surface-color, white);\n",
       "                }\n",
       "            </style>\n",
       "            "
      ],
      "text/plain": [
       "<IPython.core.display.HTML object>"
      ]
     },
     "metadata": {},
     "output_type": "display_data"
    }
   ],
   "source": [
    "# 定义方法需要的参数\n",
    "connectedPixels = 100 # 长度计算连接像素数\n",
    "edgeLength = 50 #水边缘的长度\n",
    "edgeBuffer = 15 #边缘的缓冲区(单位m)\n",
    "cannyThreshold = 1 #canny边缘检测的阈值\n",
    "cannySigma = 1 #Canny 边缘检测中高斯滤波器的 Sigma 值\n",
    "cannyLt = 0.05 #canny边缘检测的更限制的阈值"
   ]
  },
  {
   "cell_type": "code",
   "execution_count": 10,
   "id": "00ce0298",
   "metadata": {},
   "outputs": [
    {
     "data": {
      "text/html": [
       "\n",
       "            <style>\n",
       "                .geemap-dark {\n",
       "                    --jp-widgets-color: white;\n",
       "                    --jp-widgets-label-color: white;\n",
       "                    --jp-ui-font-color1: white;\n",
       "                    --jp-layout-color2: #454545;\n",
       "                    background-color: #383838;\n",
       "                }\n",
       "\n",
       "                .geemap-dark .jupyter-button {\n",
       "                    --jp-layout-color3: #383838;\n",
       "                }\n",
       "\n",
       "                .geemap-colab {\n",
       "                    background-color: var(--colab-primary-surface-color, white);\n",
       "                }\n",
       "\n",
       "                .geemap-colab .jupyter-button {\n",
       "                    --jp-layout-color3: var(--colab-primary-surface-color, white);\n",
       "                }\n",
       "            </style>\n",
       "            "
      ],
      "text/plain": [
       "<IPython.core.display.HTML object>"
      ]
     },
     "metadata": {},
     "output_type": "display_data"
    }
   ],
   "source": [
    "# Canny边缘检测\n",
    "canny = ee.Algorithms.CannyEdgeDetector(\n",
    "    image=eroded_Dark_targets,\n",
    "    threshold=cannyThreshold,\n",
    "    sigma=cannySigma\n",
    ")\n",
    "\n",
    "#获取边缘（排除强边缘 只要弱边缘 因强边缘会是噪声 即边缘强度小于阈值）\n",
    "#connectedPixelCount()函数计算每个像素的相邻相连像素的数量，即边缘的长度\n",
    "connected = canny.updateMask(canny).lt(cannyLt).connectedPixelCount(connectedPixels,True)\n",
    "\n",
    "#新的像素数量图像中，每个像素值表示原始图像中，与其相连的、且边缘强度小于cannyLt的像素的数量\n",
    "#让短边缘视为噪声\n",
    "edges = connected.gte(edgeLength)\n",
    "\n",
    "#基于边缘创建缓冲区，并将缓冲区内的像素设为1\n",
    "#fastDistanceTransform():快速距离变换函数：计算每个像素到最近的非零像素（边缘像素）的距离\n",
    "bufferEdges = edges.fastDistanceTransform(edgeBuffer).lte(edgeBuffer)\n",
    "#将缓冲区外部分\n",
    "edgeImage = flood_image.select(band).updateMask(bufferEdges)\n",
    "\n",
    "edgeVis = {'palette' : 'yellow' , 'opacity' : 0.5}\n",
    "\n"
   ]
  },
  {
   "cell_type": "markdown",
   "id": "31636890",
   "metadata": {},
   "source": [
    "# 6.2 边缘缓冲区生成外包矩形"
   ]
  },
  {
   "cell_type": "code",
   "execution_count": 11,
   "id": "ec713eb9",
   "metadata": {},
   "outputs": [
    {
     "data": {
      "text/html": [
       "\n",
       "            <style>\n",
       "                .geemap-dark {\n",
       "                    --jp-widgets-color: white;\n",
       "                    --jp-widgets-label-color: white;\n",
       "                    --jp-ui-font-color1: white;\n",
       "                    --jp-layout-color2: #454545;\n",
       "                    background-color: #383838;\n",
       "                }\n",
       "\n",
       "                .geemap-dark .jupyter-button {\n",
       "                    --jp-layout-color3: #383838;\n",
       "                }\n",
       "\n",
       "                .geemap-colab {\n",
       "                    background-color: var(--colab-primary-surface-color, white);\n",
       "                }\n",
       "\n",
       "                .geemap-colab .jupyter-button {\n",
       "                    --jp-layout-color3: var(--colab-primary-surface-color, white);\n",
       "                }\n",
       "            </style>\n",
       "            "
      ],
      "text/plain": [
       "<IPython.core.display.HTML object>"
      ]
     },
     "metadata": {},
     "output_type": "display_data"
    },
    {
     "name": "stdout",
     "output_type": "stream",
     "text": [
      "正在将栅格斑块转为矢量\n",
      "正在为每个矢量计算外包矩形\n",
      "将外包矩形添加到地图...\n"
     ]
    },
    {
     "data": {
      "application/vnd.jupyter.widget-view+json": {
       "model_id": "36ce980b8eed4c2fac743333f9f843ee",
       "version_major": 2,
       "version_minor": 0
      },
      "text/plain": [
       "Map(bottom=199964.0, center=[39.39991576443971, -0.39076350000047855], controls=(WidgetControl(options=['posit…"
      ]
     },
     "execution_count": 11,
     "metadata": {},
     "output_type": "execute_result"
    }
   ],
   "source": [
    "print(\"正在将栅格斑块转为矢量\")\n",
    "bufferVectors = bufferEdges.selfMask().reduceToVectors(\n",
    "    geometry = roi_choose1,\n",
    "    scale = 30,\n",
    "    geometryType = 'polygon',\n",
    "    eightConnected = True,\n",
    "    labelProperty = 'labels',\n",
    "    maxPixels = 1e10\n",
    ")\n",
    "bufferVectors = bufferVectors\n",
    "#.filter(ee.Filter.gt('count',1000/(30*30)))\n",
    "\n",
    "print('正在为每个矢量计算外包矩形')\n",
    "def getBoundingBox(feature):\n",
    "   # feature.geometry() 获取当前要素的几何形状\n",
    "  # .bounds() 计算该几何形状的最小外包矩形\n",
    "  # ee.Feature() 用新的矩形几何体创建一个新的要素，并保留原始属性\n",
    "  return ee.Feature(feature.geometry().bounds()) # Removed feature.properties\n",
    "\n",
    "#将上述函数应用到集合中的每一个要素\n",
    "boundingBoxes = bufferVectors.map(getBoundingBox)\n",
    "\n",
    "# ---\n",
    "# 步骤 4: 可视化外包矩形\n",
    "# ---\n",
    "# 为了只显示边框而不是实心矩形，我们创建一个空的图像，然后将矩形的边框“画”上去。\n",
    "# 这比直接添加 FeatureCollection 并设置样式更稳健。\n",
    "empty = ee.Image().byte() # 创建一个空的8位图像作为画布\n",
    "\n",
    "# 使用 .paint() 函数绘制边框\n",
    "outline = empty.paint(\n",
    "    featureCollection=boundingBoxes, # 要绘制的要素集合\n",
    "    color=1, # 边框的颜色，这里设为1，以便使用统一颜色\n",
    "    width=2  # 边框的宽度（像素）\n",
    ")\n",
    "\n",
    "# 定义一个鲜艳的颜色方案来显示外包矩形\n",
    "bboxVis = {'palette': 'FF00FF'} # 使用亮紫色 (Magenta)\n",
    "\n",
    "print(\"将外包矩形添加到地图...\")\n",
    "Map.addLayer(outline, bboxVis, 'Detected Bounding Boxes')\n",
    "\n",
    "# 将地图中心设置到您的研究区\n",
    "Map.centerObject(roi_choose1, 11)\n",
    "Map"
   ]
  },
  {
   "cell_type": "markdown",
   "id": "df285c7b",
   "metadata": {},
   "source": [
    "# 7.外包矩形筛选及提取"
   ]
  },
  {
   "cell_type": "markdown",
   "id": "7205832e",
   "metadata": {},
   "source": [
    "## 7.1 矩形筛选"
   ]
  },
  {
   "cell_type": "code",
   "execution_count": 12,
   "id": "6481d21e",
   "metadata": {},
   "outputs": [
    {
     "data": {
      "text/html": [
       "\n",
       "            <style>\n",
       "                .geemap-dark {\n",
       "                    --jp-widgets-color: white;\n",
       "                    --jp-widgets-label-color: white;\n",
       "                    --jp-ui-font-color1: white;\n",
       "                    --jp-layout-color2: #454545;\n",
       "                    background-color: #383838;\n",
       "                }\n",
       "\n",
       "                .geemap-dark .jupyter-button {\n",
       "                    --jp-layout-color3: #383838;\n",
       "                }\n",
       "\n",
       "                .geemap-colab {\n",
       "                    background-color: var(--colab-primary-surface-color, white);\n",
       "                }\n",
       "\n",
       "                .geemap-colab .jupyter-button {\n",
       "                    --jp-layout-color3: var(--colab-primary-surface-color, white);\n",
       "                }\n",
       "            </style>\n",
       "            "
      ],
      "text/plain": [
       "<IPython.core.display.HTML object>"
      ]
     },
     "metadata": {},
     "output_type": "display_data"
    },
    {
     "name": "stdout",
     "output_type": "stream",
     "text": [
      "\n",
      "--- [最终修复版 v2] 逐个检查每个矩形的处理过程 ---\n",
      "================================================================================\n",
      "Rect ID    | Outlier %       | Status          | Reason/Details\n",
      "--------------------------------------------------------------------------------\n",
      "0          | 100.00%         | PASSED          | Passed\n",
      "1          | 93.33%          | PASSED          | Passed\n",
      "2          | 75.00%          | PASSED          | Passed\n",
      "3          | 66.15%          | PASSED          | Passed\n",
      "4          | 73.13%          | PASSED          | Passed\n",
      "5          | 47.27%          | PASSED          | Passed\n",
      "6          | -100.00%        | FAILED          | NotEnoughPoints\n",
      "7          | 63.29%          | PASSED          | Passed\n",
      "8          | 76.71%          | PASSED          | Passed\n",
      "9          | 53.06%          | PASSED          | Passed\n",
      "10         | 59.02%          | PASSED          | Passed\n",
      "11         | 45.45%          | PASSED          | Passed\n",
      "12         | 12.50%          | PASSED          | Passed\n",
      "================================================================================\n",
      "\n",
      "最终结果：\n",
      "筛选前矩形总数: 13\n",
      "筛选后（离群点百分比 >= 10%）的矩形数量: 12\n"
     ]
    },
    {
     "data": {
      "application/vnd.jupyter.widget-view+json": {
       "model_id": "36ce980b8eed4c2fac743333f9f843ee",
       "version_major": 2,
       "version_minor": 0
      },
      "text/plain": [
       "Map(bottom=199920.0, center=[39.39991576443971, -0.39076350000047855], controls=(WidgetControl(options=['posit…"
      ]
     },
     "execution_count": 12,
     "metadata": {},
     "output_type": "execute_result"
    }
   ],
   "source": [
    "import numpy as np\n",
    "\n",
    "#筛选策略：基于剖面线“离群点百分比”的筛选法\n",
    "def analyze_and_filter_bbox_by_outlier_percentage(feature):\n",
    "    try:\n",
    "        error_margin = ee.ErrorMargin(1) # 设置误差范围为1米\n",
    "        bbox_geom = feature.geometry() # 获取外包矩形的几何形状\n",
    "        center = bbox_geom.centroid(error_margin) # 计算外包矩形的中心点\n",
    "        coords = ee.List(bbox_geom.coordinates().get(0)) # 获取外包矩形的坐标列表\n",
    "        \n",
    "        #获取矩形的三个角点\n",
    "        p1, p2, p3 = ee.List(coords.get(0)), ee.List(coords.get(1)), ee.List(coords.get(2))\n",
    "        \n",
    "        # 客户端几何计算\n",
    "        p1_coords, p2_coords, p3_coords = np.array(p1.getInfo()), np.array(p2.getInfo()), np.array(p3.getInfo())\n",
    "        center_coords= np.array(center.coordinates().getInfo())\n",
    "        vector_12, vector_23 = p2_coords - p1_coords, p3_coords - p2_coords  # 计算两个边的向量\n",
    "        \n",
    "        # ---新增:长宽比筛选---\n",
    "        side1_length = np.linalg.norm(vector_12)\n",
    "        side2_length = np.linalg.norm(vector_23)\n",
    "        if side1_length < side2_length:\n",
    "            side1_length, side2_length = side2_length, side1_length # 确保 side1_length 是较长的边\n",
    "        #计算长宽比并检查\n",
    "        aspect_ratio = side1_length / side2_length if side2_length != 0 else float('inf')\n",
    "        if aspect_ratio > MAX_ASPECT_RATIO:\n",
    "            return feature.set({\n",
    "                'is_valid':ee.Number(0),\n",
    "                'outelier_percentage':-1,\n",
    "                'reason':f'AspectRatioTooHigh ({aspect_ratio:.1f}:1)'\n",
    "            })\n",
    "        # --结束--\n",
    "        main_axis_vector = vector_12 if np.linalg.norm(vector_12) < np.linalg.norm(vector_23) else vector_23  # 选择较短的边作为主轴\n",
    "        start_point = center_coords - main_axis_vector * 1.5\n",
    "        end_point = center_coords + main_axis_vector * 1.5\n",
    "        \n",
    "        # 在GEE中创建剖面线\n",
    "        long_line = ee.Geometry.LineString([start_point.tolist(), end_point.tolist()])\n",
    "        profile_line = long_line.intersection(bbox_geom, error_margin)\n",
    "        \n",
    "        # 使用reduceRegion进行沿线采样\n",
    "        sampled_dict = flood_image.select('VV').reduceRegion(\n",
    "            reducer=ee.Reducer.toList(),\n",
    "            geometry=profile_line,\n",
    "            scale=10,\n",
    "            maxPixels=1e10\n",
    "        )\n",
    "        \n",
    "        sar_values = sampled_dict.get('VV').getInfo()\n",
    "        if not sar_values or len(sar_values) < 3:\n",
    "            return feature.set({\n",
    "                'is_valid': ee.Number(0),\n",
    "                'outlier_percentage': -1,\n",
    "                'profile_line': profile_line,\n",
    "                'reason': 'NotEnoughPoints'\n",
    "            })\n",
    "\n",
    "        # 客户端计算\n",
    "        sar_array = np.array(sar_values)\n",
    "        outlier_count = np.sum(sar_array < OUTLIER_SAR_THRESHOLD)\n",
    "        total_count = len(sar_array)\n",
    "        outlier_percentage = outlier_count / total_count\n",
    "\n",
    "        is_valid_python = outlier_percentage >= MIN_OUTLIER_PERCENTAGE\n",
    "\n",
    "        return feature.set({\n",
    "            'is_valid': ee.Number(1) if is_valid_python else ee.Number(0), #不能直接设为True or False布尔型，因为与gee数据格式不兼容\n",
    "            'outlier_percentage': outlier_percentage,\n",
    "            'profile_line': profile_line,\n",
    "            'reason': 'Passed' if is_valid_python else 'LowPercentage'\n",
    "        })\n",
    "\n",
    "    except Exception as e:\n",
    "        return feature.set({\n",
    "            'is_valid': ee.Number(0),\n",
    "            'outlier_percentage': -1,\n",
    "            'reason': f'Error: {str(e)}'\n",
    "        })\n",
    "\n",
    "# ==============================================================================\n",
    "# 参数定义\n",
    "# ==============================================================================\n",
    "OUTLIER_SAR_THRESHOLD = -13.0\n",
    "MIN_OUTLIER_PERCENTAGE = 0.1\n",
    "MAX_ASPECT_RATIO = 5.0\n",
    "# ==============================================================================\n",
    "# 核心调试循环 (最终修复版)\n",
    "# ==============================================================================\n",
    "bboxes_list = boundingBoxes.toList(boundingBoxes.size())\n",
    "processed_features_list = []\n",
    "# [修复] 我们不再需要 all_profile_lines 列表，直接从最终集合中提取\n",
    "\n",
    "print(\"\\n--- [最终修复版 v2] 逐个检查每个矩形的处理过程 ---\")\n",
    "print(\"=\"*80)\n",
    "print(f\"{'Rect ID':<10} | {'Outlier %':<15} | {'Status':<15} | {'Reason/Details'}\")\n",
    "print(\"-\"*80)\n",
    "\n",
    "for i in range(bboxes_list.size().getInfo()):\n",
    "    server_feature = ee.Feature(bboxes_list.get(i))\n",
    "    client_processed_feature = analyze_and_filter_bbox_by_outlier_percentage(server_feature)\n",
    "\n",
    "    # [保持不变] 打印主信息\n",
    "    properties = client_processed_feature.getInfo()['properties']\n",
    "    is_valid_flag = properties.get('is_valid', 0) == 1\n",
    "    percentage = properties.get('outlier_percentage', -1)\n",
    "    status = \"PASSED\" if is_valid_flag else \"FAILED\"\n",
    "    print(f\"{i:<10} | {f'{percentage:.2%}':<15} | {status:<15} | {properties.get('reason', 'N/A')}\")\n",
    "\n",
    "    # [保持不变] 打印失败的详细信息\n",
    "    if not is_valid_flag and percentage != -1:\n",
    "        profile_line = client_processed_feature.get('profile_line')\n",
    "        if profile_line is not None:\n",
    "            profile_line_geom = ee.Geometry(profile_line)\n",
    "            sampled_dict_debug = flood_image.select('VV').reduceRegion(\n",
    "                reducer=ee.Reducer.toList(),\n",
    "                geometry=profile_line_geom,\n",
    "                scale=10\n",
    "            )\n",
    "            values_debug_list = ee.List(sampled_dict_debug.get('VV')).getInfo()\n",
    "            values_str = [f\"{v:.2f}\" for v in values_debug_list] if values_debug_list else [\"No values sampled\"]\n",
    "            print(f\"{'':<10} | {'':<15} | {'':<15} | RZ Values: [{', '.join(values_str)}]\")\n",
    "\n",
    "    processed_features_list.append(client_processed_feature)\n",
    "print(\"=\"*80)\n",
    "\n",
    "# ==============================================================================\n",
    "# 后续处理和可视化 (最终修复版)\n",
    "# ==============================================================================\n",
    "analyzed_bboxes = ee.FeatureCollection(processed_features_list)\n",
    "filtered_boundingBoxes = analyzed_bboxes.filter(ee.Filter.eq('is_valid', 1))\n",
    "\n",
    "print(f\"\\n最终结果：\")\n",
    "print(f\"筛选前矩形总数: {analyzed_bboxes.size().getInfo()}\")\n",
    "print(f\"筛选后（离群点百分比 >= {MIN_OUTLIER_PERCENTAGE:.0%}）的矩形数量: {filtered_boundingBoxes.size().getInfo()}\")\n",
    "\n",
    "# --- 可视化 ---\n",
    "\n",
    "# [核心修复] 定义一个函数，将Feature的几何体替换为其'profile_line'属性\n",
    "def extract_profile_as_feature(feature):\n",
    "    # 从输入 feature 中获取 profile_line 几何体\n",
    "    profile_geom = ee.Geometry(feature.get('profile_line'))\n",
    "    # 返回一个新的 Feature，它的几何体是 profile_line，并且不包含任何属性\n",
    "    # 这样可以避免属性继承带来的问题\n",
    "    return ee.Feature(profile_geom)\n",
    "\n",
    "# -- 可视化所有剖面线 (用于调试) --\n",
    "# 使用 .map() 应用上面的函数，确保我们得到一个 FeatureCollection of LineStrings\n",
    "all_profiles_fc = analyzed_bboxes.map(extract_profile_as_feature)\n",
    "Map.addLayer(ee.Image().byte().paint(all_profiles_fc, 0, 1), {'palette': 'FF0000'}, 'All Profile Lines (DEBUG)') # 红色\n",
    "\n",
    "# -- 可视化通过筛选的矩形和剖面线 --\n",
    "if filtered_boundingBoxes.size().getInfo() > 0:\n",
    "    # 可视化矩形边框 (这部分没问题)\n",
    "    filtered_outline = ee.Image().byte().paint(filtered_boundingBoxes, 0, 2)\n",
    "    Map.addLayer(filtered_outline, {'palette': '00008B'}, 'Filtered BBoxes (PASSED)') # 绿色\n",
    "\n",
    "    # [核心修复] 使用同样的方法提取通过筛选的剖面线\n",
    "    valid_profile_lines_fc = filtered_boundingBoxes.map(extract_profile_as_feature)\n",
    "    valid_profile_lines = ee.Image().byte().paint(valid_profile_lines_fc, 0, 2)\n",
    "    Map.addLayer(valid_profile_lines, {'palette': '00FFFF'}, 'Valid Profile Lines (PASSED)') # 青色\n",
    "else:\n",
    "    print(\"\\n没有找到有效的矩形。\")\n",
    "\n",
    "Map.centerObject(roi_choose1, 11)\n",
    "Map\n",
    "\n",
    "\n"
   ]
  },
  {
   "cell_type": "markdown",
   "id": "95e88a3c",
   "metadata": {},
   "source": [
    "## 7.2 均值剖面线提取\n"
   ]
  },
  {
   "cell_type": "code",
   "execution_count": 13,
   "id": "072eb18e",
   "metadata": {},
   "outputs": [
    {
     "data": {
      "text/html": [
       "\n",
       "            <style>\n",
       "                .geemap-dark {\n",
       "                    --jp-widgets-color: white;\n",
       "                    --jp-widgets-label-color: white;\n",
       "                    --jp-ui-font-color1: white;\n",
       "                    --jp-layout-color2: #454545;\n",
       "                    background-color: #383838;\n",
       "                }\n",
       "\n",
       "                .geemap-dark .jupyter-button {\n",
       "                    --jp-layout-color3: #383838;\n",
       "                }\n",
       "\n",
       "                .geemap-colab {\n",
       "                    background-color: var(--colab-primary-surface-color, white);\n",
       "                }\n",
       "\n",
       "                .geemap-colab .jupyter-button {\n",
       "                    --jp-layout-color3: var(--colab-primary-surface-color, white);\n",
       "                }\n",
       "            </style>\n",
       "            "
      ],
      "text/plain": [
       "<IPython.core.display.HTML object>"
      ]
     },
     "metadata": {},
     "output_type": "display_data"
    }
   ],
   "source": [
    "from scipy.ndimage import map_coordinates\n",
    "import matplotlib.pyplot as plt\n",
    "\n",
    "def create_robust_profile(feature, sar_image_ee):\n",
    "    \"\"\"\n",
    "    为单个矩形特征生成一条平滑且鲁棒的均值剖面线\n",
    "\n",
    "    Args:\n",
    "        feature (ee.Feature):包含\"profile_line'属性的经筛选的有效矩形 \n",
    "        sar_image_ee (ee.Image): 用于采样的原始SAR影像\n",
    "        \n",
    "    Returns:\n",
    "        dict:包含剖面线信息的字典\n",
    "    \"\"\"\n",
    "    try:\n",
    "        profile_line = ee.Geometry(feature.get('profile_line'))\n",
    "        line_coords = np.array(profile_line.coordinates().getInfo()) # 获取剖面线坐标\n",
    "        start_point, end_point = line_coords[0], line_coords[1] # 起点和终点坐标\n",
    "        \n",
    "        # 计算剖面线长度和缓冲区半径\n",
    "        line_length_meters = profile_line.length().getInfo()\n",
    "        buffer_radius_L = line_length_meters * 0.2 # 缓冲区长度为剖面线长度的20%\n",
    "        \n",
    "        # 建立缓冲区\n",
    "        profile_buffer = profile_line.buffer(buffer_radius_L)\n",
    "        \n",
    "        #---2.转换缓冲区内SAR像素到客户端---\n",
    "        # sar_patch_up是包含缓冲区像素值的一个numpy数组，patch_info是转换的元数据\n",
    "        sar_patch_np, patch_info = geemap.ee_to_numpy(\n",
    "            sar_image_ee,\n",
    "            region = profile_buffer.bounds(), \n",
    "            scale = 10,\n",
    "        )\n",
    "        \n",
    "        if sar_patch_np is None or sar_patch_np.size < 2:  # 确保有足够的像素点\n",
    "            raise ValueError(\"无法获取SAR图像数据，可能是区域内没有数据。\")\n",
    "        \n",
    "        sar_patch_np = sar_patch_np.squeeze() # 去除单维度 将 (1, H, W) 转为 (H, W)\n",
    "        \n",
    "        # ---3.在客户端进行坐标转换和采样---\n",
    "        # 获取地理转换参数\n",
    "        affine_transform = patch_info['transform'] # 仿射变换矩阵，是将像素坐标转换为地理坐标的矩阵\n",
    "        inv_transform = ~affine_transform # 计算逆变换矩阵 这个矩阵可以将地理坐标反算为像素坐标\n",
    "        \n",
    "        # 将剖面线的地理坐标转换为像素坐标\n",
    "        px_start, py_start = inv_transform * (start_point[0], start_point[1])\n",
    "        px_end, py_end = inv_transform * (end_point[0], end_point[1])\n",
    "        \n",
    "        # 计算剖面线的向量和垂直方向法向量\n",
    "        vec_line = np.array([px_end - px_start, py_end - py_start]) # 剖面线向量\n",
    "        vec_line_normalized = vec_line / np.linalg.norm(vec_line) # 归一化剖面线向量\n",
    "        vec_perp = np.array([-vec_line_normalized[1], vec_line_normalized[0]]) # 像素坐标法向量（垂直方向）\n",
    "        \n",
    "        # 计算缓冲区半径对应的像素距离\n",
    "        pixel_size = affine_transform[0] # 像素大小\n",
    "        buffer_radius_pixels = buffer_radius_L / pixel_size # 缓冲区半径对应的像素距离\n",
    "        \n",
    "        # ---4.生成均值剖面线 ---\n",
    "        num_steps_along_line = int(line_length_meters / pixel_size) # 沿剖面线的采样点数量\n",
    "        num_steps_perp = int(buffer_radius_pixels * 2) # 垂直方向的采样点数\n",
    "        \n",
    "        robust_profile_values= []\n",
    "        \n",
    "        # 沿着剖面线的每个点进行迭代\n",
    "        for i in range(num_steps_along_line):\n",
    "            # 计算当前点在剖面线上的像素坐标:起点 + i * 单位向量\n",
    "            current_point_on_line = np.array([px_start, py_start]) + i * vec_line_normalized\n",
    "            \n",
    "            perp_values = []\n",
    "            # 沿着垂直方向进行采样 \n",
    "            for j in range(-num_steps_perp // 2, num_steps_perp // 2): #整数除法 两边各占l的0.2\n",
    "                # 计算垂直方向上的采样点坐标，即当前点 + j * 垂直法向量\n",
    "                sample_point = current_point_on_line + j * vec_perp\n",
    "                \n",
    "                # 使用线性插值(order=1)获取SAR值\n",
    "                # map_coordinates 需要的座標格式是 [[y1, y2, ...], [x1, x2, ...]]\n",
    "                # 在 sar_patch_np 這塊 SAR 影像上，針對 sample_point 這個浮點數像素座標 (x, y)，使用線性內插的方法來精確計算其對應的雷達反射強度值。如果計算點超出了影像邊界，則自動使用最邊緣的像素值。\n",
    "                value = map_coordinates(sar_patch_np, [[sample_point[1]], [sample_point[0]]], order=1, mode='nearest')\n",
    "                perp_values.append(value[0]) #将垂直方向的采样值存储起来\n",
    "\n",
    "            # 計算當前剖面線點的平均值\n",
    "            robust_profile_values.append(np.mean(perp_values))\n",
    "\n",
    "        return {\n",
    "            'original_profile_coords': line_coords,\n",
    "            'robust_profile_values': robust_profile_values,\n",
    "            'buffer_geom': profile_buffer\n",
    "        }\n",
    "        \n",
    "    except Exception as e:\n",
    "        import traceback\n",
    "        print(f\"Error！Abnormal in create_robust_profile: {e}\")\n",
    "        traceback.print_exc()\n",
    "        return None\n"
   ]
  },
  {
   "cell_type": "code",
   "execution_count": 14,
   "id": "361601b8",
   "metadata": {},
   "outputs": [
    {
     "data": {
      "text/html": [
       "\n",
       "            <style>\n",
       "                .geemap-dark {\n",
       "                    --jp-widgets-color: white;\n",
       "                    --jp-widgets-label-color: white;\n",
       "                    --jp-ui-font-color1: white;\n",
       "                    --jp-layout-color2: #454545;\n",
       "                    background-color: #383838;\n",
       "                }\n",
       "\n",
       "                .geemap-dark .jupyter-button {\n",
       "                    --jp-layout-color3: #383838;\n",
       "                }\n",
       "\n",
       "                .geemap-colab {\n",
       "                    background-color: var(--colab-primary-surface-color, white);\n",
       "                }\n",
       "\n",
       "                .geemap-colab .jupyter-button {\n",
       "                    --jp-layout-color3: var(--colab-primary-surface-color, white);\n",
       "                }\n",
       "            </style>\n",
       "            "
      ],
      "text/plain": [
       "<IPython.core.display.HTML object>"
      ]
     },
     "metadata": {},
     "output_type": "display_data"
    },
    {
     "name": "stdout",
     "output_type": "stream",
     "text": [
      "\n",
      "--- [步驟 8] 開始生成平滑且魯棒的均值剖面線 ---\n",
      "找到 12 個有效的矩形，正在處理...\n",
      "\n",
      "--- 正在處理矩形 1/5 ---\n",
      "Error！Abnormal in create_robust_profile: only integers, slices (`:`), ellipsis (`...`), numpy.newaxis (`None`) and integer or boolean arrays are valid indices\n",
      "生成均值剖面線失敗。\n",
      "\n",
      "--- 正在處理矩形 2/5 ---\n"
     ]
    },
    {
     "name": "stderr",
     "output_type": "stream",
     "text": [
      "Traceback (most recent call last):\n",
      "  File \"C:\\Users\\Administrator\\AppData\\Local\\Temp\\ipykernel_10196\\1884381626.py\", line 42, in create_robust_profile\n",
      "    affine_transform = patch_info['transform'] # 仿射变换矩阵，是将像素坐标转换为地理坐标的矩阵\n",
      "                       ~~~~~~~~~~^^^^^^^^^^^^^\n",
      "IndexError: only integers, slices (`:`), ellipsis (`...`), numpy.newaxis (`None`) and integer or boolean arrays are valid indices\n"
     ]
    },
    {
     "name": "stdout",
     "output_type": "stream",
     "text": [
      "Error！Abnormal in create_robust_profile: too many values to unpack (expected 2)\n",
      "生成均值剖面線失敗。\n",
      "\n",
      "--- 正在處理矩形 3/5 ---\n"
     ]
    },
    {
     "name": "stderr",
     "output_type": "stream",
     "text": [
      "Traceback (most recent call last):\n",
      "  File \"C:\\Users\\Administrator\\AppData\\Local\\Temp\\ipykernel_10196\\1884381626.py\", line 29, in create_robust_profile\n",
      "    sar_patch_np, patch_info = geemap.ee_to_numpy(\n",
      "    ^^^^^^^^^^^^^^^^^^^^^^^^\n",
      "ValueError: too many values to unpack (expected 2)\n"
     ]
    },
    {
     "name": "stdout",
     "output_type": "stream",
     "text": [
      "Error！Abnormal in create_robust_profile: too many values to unpack (expected 2)\n",
      "生成均值剖面線失敗。\n",
      "\n",
      "--- 正在處理矩形 4/5 ---\n"
     ]
    },
    {
     "name": "stderr",
     "output_type": "stream",
     "text": [
      "Traceback (most recent call last):\n",
      "  File \"C:\\Users\\Administrator\\AppData\\Local\\Temp\\ipykernel_10196\\1884381626.py\", line 29, in create_robust_profile\n",
      "    sar_patch_np, patch_info = geemap.ee_to_numpy(\n",
      "    ^^^^^^^^^^^^^^^^^^^^^^^^\n",
      "ValueError: too many values to unpack (expected 2)\n"
     ]
    },
    {
     "name": "stdout",
     "output_type": "stream",
     "text": [
      "Error！Abnormal in create_robust_profile: too many values to unpack (expected 2)\n",
      "生成均值剖面線失敗。\n",
      "\n",
      "--- 正在處理矩形 5/5 ---\n"
     ]
    },
    {
     "name": "stderr",
     "output_type": "stream",
     "text": [
      "Traceback (most recent call last):\n",
      "  File \"C:\\Users\\Administrator\\AppData\\Local\\Temp\\ipykernel_10196\\1884381626.py\", line 29, in create_robust_profile\n",
      "    sar_patch_np, patch_info = geemap.ee_to_numpy(\n",
      "    ^^^^^^^^^^^^^^^^^^^^^^^^\n",
      "ValueError: too many values to unpack (expected 2)\n"
     ]
    },
    {
     "name": "stdout",
     "output_type": "stream",
     "text": [
      "Error！Abnormal in create_robust_profile: too many values to unpack (expected 2)\n",
      "生成均值剖面線失敗。\n",
      "\n",
      "--- 處理完成 ---\n",
      "共成功生成了 0 條魯棒剖面線。\n"
     ]
    },
    {
     "name": "stderr",
     "output_type": "stream",
     "text": [
      "Traceback (most recent call last):\n",
      "  File \"C:\\Users\\Administrator\\AppData\\Local\\Temp\\ipykernel_10196\\1884381626.py\", line 29, in create_robust_profile\n",
      "    sar_patch_np, patch_info = geemap.ee_to_numpy(\n",
      "    ^^^^^^^^^^^^^^^^^^^^^^^^\n",
      "ValueError: too many values to unpack (expected 2)\n"
     ]
    },
    {
     "data": {
      "application/vnd.jupyter.widget-view+json": {
       "model_id": "36ce980b8eed4c2fac743333f9f843ee",
       "version_major": 2,
       "version_minor": 0
      },
      "text/plain": [
       "Map(bottom=399547.0, center=[39.398264899543584, -0.3946495056152344], controls=(WidgetControl(options=['posit…"
      ]
     },
     "execution_count": 14,
     "metadata": {},
     "output_type": "execute_result"
    }
   ],
   "source": [
    "# 主执行流程\n",
    "print(\"\\n--- [步驟 8] 開始生成平滑且魯棒的均值剖面線 ---\")\n",
    "\n",
    "if 'filtered_boundingBoxes' not in globals() or filtered_boundingBoxes.size().getInfo() == 0:\n",
    "    print(\"沒有有效的矩形可供處理。請確保前面的步驟已成功完成並且有通過篩選的矩形。\")\n",
    "else:\n",
    "    valid_bboxes_list = filtered_boundingBoxes.toList(filtered_boundingBoxes.size())\n",
    "    num_valid_bboxes = filtered_boundingBoxes.size().getInfo()\n",
    "    print(f\"找到 {num_valid_bboxes} 個有效的矩形，正在處理...\")\n",
    "    \n",
    "    all_robust_profiles = []\n",
    "    \n",
    "        # 為了演示，我們只處理前5個矩形，避免執行時間過長\n",
    "    # 在您的最終版本中，可以改為 `range(num_valid_bboxes)`\n",
    "    num_to_process = min(5, num_valid_bboxes)\n",
    "    \n",
    "    for i in range(num_to_process):\n",
    "        print(f\"\\n--- 正在處理矩形 {i+1}/{num_to_process} ---\")\n",
    "        feature = ee.Feature(valid_bboxes_list.get(i))\n",
    "        \n",
    "        # 調用核心函式生成均值剖面線，使用本流程中的 flood_image\n",
    "        profile_data = create_robust_profile(feature, flood_image)\n",
    "        \n",
    "        if profile_data:\n",
    "            all_robust_profiles.append(profile_data)\n",
    "            print(f\"成功生成均值剖面線，長度為: {len(profile_data['robust_profile_values'])} 點。\")\n",
    "            # 將生成的緩衝區添加到地圖上進行驗證\n",
    "            Map.addLayer(profile_data['buffer_geom'], {'color': 'cyan'}, f'Robust Profile Buffer {i+1}', False)\n",
    "        else:\n",
    "            print(\"生成均值剖面線失敗。\")\n",
    "\n",
    "    print(f\"\\n--- 處理完成 ---\")\n",
    "    print(f\"共成功生成了 {len(all_robust_profiles)} 條魯棒剖面線。\")\n",
    "\n",
    "    # --- 可視化其中一條剖面線作為示例 ---\n",
    "    if all_robust_profiles:\n",
    "        print(\"\\n繪製第一條生成的均值剖面線作為示例：\")\n",
    "        \n",
    "        # 提取第一條剖面線的資料\n",
    "        example_profile = all_robust_profiles[0]\n",
    "        values = example_profile['robust_profile_values']\n",
    "        \n",
    "        plt.figure(figsize=(12, 6))\n",
    "        plt.plot(values, marker='.', linestyle='-', color='b')\n",
    "        plt.title('Example of a Robust Mean Profile Line')\n",
    "        plt.xlabel('Distance along Profile (in pixels)')\n",
    "        plt.ylabel('Mean SAR Backscatter (dB)')\n",
    "        plt.grid(True)\n",
    "        plt.show()\n",
    "\n",
    "Map"
   ]
  }
 ],
 "metadata": {
  "kernelspec": {
   "display_name": ".venv",
   "language": "python",
   "name": "python3"
  },
  "language_info": {
   "codemirror_mode": {
    "name": "ipython",
    "version": 3
   },
   "file_extension": ".py",
   "mimetype": "text/x-python",
   "name": "python",
   "nbconvert_exporter": "python",
   "pygments_lexer": "ipython3",
   "version": "3.11.2"
  }
 },
 "nbformat": 4,
 "nbformat_minor": 5
}
