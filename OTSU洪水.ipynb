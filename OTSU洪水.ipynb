{
 "cells": [
  {
   "cell_type": "code",
   "execution_count": 1,
   "id": "874d8e9e",
   "metadata": {},
   "outputs": [
    {
     "name": "stdout",
     "output_type": "stream",
     "text": [
      "本地自定义模块 z_flood_robust 已成功导入！\n"
     ]
    }
   ],
   "source": [
    "import ee\n",
    "import geemap\n",
    "# 不再需要 import sys, import os (除非其他地方用到)\n",
    "# 也不再需要任何 sys.path.append(...)\n",
    "\n",
    "# 初始化GEE\n",
    "ee.Initialize(project='geemap-441216') # 替换为您的项目ID\n",
    "\n",
    "# Python会自动在当前文件夹下寻找模块，所以可以直接导入！\n",
    "try:\n",
    "    import z_flood_robust\n",
    "    from z_flood_robust import zscore # 甚至可以这样导入\n",
    "    zscore.calc_basemad # 尝试访问\n",
    "    print(\"本地自定义模块 z_flood_robust 已成功导入！\")\n",
    "except ImportError as e:\n",
    "    print(f\"导入模块失败: {e}\")\n",
    "    print(\"请确保'z_flood_robust'文件夹与您的Jupyter笔记本在同一个目录下。\")"
   ]
  },
  {
   "cell_type": "markdown",
   "id": "d52c5b84",
   "metadata": {},
   "source": [
    "# 1.导入依赖-数据管理模块"
   ]
  },
  {
   "cell_type": "code",
   "execution_count": 2,
   "id": "6bbfbdad",
   "metadata": {},
   "outputs": [
    {
     "data": {
      "text/html": [
       "\n",
       "            <style>\n",
       "                .geemap-dark {\n",
       "                    --jp-widgets-color: white;\n",
       "                    --jp-widgets-label-color: white;\n",
       "                    --jp-ui-font-color1: white;\n",
       "                    --jp-layout-color2: #454545;\n",
       "                    background-color: #383838;\n",
       "                }\n",
       "\n",
       "                .geemap-dark .jupyter-button {\n",
       "                    --jp-layout-color3: #383838;\n",
       "                }\n",
       "\n",
       "                .geemap-colab {\n",
       "                    background-color: var(--colab-primary-surface-color, white);\n",
       "                }\n",
       "\n",
       "                .geemap-colab .jupyter-button {\n",
       "                    --jp-layout-color3: var(--colab-primary-surface-color, white);\n",
       "                }\n",
       "            </style>\n",
       "            "
      ],
      "text/plain": [
       "<IPython.core.display.HTML object>"
      ]
     },
     "metadata": {},
     "output_type": "display_data"
    }
   ],
   "source": [
    "import pandas as pd\n",
    "from datetime import datetime\n",
    "import matplotlib.pyplot as plt\n",
    "from matplotlib.patches import Rectangle #用于在图表中添加形状(例如矩形)\n",
    "import re #正则表达式模块\n",
    "from z_flood_robust import calc_basemedian, calc_basemad, calc_median_anomaly, calc_robust_zscore, calc_basemean,calc_basestd,calc_zscore\n",
    "from z_flood_robust import mapFloods,floodPalette\n",
    "\n",
    "from ipywidgets import Label #用于创建交互式控件\n",
    "\n"
   ]
  },
  {
   "cell_type": "markdown",
   "id": "96e826ee",
   "metadata": {},
   "source": [
    "# 2.定义交互式地图以选择感兴趣区域-界面与交互模块"
   ]
  },
  {
   "cell_type": "code",
   "execution_count": 12,
   "id": "6f730776",
   "metadata": {},
   "outputs": [
    {
     "data": {
      "text/html": [
       "\n",
       "            <style>\n",
       "                .geemap-dark {\n",
       "                    --jp-widgets-color: white;\n",
       "                    --jp-widgets-label-color: white;\n",
       "                    --jp-ui-font-color1: white;\n",
       "                    --jp-layout-color2: #454545;\n",
       "                    background-color: #383838;\n",
       "                }\n",
       "\n",
       "                .geemap-dark .jupyter-button {\n",
       "                    --jp-layout-color3: #383838;\n",
       "                }\n",
       "\n",
       "                .geemap-colab {\n",
       "                    background-color: var(--colab-primary-surface-color, white);\n",
       "                }\n",
       "\n",
       "                .geemap-colab .jupyter-button {\n",
       "                    --jp-layout-color3: var(--colab-primary-surface-color, white);\n",
       "                }\n",
       "            </style>\n",
       "            "
      ],
      "text/plain": [
       "<IPython.core.display.HTML object>"
      ]
     },
     "metadata": {},
     "output_type": "display_data"
    },
    {
     "data": {
      "text/plain": [
       "1"
      ]
     },
     "metadata": {},
     "output_type": "display_data"
    },
    {
     "name": "stdout",
     "output_type": "stream",
     "text": [
      "请点击地图以选择你要监测的区域\n"
     ]
    },
    {
     "data": {
      "application/vnd.jupyter.widget-view+json": {
       "model_id": "9edebc24ab6546e0a6982276aa827123",
       "version_major": 2,
       "version_minor": 0
      },
      "text/plain": [
       "Map(center=[0, 0], controls=(WidgetControl(options=['position', 'transparent_bg'], position='topright', transp…"
      ]
     },
     "execution_count": 12,
     "metadata": {},
     "output_type": "execute_result"
    }
   ],
   "source": [
    "#解析用户点击地图时生成的坐标字符串，提取经纬度并返回\n",
    "def parseClickedCoordinates(label):\n",
    "  #利用正则表达式，从label.value提取出坐标：一个可能带有负号的浮点数 这里为【经度，纬度】\n",
    "  #正则表达式： r'(?:-)?[0-9]+.[0-9]+'\n",
    "  #r'表示原始字符，(?:-)是非捕获组，?:表示负号是可选的，[0-9]+表示匹配一个数字，+表示可以出现一次或多次，.匹配小数点，最后再次匹配一个或多个数字\n",
    "  coords = [float(c) for c in re.findall(r'(?:-)?[0-9]+.[0-9]+', label.value)]\n",
    "  coords.reverse() #反转为【纬度，经度】，符合GEE坐标格式\n",
    "  return coords\n",
    "\n",
    "#创建一个Lable，用于显示用户点击的目标\n",
    "l = Label()\n",
    "display(1)\n",
    "#处理用户与地图的交互事件，当用户点击地图时，将点击的坐标存储到Label控件中\n",
    "def handle_interaction(**kwargs):\n",
    "  #kwargs包含交互事件的参数 kwargs.get('type'):获取事件类型为鼠标点击 kwargs.get('coordinates')：获取点击的坐标，转换为字符串并存储到Label控件中\n",
    "  if kwargs.get('type') == 'click':\n",
    "    l.value = str(kwargs.get('coordinates'))\n",
    "\n",
    "print('请点击地图以选择你要监测的区域')\n",
    "#创建交互式地图\n",
    "Map = geemap.Map()\n",
    "Map.on_interaction(handle_interaction)\n",
    "Map"
   ]
  },
  {
   "cell_type": "markdown",
   "id": "af36f52e",
   "metadata": {},
   "source": [
    "# 3.定义几何范围并展示-界面与交互模块"
   ]
  },
  {
   "cell_type": "markdown",
   "id": "83c5a3e2",
   "metadata": {},
   "source": [
    "## 3.1.手动划定研究区域"
   ]
  },
  {
   "cell_type": "code",
   "execution_count": 13,
   "id": "e77715be",
   "metadata": {},
   "outputs": [
    {
     "data": {
      "text/html": [
       "\n",
       "            <style>\n",
       "                .geemap-dark {\n",
       "                    --jp-widgets-color: white;\n",
       "                    --jp-widgets-label-color: white;\n",
       "                    --jp-ui-font-color1: white;\n",
       "                    --jp-layout-color2: #454545;\n",
       "                    background-color: #383838;\n",
       "                }\n",
       "\n",
       "                .geemap-dark .jupyter-button {\n",
       "                    --jp-layout-color3: #383838;\n",
       "                }\n",
       "\n",
       "                .geemap-colab {\n",
       "                    background-color: var(--colab-primary-surface-color, white);\n",
       "                }\n",
       "\n",
       "                .geemap-colab .jupyter-button {\n",
       "                    --jp-layout-color3: var(--colab-primary-surface-color, white);\n",
       "                }\n",
       "            </style>\n",
       "            "
      ],
      "text/plain": [
       "<IPython.core.display.HTML object>"
      ]
     },
     "metadata": {},
     "output_type": "display_data"
    },
    {
     "data": {
      "application/vnd.jupyter.widget-view+json": {
       "model_id": "9edebc24ab6546e0a6982276aa827123",
       "version_major": 2,
       "version_minor": 0
      },
      "text/plain": [
       "Map(bottom=399611.0, center=[39.38139089214383, -0.3865922574188186], controls=(WidgetControl(options=['positi…"
      ]
     },
     "execution_count": 13,
     "metadata": {},
     "output_type": "execute_result"
    }
   ],
   "source": [
    "lon,lat = parseClickedCoordinates(l)\n",
    "w,h = 2,2 #矩形宽度与高度（单位：度）\n",
    "\n",
    "geometry = ee.Geometry.Polygon(\n",
    "    [[[lon-w,lat-h],\n",
    "     [lon-w,lat+h],\n",
    "     [lon+w,lat+h],\n",
    "     [lon+w,lat-h]]]\n",
    ")\n",
    "\n",
    "#将几何范围添加到地图\n",
    "Map.addLayer(\n",
    "    geometry,\n",
    "    {'color':'red','fillColor':'00000000'},\n",
    "    'AOI'\n",
    ")\n",
    "Map"
   ]
  },
  {
   "cell_type": "code",
   "execution_count": 14,
   "id": "9a22d9d9",
   "metadata": {},
   "outputs": [
    {
     "data": {
      "text/html": [
       "\n",
       "            <style>\n",
       "                .geemap-dark {\n",
       "                    --jp-widgets-color: white;\n",
       "                    --jp-widgets-label-color: white;\n",
       "                    --jp-ui-font-color1: white;\n",
       "                    --jp-layout-color2: #454545;\n",
       "                    background-color: #383838;\n",
       "                }\n",
       "\n",
       "                .geemap-dark .jupyter-button {\n",
       "                    --jp-layout-color3: #383838;\n",
       "                }\n",
       "\n",
       "                .geemap-colab {\n",
       "                    background-color: var(--colab-primary-surface-color, white);\n",
       "                }\n",
       "\n",
       "                .geemap-colab .jupyter-button {\n",
       "                    --jp-layout-color3: var(--colab-primary-surface-color, white);\n",
       "                }\n",
       "            </style>\n",
       "            "
      ],
      "text/plain": [
       "<IPython.core.display.HTML object>"
      ]
     },
     "metadata": {},
     "output_type": "display_data"
    },
    {
     "name": "stdout",
     "output_type": "stream",
     "text": [
      "ROI 类型：Polygon\n",
      "ROI 坐标：[[[-0.424067, 39.459907], [-0.424067, 39.468588], [-0.414195, 39.468588], [-0.414195, 39.459907], [-0.424067, 39.459907]]]\n"
     ]
    }
   ],
   "source": [
    "#USE MAP RECTANGLE 选择区域\n",
    "#获取感兴趣区域（用于论文绘图)\n",
    "roi_choose1 = Map.user_roi\n",
    "\n",
    "if roi_choose1 is not None:\n",
    "  #获取ROI类型\n",
    "  roi_type = roi_choose1.type().getInfo()\n",
    "  print(f\"ROI 类型：{roi_type}\")\n",
    "\n",
    "  #如果是Polygon，获取坐标\n",
    "  if roi_type == 'Polygon':\n",
    "    coords = roi_choose1.coordinates().getInfo()\n",
    "    print(f\"ROI 坐标：{coords}\")"
   ]
  },
  {
   "cell_type": "markdown",
   "id": "922a7dae",
   "metadata": {},
   "source": [
    "## 3.2.从GEE资产里加载研究区"
   ]
  },
  {
   "cell_type": "code",
   "execution_count": 11,
   "id": "d3e45f55",
   "metadata": {},
   "outputs": [
    {
     "data": {
      "text/html": [
       "\n",
       "            <style>\n",
       "                .geemap-dark {\n",
       "                    --jp-widgets-color: white;\n",
       "                    --jp-widgets-label-color: white;\n",
       "                    --jp-ui-font-color1: white;\n",
       "                    --jp-layout-color2: #454545;\n",
       "                    background-color: #383838;\n",
       "                }\n",
       "\n",
       "                .geemap-dark .jupyter-button {\n",
       "                    --jp-layout-color3: #383838;\n",
       "                }\n",
       "\n",
       "                .geemap-colab {\n",
       "                    background-color: var(--colab-primary-surface-color, white);\n",
       "                }\n",
       "\n",
       "                .geemap-colab .jupyter-button {\n",
       "                    --jp-layout-color3: var(--colab-primary-surface-color, white);\n",
       "                }\n",
       "            </style>\n",
       "            "
      ],
      "text/plain": [
       "<IPython.core.display.HTML object>"
      ]
     },
     "metadata": {},
     "output_type": "display_data"
    },
    {
     "name": "stdout",
     "output_type": "stream",
     "text": [
      "成功从GEE Assets加载研究区！\n"
     ]
    },
    {
     "data": {
      "application/vnd.jupyter.widget-view+json": {
       "model_id": "d0594a950047473593fd38e5e8d8f21a",
       "version_major": 2,
       "version_minor": 0
      },
      "text/plain": [
       "Map(center=[39.41956382721997, -0.431725495619315], controls=(WidgetControl(options=['position', 'transparent_…"
      ]
     },
     "metadata": {},
     "output_type": "display_data"
    }
   ],
   "source": [
    "asset_id = 'projects/geemap-441216/assets/valencia_final_aoi'\n",
    "\n",
    "try:\n",
    "    # 从GEE Assets加载矢量文件作为FeatureCollection\n",
    "    aoi_fc = ee.FeatureCollection(asset_id)\n",
    "    \n",
    "    \n",
    "    # 对于洪水分析，我们通常需要的是所有要素合并后的几何边界\n",
    "    # .geometry() 会将FeatureCollection中所有的要素融合成一个单一的几何对象\n",
    "    roi_choose1 = aoi_fc.geometry()\n",
    "    \n",
    "    print(\"成功从GEE Assets加载研究区！\")\n",
    "    \n",
    "    # 创建一个地图来可视化你的AOI，确保加载正确\n",
    "    Map = geemap.Map()\n",
    "    Map.addLayer(roi_choose1, {'color': 'red', 'fillColor': '00000000'}, 'Study Area (from Asset)')\n",
    "    Map.centerObject(roi_choose1, 10) # 自动缩放到研究区\n",
    "    display(Map)\n",
    "    \n",
    "except ee.EEException as e:\n",
    "    print(f\"加载AOI失败！请检查你的Asset ID是否正确: {asset_id}\")\n",
    "    print(f\"错误信息: {e}\")\n",
    "    # 如果加载失败，停止执行后续代码\n",
    "    raise SystemExit(\"无法加载AOI，程序终止。\")\n",
    "    "
   ]
  },
  {
   "cell_type": "markdown",
   "id": "94a72dc2",
   "metadata": {},
   "source": [
    "# 4 设置日期，过滤影像计算数量（以下是西班牙巴伦西亚区域）"
   ]
  },
  {
   "cell_type": "code",
   "execution_count": 15,
   "id": "97d76984",
   "metadata": {},
   "outputs": [
    {
     "data": {
      "text/html": [
       "\n",
       "            <style>\n",
       "                .geemap-dark {\n",
       "                    --jp-widgets-color: white;\n",
       "                    --jp-widgets-label-color: white;\n",
       "                    --jp-ui-font-color1: white;\n",
       "                    --jp-layout-color2: #454545;\n",
       "                    background-color: #383838;\n",
       "                }\n",
       "\n",
       "                .geemap-dark .jupyter-button {\n",
       "                    --jp-layout-color3: #383838;\n",
       "                }\n",
       "\n",
       "                .geemap-colab {\n",
       "                    background-color: var(--colab-primary-surface-color, white);\n",
       "                }\n",
       "\n",
       "                .geemap-colab .jupyter-button {\n",
       "                    --jp-layout-color3: var(--colab-primary-surface-color, white);\n",
       "                }\n",
       "            </style>\n",
       "            "
      ],
      "text/plain": [
       "<IPython.core.display.HTML object>"
      ]
     },
     "metadata": {},
     "output_type": "display_data"
    },
    {
     "name": "stdout",
     "output_type": "stream",
     "text": [
      "找到满足条件的 Sentinel-1 影像数量: 133\n",
      "['2022-08-26T17:54:58', '2022-08-31T18:02:53', '2022-09-07T17:54:59', '2022-09-12T18:02:54', '2022-09-19T17:54:59', '2022-09-24T18:02:54', '2022-10-01T17:54:59', '2022-10-06T18:02:54', '2022-10-13T17:54:59', '2022-10-25T17:55:00', '2022-10-30T18:02:54', '2022-11-06T17:54:59', '2022-11-11T18:02:54', '2022-11-18T17:54:59', '2022-11-23T18:02:54', '2022-11-30T17:54:58', '2022-12-05T18:02:53', '2022-12-12T17:54:58', '2022-12-17T18:02:52', '2022-12-24T17:54:57', '2022-12-29T18:02:52', '2023-01-05T17:54:57', '2023-01-10T18:02:51', '2023-01-17T17:54:56', '2023-01-22T18:02:51', '2023-01-29T17:54:56', '2023-02-03T18:02:51', '2023-02-10T17:54:55', '2023-02-15T18:02:50', '2023-02-22T17:54:55', '2023-02-27T18:02:50', '2023-03-06T17:54:55', '2023-03-11T18:02:50', '2023-03-18T17:54:55', '2023-03-23T18:02:50', '2023-03-30T17:54:55', '2023-04-04T18:02:50', '2023-04-11T17:54:56', '2023-04-16T18:02:51', '2023-04-23T17:54:56', '2023-04-28T18:02:51', '2023-05-05T17:54:57', '2023-05-10T18:02:52', '2023-05-17T17:54:58', '2023-05-22T18:02:53', '2023-05-29T17:54:58', '2023-06-03T18:02:53', '2023-06-10T17:54:59', '2023-06-15T18:02:54', '2023-06-22T17:54:59', '2023-06-27T18:02:54', '2023-07-04T17:55:00', '2023-07-09T18:02:55', '2023-07-16T17:55:01', '2023-07-21T18:02:56', '2023-07-28T17:55:02', '2023-08-02T18:02:56', '2023-08-09T17:55:01', '2023-08-14T18:02:57', '2023-08-21T17:55:03', '2023-08-26T18:02:58', '2023-09-02T17:55:04', '2023-09-07T18:02:59', '2023-09-14T17:55:04', '2023-09-19T18:02:59', '2023-09-26T17:55:04', '2023-10-01T18:02:59', '2023-10-08T17:55:04', '2023-10-13T18:02:59', '2023-10-20T17:55:05', '2023-10-25T18:02:59', '2023-11-01T17:55:04', '2023-11-06T18:02:59', '2023-11-13T17:55:04', '2023-11-18T18:02:59', '2023-11-25T17:55:03', '2023-11-30T18:02:58', '2023-12-07T17:55:03', '2023-12-12T18:02:58', '2023-12-19T17:55:02', '2023-12-24T18:02:57', '2023-12-31T17:55:02', '2024-01-05T18:02:56', '2024-01-12T17:55:01', '2024-01-17T18:02:56', '2024-01-24T17:55:01', '2024-01-29T18:02:56', '2024-02-05T17:55:00', '2024-02-10T18:02:55', '2024-02-17T17:55:00', '2024-02-22T18:02:55', '2024-02-29T17:55:00', '2024-03-05T18:02:55', '2024-03-12T17:55:00', '2024-03-17T18:02:55', '2024-03-24T17:55:01', '2024-03-29T18:02:56', '2024-04-05T17:55:01', '2024-04-10T18:02:55', '2024-04-17T17:55:01', '2024-04-22T18:02:56', '2024-04-29T17:55:02', '2024-05-04T18:02:57', '2024-05-11T17:55:02', '2024-05-16T18:02:57', '2024-05-23T17:55:02', '2024-05-28T18:02:56', '2024-06-04T17:55:01', '2024-06-09T18:02:56', '2024-06-16T17:55:01', '2024-06-21T18:02:55', '2024-06-28T17:55:00', '2024-07-03T18:02:55', '2024-07-10T17:55:00', '2024-07-15T18:02:54', '2024-07-22T17:54:59', '2024-07-27T18:02:54', '2024-08-03T17:54:59', '2024-08-08T18:02:54', '2024-08-15T17:54:59', '2024-08-20T18:02:54', '2024-08-27T17:55:00', '2024-09-01T18:02:54', '2024-09-08T17:55:00', '2024-09-13T18:02:55', '2024-09-20T17:55:00', '2024-09-25T18:02:55', '2024-10-02T17:55:00', '2024-10-07T18:02:56', '2024-10-14T17:55:01', '2024-10-19T18:02:56', '2024-10-26T17:55:01', '2024-10-31T18:02:56']\n"
     ]
    }
   ],
   "source": [
    "targdate = '2024-10-31'   # 目标日期 (需要根据实际数据可用性验证或微调)\n",
    "basestart = '2023-11-20'  # 基线开始日期\n",
    "baseend = '2024-09-10'   # 基线结束日期\n",
    "\n",
    "# !!! (可选) 替换硬编码的 aoi2 !!!\n",
    "# 如果你决定使用固定的 valencia_aoi，在这里替换：\n",
    "#aoi3 = ee.Geometry.Rectangle([-0.55, 39.35, -0.30, 39.50]) # 新的巴伦西亚AOI\n",
    "# !!! 更好的做法是完全不用 aoi2，下面 filterBounds 直接用 analysis_aoi !!!\n",
    "\n",
    "filters = [\n",
    "    ee.Filter.listContains(\"transmitterReceiverPolarisation\", \"VV\"),\n",
    "    ee.Filter.listContains(\"transmitterReceiverPolarisation\", \"VH\"), # 如果需要VH也取消注释\n",
    "    ee.Filter.equals(\"instrumentMode\", \"IW\"),\n",
    "    # !!! 重要：检查轨道方向 !!!\n",
    "    # 需要确认 targdate 前后过境巴伦西亚的 S1 影像是升轨还是降轨\n",
    "    # 可能需要改为 'DESCENDING'，或不加这个过滤器以获取所有轨道\n",
    "    ee.Filter.equals(\"orbitProperties_pass\", \"ASCENDING\"), # <--- 可能需要修改或移除!\n",
    "    # 时间过滤器现在是动态的，覆盖基线期和目标期，无需修改\n",
    "    ee.Filter.date('2022-08-21', ee.Date(targdate).advance(1, 'day'))\n",
    "]\n",
    "\n",
    "# 加载S1数据并计算Z分数\n",
    "s1 = ee.ImageCollection(\"COPERNICUS/S1_GRD\") \\\n",
    "    .filter(filters) \\\n",
    "    .filterBounds(roi_choose1) # !!! 使用统一的 analysis_aoi !!!\n",
    "\n",
    "\n",
    "\n",
    "# 检查是否有影像满足条件\n",
    "s1_size = s1.size().getInfo()\n",
    "print(f\"找到满足条件的 Sentinel-1 影像数量: {s1_size}\")\n",
    "if s1_size == 0:\n",
    "    print(\"警告：未找到满足条件的影像，请检查时间范围、AOI 或轨道方向过滤器！\")\n",
    "print(s1.aggregate_array('system:time_start').map(lambda t: ee.Date(t).format()).getInfo())\n",
    "\n",
    "# Z 分数计算 (轨道方向参数需要与上面 filter 保持一致)\n",
    "# orbit_direction = \"ASCENDING\" # <--- 如果上面修改了这里也要改\n",
    "orbit_direction = \"ASCENDING\" if ee.Filter.equals(\"orbitProperties_pass\", \"ASCENDING\") in filters else \"DESCENDING\" #或者更灵活的方式\n",
    "z = calc_zscore(s1, basestart, baseend, 'IW', orbit_direction)\n",
    "rz = calc_robust_zscore(s1, basestart, baseend, 'IW', orbit_direction)\n",
    "\n",
    "\n",
    "MAD = calc_basemad(s1, basestart, baseend, 'IW', orbit_direction)"
   ]
  },
  {
   "cell_type": "markdown",
   "id": "9f6ce0d6",
   "metadata": {},
   "source": [
    "# 5.对照方法"
   ]
  },
  {
   "cell_type": "markdown",
   "id": "c07553af",
   "metadata": {},
   "source": [
    "## 5.1 全局OTSU阈值结合JRC永久水体掩膜修正"
   ]
  },
  {
   "cell_type": "code",
   "execution_count": 16,
   "id": "63ac8a43",
   "metadata": {},
   "outputs": [
    {
     "data": {
      "text/html": [
       "\n",
       "            <style>\n",
       "                .geemap-dark {\n",
       "                    --jp-widgets-color: white;\n",
       "                    --jp-widgets-label-color: white;\n",
       "                    --jp-ui-font-color1: white;\n",
       "                    --jp-layout-color2: #454545;\n",
       "                    background-color: #383838;\n",
       "                }\n",
       "\n",
       "                .geemap-dark .jupyter-button {\n",
       "                    --jp-layout-color3: #383838;\n",
       "                }\n",
       "\n",
       "                .geemap-colab {\n",
       "                    background-color: var(--colab-primary-surface-color, white);\n",
       "                }\n",
       "\n",
       "                .geemap-colab .jupyter-button {\n",
       "                    --jp-layout-color3: var(--colab-primary-surface-color, white);\n",
       "                }\n",
       "            </style>\n",
       "            "
      ],
      "text/plain": [
       "<IPython.core.display.HTML object>"
      ]
     },
     "metadata": {},
     "output_type": "display_data"
    }
   ],
   "source": [
    "# --- 1. 定义您提供的Otsu函数 ---\n",
    "# (这是您在原始代码中编写的、在GEE服务器端运行的Otsu算法)\n",
    "def otsu(histogram):\n",
    "  histogram = ee.Dictionary(histogram);\n",
    "  counts = ee.Array(histogram.get('histogram'))\n",
    "  means = ee.Array(histogram.get('bucketMeans'))\n",
    "  size = means.length().get([0])\n",
    "  total = counts.reduce(ee.Reducer.sum(), [0]).get([0])\n",
    "  sum = means.multiply(counts).reduce(ee.Reducer.sum(), [0]).get([0])\n",
    "  mean = sum.divide(total)\n",
    "  \n",
    "  indices = ee.List.sequence(1, size)\n",
    "  \n",
    "  def compute_bss(i):\n",
    "    aCounts = counts.slice(0, 0, i)\n",
    "    aCount = aCounts.reduce(ee.Reducer.sum(), [0]).get([0])\n",
    "    aMeans = means.slice(0, 0, i)\n",
    "    aMean = aMeans.multiply(aCounts).reduce(ee.Reducer.sum(), [0]).get([0]).divide(aCount)\n",
    "    bCount = total.subtract(aCount)\n",
    "    bMean = sum.subtract(aCount.multiply(aMean)).divide(bCount)\n",
    "    return aCount.multiply(aMean.subtract(mean).pow(2)).add(bCount.multiply(bMean.subtract(mean).pow(2)))\n",
    "\n",
    "  bss = indices.map(compute_bss)\n",
    "  \n",
    "  return means.sort(bss).get([-1])"
   ]
  },
  {
   "cell_type": "code",
   "execution_count": 17,
   "id": "bbdc5abe",
   "metadata": {},
   "outputs": [
    {
     "data": {
      "text/html": [
       "\n",
       "            <style>\n",
       "                .geemap-dark {\n",
       "                    --jp-widgets-color: white;\n",
       "                    --jp-widgets-label-color: white;\n",
       "                    --jp-ui-font-color1: white;\n",
       "                    --jp-layout-color2: #454545;\n",
       "                    background-color: #383838;\n",
       "                }\n",
       "\n",
       "                .geemap-dark .jupyter-button {\n",
       "                    --jp-layout-color3: #383838;\n",
       "                }\n",
       "\n",
       "                .geemap-colab {\n",
       "                    background-color: var(--colab-primary-surface-color, white);\n",
       "                }\n",
       "\n",
       "                .geemap-colab .jupyter-button {\n",
       "                    --jp-layout-color3: var(--colab-primary-surface-color, white);\n",
       "                }\n",
       "            </style>\n",
       "            "
      ],
      "text/plain": [
       "<IPython.core.display.HTML object>"
      ]
     },
     "metadata": {},
     "output_type": "display_data"
    },
    {
     "name": "stdout",
     "output_type": "stream",
     "text": [
      "在 2024-10-31 找到 1 景影像，将合并后进行处理。\n",
      "加载JRC全球地表水数据...\n",
      "永久性水体掩膜创建完成 (occurrence > 90%)。\n",
      "正在计算影像直方图...\n",
      "计算出的全局Otsu阈值为: -10.4616 dB\n",
      "已从Otsu结果中移除永久性水体，生成最终洪水图。\n",
      "正在准备可视化地图...\n"
     ]
    },
    {
     "data": {
      "application/vnd.jupyter.widget-view+json": {
       "model_id": "6a045744479b44c39c644cb441fb7400",
       "version_major": 2,
       "version_minor": 0
      },
      "text/plain": [
       "Map(center=[39.464247445638335, -0.4191310000180092], controls=(WidgetControl(options=['position', 'transparen…"
      ]
     },
     "metadata": {},
     "output_type": "display_data"
    }
   ],
   "source": [
    "\n",
    "# --- 2. 获取洪水目标日的SAR影像 ---\n",
    "target_date_ee = ee.Date(targdate)\n",
    "s1_target_collection = s1.filterDate(target_date_ee, target_date_ee.advance(1, 'day'))\n",
    "\n",
    "target_image_size = s1_target_collection.size().getInfo()\n",
    "if target_image_size == 0:\n",
    "    print(f\"错误：在目标日期 {targdate} 未找到任何Sentinel-1影像，无法执行Otsu法。\")\n",
    "else:\n",
    "    print(f\"在 {targdate} 找到 {target_image_size} 景影像，将合并后进行处理。\")\n",
    "    kernel_radius = 2\n",
    "    sar_image_for_otsu = s1_target_collection.select('VV').mosaic().clip(roi_choose1)\\\n",
    "                                             .focal_mean(radius = kernel_radius, units='pixels')\n",
    "\n",
    "    # --- 3. 加载JRC永久水体数据并创建掩膜 ---\n",
    "    print(\"加载JRC全球地表水数据...\")\n",
    "    jrc_water = ee.Image('JRC/GSW1_4/GlobalSurfaceWater')\n",
    "    \n",
    "    # 核心修正\n",
    "    # 使用.unmask(0)将所有无数据的像元(如陆地)赋值为0\n",
    "    occurrence_unmasked = jrc_water.select('occurrence').unmask(0)\n",
    "    \n",
    "    permanent_water_mask = occurrence_unmasked.gt(90)\n",
    "    print(\"永久性水体掩膜创建完成 (occurrence > 90%)。\")\n",
    "\n",
    "    # --- 4. 计算Otsu阈值并提取初始水体 ---\n",
    "    print(\"正在计算影像直方图...\")\n",
    "    histogram_dict = sar_image_for_otsu.reduceRegion(\n",
    "        reducer=ee.Reducer.histogram(255, 0.1), # buckets, maxBuckets\n",
    "        geometry=roi_choose1,\n",
    "        scale=30,\n",
    "        maxPixels=1e10\n",
    "    )\n",
    "    \n",
    "    # !!! 核心修正：调用您自己定义的 otsu 函数 !!!\n",
    "    otsu_threshold = otsu(histogram_dict.get('VV'))\n",
    "    \n",
    "    otsu_threshold_value = otsu_threshold.getInfo()\n",
    "    print(f\"计算出的全局Otsu阈值为: {otsu_threshold_value:.4f} dB\")\n",
    "    \n",
    "    initial_water_otsu = sar_image_for_otsu.lt(otsu_threshold_value)\n",
    "\n",
    "    # --- 5. 移除永久性水体，得到最终洪水范围 ---\n",
    "    flood_map_otsu = initial_water_otsu.And(permanent_water_mask.Not())\n",
    "    print(\"已从Otsu结果中移除永久性水体，生成最终洪水图。\")\n",
    "\n",
    "    # --- 6. 可视化结果 ---\n",
    "    print(\"正在准备可视化地图...\")\n",
    "    Map_Otsu = geemap.Map()\n",
    "    Map_Otsu.centerObject(roi_choose1, 11)\n",
    "\n",
    "    sar_vis_params = {'min': -25, 'max': 0}\n",
    "    water_vis_params = {'palette': ['#0000FF']}\n",
    "\n",
    "    Map_Otsu.addLayer(sar_image_for_otsu, sar_vis_params, f'SAR Image ({targdate})')\n",
    "    Map_Otsu.addLayer(permanent_water_mask.selfMask(), {'palette': ['#CCCCCC']}, 'JRC Permanent Water (>90%)')\n",
    "    Map_Otsu.addLayer(initial_water_otsu.selfMask(), {'palette': ['#FFFF00']}, 'Initial Water (Otsu)')\n",
    "    Map_Otsu.addLayer(flood_map_otsu.selfMask(), water_vis_params, 'Final Flood (Otsu - JRC)')\n",
    "    \n",
    "    display(Map_Otsu)"
   ]
  },
  {
   "cell_type": "markdown",
   "id": "d30cdef4",
   "metadata": {},
   "source": [
    "## 5.2 采用K-Means方法监督"
   ]
  },
  {
   "cell_type": "code",
   "execution_count": 21,
   "id": "ac22fe51",
   "metadata": {},
   "outputs": [
    {
     "data": {
      "text/html": [
       "\n",
       "            <style>\n",
       "                .geemap-dark {\n",
       "                    --jp-widgets-color: white;\n",
       "                    --jp-widgets-label-color: white;\n",
       "                    --jp-ui-font-color1: white;\n",
       "                    --jp-layout-color2: #454545;\n",
       "                    background-color: #383838;\n",
       "                }\n",
       "\n",
       "                .geemap-dark .jupyter-button {\n",
       "                    --jp-layout-color3: #383838;\n",
       "                }\n",
       "\n",
       "                .geemap-colab {\n",
       "                    background-color: var(--colab-primary-surface-color, white);\n",
       "                }\n",
       "\n",
       "                .geemap-colab .jupyter-button {\n",
       "                    --jp-layout-color3: var(--colab-primary-surface-color, white);\n",
       "                }\n",
       "            </style>\n",
       "            "
      ],
      "text/plain": [
       "<IPython.core.display.HTML object>"
      ]
     },
     "metadata": {},
     "output_type": "display_data"
    },
    {
     "name": "stdout",
     "output_type": "stream",
     "text": [
      "正在计算 VV/VH 比值和 VV+VH 和值特征...\n",
      "4维特征影像创建完成: [VV, VH, ratio, sum]\n",
      "正在从特征影像中随机采样 5000 个点用于训练...\n",
      "正在对整个研究区进行分类...\n",
      "正在识别水体类别\n",
      "识别完成！水体类别ID为: 2 (平均VV值为: -20.1734)\n",
      "已从K-Means结果中移除永久性水体，生成最终洪水图。\n",
      "正在准备可视化地图...\n"
     ]
    },
    {
     "data": {
      "application/vnd.jupyter.widget-view+json": {
       "model_id": "a6eb9ce11c4349af9665fcec61b6088b",
       "version_major": 2,
       "version_minor": 0
      },
      "text/plain": [
       "Map(center=[39.41956382721997, -0.431725495619315], controls=(WidgetControl(options=['position', 'transparent_…"
      ]
     },
     "execution_count": 21,
     "metadata": {},
     "output_type": "execute_result"
    }
   ],
   "source": [
    "sar_image_dual = s1_target_collection.select(['VV','VH']).mosaic().clip(roi_choose1)\n",
    "\n",
    "# --- 1. 特征工程：计算比值和和值并合并波段 ---\n",
    "print(\"正在计算 VV/VH 比值和 VV+VH 和值特征...\")\n",
    "    \n",
    "# 提取VV和VH波段，方便进行计算\n",
    "vv_band = sar_image_dual.select('VV')\n",
    "vh_band = sar_image_dual.select('VH')\n",
    "    \n",
    "# 计算比值 (Ratio): VV / VH\n",
    "# 比值可以放大水体和部分植被的差异\n",
    "ratio_band = vv_band.divide(vh_band).rename('ratio')\n",
    "    \n",
    "# 计算和值 (Sum): VV + VH\n",
    "# 和值可以综合反映总体的后向散射能量\n",
    "sum_band = vv_band.add(vh_band).rename('sum')\n",
    "    \n",
    "# 将四个特征波段合并成一个多维特征影像\n",
    "feature_image = ee.Image.cat([vv_band, vh_band, ratio_band, sum_band])\n",
    "    \n",
    "print(\"4维特征影像创建完成: [VV, VH, ratio, sum]\")\n",
    "\n",
    "# --- 2. K-Means聚类 ---\n",
    "num_clusters = 5 # 对于4维特征，聚类数为5\n",
    "num_samples = 5000\n",
    "print(f\"正在从特征影像中随机采样 {num_samples} 个点用于训练...\")\n",
    "training_samples = feature_image.sample(\n",
    "        region=roi_choose1,\n",
    "        scale=10,\n",
    "        numPixels=num_samples,\n",
    "        seed=0 # 添加一个随机种子确保每次运行结果一致\n",
    "    )\n",
    "\n",
    "# 初始化并训练K-Means聚类器\n",
    "clusterer = ee.Clusterer.wekaKMeans(num_clusters).train(training_samples)\n",
    "\n",
    "# 使用训练好的聚类器对整个特征影像分类\n",
    "print(\"正在对整个研究区进行分类...\")\n",
    "clustered_image = feature_image.cluster(clusterer)\n",
    "\n",
    "# --- 3.自动识别水体类别 ---\n",
    "# 基于水体聚类VV平均值最低的原则，识别水体类\n",
    "print(\"正在识别水体类别\")\n",
    "\n",
    "# 创建一个图像，波段1是每个像元VV值，波段2是聚类ID，这样可以统计哪个id对应的聚类平均VV最低\n",
    "sort_image = feature_image.select('VV').addBands(clustered_image)\n",
    "\n",
    "# 根据聚类id统计各类别VV均值\n",
    "# 得到的是一个列表:{cluster:1,mean:-19.7}这样的\n",
    "means_dict = sort_image.reduceRegion(\n",
    "    reducer = ee.Reducer.mean().group(groupField=1 , groupName='cluster'),\n",
    "    geometry = roi_choose1,\n",
    "    scale = 30,\n",
    "    maxPixels = 1e9\n",
    ")\n",
    "\n",
    "# 在客户端寻找mean值最小的类别\n",
    "groups = ee.List(means_dict.get('groups')).getInfo()\n",
    "min_mean = float('inf') #初始值设置为无穷大\n",
    "water_cluster_id = -1\n",
    "# 冒泡排序\n",
    "for group in groups:\n",
    "    if group['mean'] < min_mean:\n",
    "        min_mean = group['mean']\n",
    "        water_cluster_id = group['cluster']\n",
    "\n",
    "if water_cluster_id != -1:\n",
    "    print(f\"识别完成！水体类别ID为: {water_cluster_id} (平均VV值为: {min_mean:.4f})\")\n",
    "    initial_water_kmeans = clustered_image.eq(water_cluster_id)\n",
    "else:\n",
    "    print(\"错误：未能成功识别水体类别。\")\n",
    "    # 创建一个空影像以避免后续代码出错\n",
    "    initial_water_kmeans = ee.Image(0).selfMask()\n",
    "\n",
    " # --- 5. 移除永久性水体 ---\n",
    "jrc_water = ee.Image('JRC/GSW1_4/GlobalSurfaceWater')\n",
    "occurrence_unmasked = jrc_water.select('occurrence').unmask(0)\n",
    "permanent_water_mask = occurrence_unmasked.gt(90)\n",
    "    \n",
    "flood_map_kmeans = initial_water_kmeans.And(permanent_water_mask.Not())\n",
    "print(\"已从K-Means结果中移除永久性水体，生成最终洪水图。\")\n",
    "\n",
    "# --- 6. 可视化结果 ---\n",
    "print(\"正在准备可视化地图...\")\n",
    "Map_KMeans_New = geemap.Map()\n",
    "Map_KMeans_New.centerObject(roi_choose1, 11)\n",
    "\n",
    "sar_vis_params = {'min': -25, 'max': 0}\n",
    "water_vis_params = {'palette': ['#0000FF']}\n",
    "cluster_palette = ['#FF0000', '#00FF00', '#0000FF', '#FFFF00', '#FF00FF', '#00FFFF']\n",
    "cluster_vis_params = {'min': 0, 'max': num_clusters - 1, 'palette': cluster_palette[:num_clusters]}\n",
    "\n",
    "Map_KMeans_New.addLayer(sar_image_dual.select('VV'), sar_vis_params, f'SAR Image VV ({targdate})')\n",
    "Map_KMeans_New.addLayer(clustered_image, cluster_vis_params, 'K-Means Clusters (Ratio/Sum)')\n",
    "Map_KMeans_New.addLayer(initial_water_kmeans.selfMask(), {'palette': ['#FFFF00']}, 'Initial Water (K-Means)')\n",
    "Map_KMeans_New.addLayer(flood_map_kmeans.selfMask(), water_vis_params, 'Final Flood (K-Means Ratio/Sum - JRC)')\n",
    "\n",
    "Map_KMeans_New\n",
    "    \n",
    "\n",
    "\n",
    "\n"
   ]
  },
  {
   "cell_type": "markdown",
   "id": "f4741769",
   "metadata": {},
   "source": [
    "## 5.3 Z分数固定阈值分割洪水\n",
    "\n"
   ]
  },
  {
   "cell_type": "code",
   "execution_count": 17,
   "id": "ef3b60e2",
   "metadata": {},
   "outputs": [
    {
     "data": {
      "text/html": [
       "\n",
       "            <style>\n",
       "                .geemap-dark {\n",
       "                    --jp-widgets-color: white;\n",
       "                    --jp-widgets-label-color: white;\n",
       "                    --jp-ui-font-color1: white;\n",
       "                    --jp-layout-color2: #454545;\n",
       "                    background-color: #383838;\n",
       "                }\n",
       "\n",
       "                .geemap-dark .jupyter-button {\n",
       "                    --jp-layout-color3: #383838;\n",
       "                }\n",
       "\n",
       "                .geemap-colab {\n",
       "                    background-color: var(--colab-primary-surface-color, white);\n",
       "                }\n",
       "\n",
       "                .geemap-colab .jupyter-button {\n",
       "                    --jp-layout-color3: var(--colab-primary-surface-color, white);\n",
       "                }\n",
       "            </style>\n",
       "            "
      ],
      "text/plain": [
       "<IPython.core.display.HTML object>"
      ]
     },
     "metadata": {},
     "output_type": "display_data"
    },
    {
     "name": "stdout",
     "output_type": "stream",
     "text": [
      "正在应用固定的Z-Score阈值: Z < -2.5\n",
      "已从Z-Score阈值结果中移除永久性水体，生成最终洪水图。\n",
      "正在准备可视化地图...\n"
     ]
    },
    {
     "data": {
      "application/vnd.jupyter.widget-view+json": {
       "model_id": "f47f390ce7bb426d9ca391e6f2ee4958",
       "version_major": 2,
       "version_minor": 0
      },
      "text/plain": [
       "Map(center=[39.41956382721997, -0.431725495619315], controls=(WidgetControl(options=['position', 'transparent_…"
      ]
     },
     "execution_count": 17,
     "metadata": {},
     "output_type": "execute_result"
    }
   ],
   "source": [
    "z_score_image = z.map(lambda image: image.clip(roi_choose1)).mosaic().select('VV')\n",
    "\n",
    "Z_THRESHOLD = -2.5\n",
    "\n",
    "print(f\"正在应用固定的Z-Score阈值: Z < {Z_THRESHOLD}\")\n",
    "    \n",
    "# 应用阈值：Z-Score值低于阈值的像元被分类为水体 (值为1)\n",
    "initial_water_zscore = z_score_image.lt(Z_THRESHOLD)\n",
    "\n",
    "# --- 3. 移除永久性水体 ---\n",
    "# (此逻辑与其他对照方法完全相同)\n",
    "jrc_water = ee.Image('JRC/GSW1_4/GlobalSurfaceWater')\n",
    "occurrence_unmasked = jrc_water.select('occurrence').unmask(0)\n",
    "permanent_water_mask = occurrence_unmasked.gt(90)\n",
    "    \n",
    "flood_map_zscore = initial_water_zscore.And(permanent_water_mask.Not())\n",
    "print(\"已从Z-Score阈值结果中移除永久性水体，生成最终洪水图。\")\n",
    "\n",
    "# --- 4. 可视化结果 ---\n",
    "print(\"正在准备可视化地图...\")\n",
    "Map_ZScore_Threshold = geemap.Map()\n",
    "Map_ZScore_Threshold.centerObject(roi_choose1, 11)\n",
    "\n",
    "# Z-Score影像的可视化参数 (使用你论文中统一的配色)\n",
    "zpalette = ['#b2182b','#ef8a62','#fddbc7','#f7f7f7','#d1e5f0','#67a9cf','#2166ac']\n",
    "z_score_vis_params = {'min': -5, 'max': 5, 'palette': zpalette}\n",
    "    \n",
    "# 水体的可视化参数\n",
    "water_vis_params = {'palette': ['#0000FF']}\n",
    "\n",
    "# 添加图层以便对比\n",
    "Map_ZScore_Threshold.addLayer(z_score_image, z_score_vis_params, f'Z-Score Image ({targdate})')\n",
    "Map_ZScore_Threshold.addLayer(initial_water_zscore.selfMask(), {'palette': ['#FFFF00']}, f'Initial Water (Z < {Z_THRESHOLD})')\n",
    "Map_ZScore_Threshold.addLayer(flood_map_zscore.selfMask(), water_vis_params, 'Final Flood (Z-Score Threshold - JRC)')\n",
    "    \n",
    "Map_ZScore_Threshold"
   ]
  },
  {
   "cell_type": "markdown",
   "id": "ce59340f",
   "metadata": {},
   "source": [
    "# 6.导出对照方法结果\n"
   ]
  },
  {
   "cell_type": "code",
   "execution_count": 19,
   "id": "6fe22986",
   "metadata": {},
   "outputs": [
    {
     "data": {
      "text/html": [
       "\n",
       "            <style>\n",
       "                .geemap-dark {\n",
       "                    --jp-widgets-color: white;\n",
       "                    --jp-widgets-label-color: white;\n",
       "                    --jp-ui-font-color1: white;\n",
       "                    --jp-layout-color2: #454545;\n",
       "                    background-color: #383838;\n",
       "                }\n",
       "\n",
       "                .geemap-dark .jupyter-button {\n",
       "                    --jp-layout-color3: #383838;\n",
       "                }\n",
       "\n",
       "                .geemap-colab {\n",
       "                    background-color: var(--colab-primary-surface-color, white);\n",
       "                }\n",
       "\n",
       "                .geemap-colab .jupyter-button {\n",
       "                    --jp-layout-color3: var(--colab-primary-surface-color, white);\n",
       "                }\n",
       "            </style>\n",
       "            "
      ],
      "text/plain": [
       "<IPython.core.display.HTML object>"
      ]
     },
     "metadata": {},
     "output_type": "display_data"
    },
    {
     "name": "stdout",
     "output_type": "stream",
     "text": [
      "所有文件将被导出到Google Drive的 'Flood_Comparison_Results_2024-10-31' 文件夹中。\n",
      "请稍后前往GEE Code Editor的 'Tasks' 标签页手动运行所有任务。\n",
      "  > 成功提交影像 'Flood_Map_Otsu_JRC.tif' 的导出任务。\n",
      "  > 成功提交影像 'Flood_Map_KMeans_JRC.tif' 的导出任务。\n",
      "  > 成功提交影像 'Flood_Map_ZScore_JRC.tif' 的导出任务。\n"
     ]
    }
   ],
   "source": [
    "# --- 1. 定义通用的导出参数 ---\n",
    "\n",
    "# 定义一个统一的文件夹名，所有结果都会保存在这里\n",
    "# 使用目标日期命名，方便归档\n",
    "folder_name = f\"Flood_Comparison_Results_{targdate}\"\n",
    "\n",
    "# 定义导出分辨率 (米)\n",
    "export_scale = 10 \n",
    "\n",
    "# 定义导出区域\n",
    "export_region = roi_choose1 # 使用.geometry()确保传递的是纯几何对象\n",
    "\n",
    "print(f\"所有文件将被导出到Google Drive的 '{folder_name}' 文件夹中。\")\n",
    "print(\"请稍后前往GEE Code Editor的 'Tasks' 标签页手动运行所有任务。\")\n",
    "\n",
    "# --- 2. 创建一个待导出影像的字典 ---\n",
    "# 这样做代码更整洁，方便管理\n",
    "# 键(key)是文件名，值(value)是影像对象\n",
    "image_exports = {\n",
    "    'Flood_Map_Otsu_JRC': 'flood_map_otsu',\n",
    "    'Flood_Map_KMeans_JRC': 'flood_map_kmeans',\n",
    "    'Flood_Map_ZScore_JRC': 'flood_map_zscore'\n",
    "}\n",
    "\n",
    "# --- 3. 循环提交导出任务 ---\n",
    "\n",
    "for filename, image_var_name in image_exports.items():\n",
    "    \n",
    "    # 检查影像变量是否存在，以防某个方法之前运行失败\n",
    "    if image_var_name in globals():\n",
    "        \n",
    "        # 从全局变量中获取影像对象\n",
    "        image_to_export = globals()[image_var_name]\n",
    "        \n",
    "        # 准备任务\n",
    "        task = ee.batch.Export.image.toDrive(\n",
    "            # 将二值影像转为Byte类型，可以极大减小文件体积\n",
    "            image=image_to_export.toByte().clip(export_region), \n",
    "            description=f'Export_{filename}', # GEE Tasks面板中显示的任务名\n",
    "            folder=folder_name,\n",
    "            fileNamePrefix=filename, # 最终的文件名\n",
    "            region=export_region,\n",
    "            scale=export_scale,\n",
    "            fileFormat='GeoTIFF',\n",
    "            maxPixels=1e13 \n",
    "        )\n",
    "        \n",
    "        # 启动任务\n",
    "        task.start()\n",
    "        \n",
    "        print(f\"  > 成功提交影像 '{filename}.tif' 的导出任务。\")\n",
    "    \n",
    "    else:\n",
    "        print(f\"  > 警告：未找到名为 '{image_var_name}' 的影像变量，跳过导出。\")"
   ]
  }
 ],
 "metadata": {
  "kernelspec": {
   "display_name": ".venv",
   "language": "python",
   "name": "python3"
  },
  "language_info": {
   "codemirror_mode": {
    "name": "ipython",
    "version": 3
   },
   "file_extension": ".py",
   "mimetype": "text/x-python",
   "name": "python",
   "nbconvert_exporter": "python",
   "pygments_lexer": "ipython3",
   "version": "3.11.2"
  }
 },
 "nbformat": 4,
 "nbformat_minor": 5
}
